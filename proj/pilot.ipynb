{
 "cells": [
  {
   "cell_type": "markdown",
   "source": [
    "# Final Demo"
   ],
   "metadata": {}
  },
  {
   "cell_type": "markdown",
   "source": [
    "## Load Library"
   ],
   "metadata": {}
  },
  {
   "cell_type": "code",
   "execution_count": 1,
   "source": [
    "import fasttext\n",
    "import csv\n",
    "import MeCab\n",
    "import random\n",
    "import numpy as np\n",
    "\n",
    "import torch\n",
    "import gluonnlp as nlp\n",
    "from kobert.utils import get_tokenizer\n",
    "from kobert.pytorch_kobert import get_pytorch_kobert_model\n",
    "from CustomModel import BERTClassifier\n",
    "\n",
    "from text import Text, Word\n",
    "from attacks import GreedyAttack, GeneticAttack, PSOAttack, PerturbBaseline"
   ],
   "outputs": [],
   "metadata": {}
  },
  {
   "cell_type": "code",
   "execution_count": 24,
   "source": [
    "import importlib\n",
    "import attacks\n",
    "attacks = importlib.reload(attacks)\n",
    "GeneticAttack = attacks.GeneticAttack\n",
    "GreedyAttack = attacks.GreedyAttack\n",
    "PSOAttack = attacks.PSOAttack\n",
    "PerturbBaseline = attacks.PerturbBaseline"
   ],
   "outputs": [],
   "metadata": {}
  },
  {
   "cell_type": "code",
   "execution_count": 2,
   "source": [
    "# load documents\n",
    "data_path = '/home/ubuntu/workspace/kaist.sbse/proj/data/ratings_test.txt'\n",
    "ids, documents, targets = [], [], []\n",
    "with open(data_path, 'r') as f:\n",
    "    lines = list(csv.reader(f, delimiter='\\t'))\n",
    "    header = lines.pop(0)\n",
    "    for line in lines:\n",
    "        ids.append(line[0])\n",
    "        documents.append(line[1])\n",
    "        targets.append(int(line[2]))"
   ],
   "outputs": [],
   "metadata": {}
  },
  {
   "cell_type": "code",
   "execution_count": 2,
   "source": [
    "# load embedding model\n",
    "embedding_model = fasttext.load_model('/home/ubuntu/workspace/kaist.sbse/proj/data/cc.ko.300.bin')"
   ],
   "outputs": [
    {
     "output_type": "stream",
     "name": "stderr",
     "text": [
      "Warning : `load_model` does not return WordVectorModel or SupervisedModel any more, but a `FastText` object which is very similar.\n"
     ]
    }
   ],
   "metadata": {}
  },
  {
   "cell_type": "code",
   "execution_count": 3,
   "source": [
    "# load Mecab\n",
    "tagger = MeCab.Tagger('-d /home/ubuntu/workspace/kaist.sbse/mecab-ko-dic-2.1.1-20180720')"
   ],
   "outputs": [],
   "metadata": {}
  },
  {
   "cell_type": "markdown",
   "source": [
    "## Document Data EDA"
   ],
   "metadata": {}
  },
  {
   "cell_type": "code",
   "execution_count": 11,
   "source": [
    "import matplotlib.pyplot as plt"
   ],
   "outputs": [],
   "metadata": {}
  },
  {
   "cell_type": "code",
   "execution_count": 5,
   "source": [
    "# filter documents\n",
    "doc_leng = [len(d.split()) for d in documents]\n",
    "print(np.mean(doc_leng))"
   ],
   "outputs": [
    {
     "output_type": "stream",
     "name": "stdout",
     "text": [
      "7.60944\n"
     ]
    }
   ],
   "metadata": {}
  },
  {
   "cell_type": "code",
   "execution_count": 10,
   "source": [
    "hist = plt.hist(doc_leng, bins=10)\n",
    "\n",
    "plt.title('document length', pad=10)\n",
    "plt.xlabel('X axis', labelpad=10)\n",
    "plt.ylabel('Y axis', labelpad=10)\n",
    "\n",
    "plt.show()"
   ],
   "outputs": [
    {
     "output_type": "display_data",
     "data": {
      "text/plain": [
       "<Figure size 432x288 with 1 Axes>"
      ],
      "image/svg+xml": "<?xml version=\"1.0\" encoding=\"utf-8\" standalone=\"no\"?>\n<!DOCTYPE svg PUBLIC \"-//W3C//DTD SVG 1.1//EN\"\n  \"http://www.w3.org/Graphics/SVG/1.1/DTD/svg11.dtd\">\n<svg height=\"287.314375pt\" version=\"1.1\" viewBox=\"0 0 407.690625 287.314375\" width=\"407.690625pt\" xmlns=\"http://www.w3.org/2000/svg\" xmlns:xlink=\"http://www.w3.org/1999/xlink\">\n <metadata>\n  <rdf:RDF xmlns:cc=\"http://creativecommons.org/ns#\" xmlns:dc=\"http://purl.org/dc/elements/1.1/\" xmlns:rdf=\"http://www.w3.org/1999/02/22-rdf-syntax-ns#\">\n   <cc:Work>\n    <dc:type rdf:resource=\"http://purl.org/dc/dcmitype/StillImage\"/>\n    <dc:date>2021-08-17T05:30:23.508991</dc:date>\n    <dc:format>image/svg+xml</dc:format>\n    <dc:creator>\n     <cc:Agent>\n      <dc:title>Matplotlib v3.4.3, https://matplotlib.org/</dc:title>\n     </cc:Agent>\n    </dc:creator>\n   </cc:Work>\n  </rdf:RDF>\n </metadata>\n <defs>\n  <style type=\"text/css\">*{stroke-linecap:butt;stroke-linejoin:round;}</style>\n </defs>\n <g id=\"figure_1\">\n  <g id=\"patch_1\">\n   <path d=\"M 0 287.314375 \nL 407.690625 287.314375 \nL 407.690625 0 \nL 0 0 \nz\n\" style=\"fill:none;\"/>\n  </g>\n  <g id=\"axes_1\">\n   <g id=\"patch_2\">\n    <path d=\"M 65.690625 243.758125 \nL 400.490625 243.758125 \nL 400.490625 26.318125 \nL 65.690625 26.318125 \nz\n\" style=\"fill:#ffffff;\"/>\n   </g>\n   <g id=\"patch_3\">\n    <path clip-path=\"url(#pe89d612440)\" d=\"M 80.908807 243.758125 \nL 111.34517 243.758125 \nL 111.34517 36.672411 \nL 80.908807 36.672411 \nz\n\" style=\"fill:#1f77b4;\"/>\n   </g>\n   <g id=\"patch_4\">\n    <path clip-path=\"url(#pe89d612440)\" d=\"M 111.34517 243.758125 \nL 141.781534 243.758125 \nL 141.781534 59.734655 \nL 111.34517 59.734655 \nz\n\" style=\"fill:#1f77b4;\"/>\n   </g>\n   <g id=\"patch_5\">\n    <path clip-path=\"url(#pe89d612440)\" d=\"M 141.781534 243.758125 \nL 172.217898 243.758125 \nL 172.217898 164.607178 \nL 141.781534 164.607178 \nz\n\" style=\"fill:#1f77b4;\"/>\n   </g>\n   <g id=\"patch_6\">\n    <path clip-path=\"url(#pe89d612440)\" d=\"M 172.217898 243.758125 \nL 202.654261 243.758125 \nL 202.654261 216.282054 \nL 172.217898 216.282054 \nz\n\" style=\"fill:#1f77b4;\"/>\n   </g>\n   <g id=\"patch_7\">\n    <path clip-path=\"url(#pe89d612440)\" d=\"M 202.654261 243.758125 \nL 233.090625 243.758125 \nL 233.090625 225.396606 \nL 202.654261 225.396606 \nz\n\" style=\"fill:#1f77b4;\"/>\n   </g>\n   <g id=\"patch_8\">\n    <path clip-path=\"url(#pe89d612440)\" d=\"M 233.090625 243.758125 \nL 263.526989 243.758125 \nL 263.526989 228.375939 \nL 233.090625 228.375939 \nz\n\" style=\"fill:#1f77b4;\"/>\n   </g>\n   <g id=\"patch_9\">\n    <path clip-path=\"url(#pe89d612440)\" d=\"M 263.526989 243.758125 \nL 293.963352 243.758125 \nL 293.963352 233.153906 \nL 263.526989 233.153906 \nz\n\" style=\"fill:#1f77b4;\"/>\n   </g>\n   <g id=\"patch_10\">\n    <path clip-path=\"url(#pe89d612440)\" d=\"M 293.963352 243.758125 \nL 324.399716 243.758125 \nL 324.399716 236.177378 \nL 293.963352 236.177378 \nz\n\" style=\"fill:#1f77b4;\"/>\n   </g>\n   <g id=\"patch_11\">\n    <path clip-path=\"url(#pe89d612440)\" d=\"M 324.399716 243.758125 \nL 354.83608 243.758125 \nL 354.83608 241.849145 \nL 324.399716 241.849145 \nz\n\" style=\"fill:#1f77b4;\"/>\n   </g>\n   <g id=\"patch_12\">\n    <path clip-path=\"url(#pe89d612440)\" d=\"M 354.83608 243.758125 \nL 385.272443 243.758125 \nL 385.272443 243.603641 \nL 354.83608 243.603641 \nz\n\" style=\"fill:#1f77b4;\"/>\n   </g>\n   <g id=\"matplotlib.axis_1\">\n    <g id=\"xtick_1\">\n     <g id=\"line2d_1\">\n      <defs>\n       <path d=\"M 0 0 \nL 0 3.5 \n\" id=\"m88c75f31ea\" style=\"stroke:#000000;stroke-width:0.8;\"/>\n      </defs>\n      <g>\n       <use style=\"stroke:#000000;stroke-width:0.8;\" x=\"80.908807\" xlink:href=\"#m88c75f31ea\" y=\"243.758125\"/>\n      </g>\n     </g>\n     <g id=\"text_1\">\n      <!-- 0 -->\n      <g transform=\"translate(77.727557 258.356563)scale(0.1 -0.1)\">\n       <defs>\n        <path d=\"M 2034 4250 \nQ 1547 4250 1301 3770 \nQ 1056 3291 1056 2328 \nQ 1056 1369 1301 889 \nQ 1547 409 2034 409 \nQ 2525 409 2770 889 \nQ 3016 1369 3016 2328 \nQ 3016 3291 2770 3770 \nQ 2525 4250 2034 4250 \nz\nM 2034 4750 \nQ 2819 4750 3233 4129 \nQ 3647 3509 3647 2328 \nQ 3647 1150 3233 529 \nQ 2819 -91 2034 -91 \nQ 1250 -91 836 529 \nQ 422 1150 422 2328 \nQ 422 3509 836 4129 \nQ 1250 4750 2034 4750 \nz\n\" id=\"DejaVuSans-30\" transform=\"scale(0.015625)\"/>\n       </defs>\n       <use xlink:href=\"#DejaVuSans-30\"/>\n      </g>\n     </g>\n    </g>\n    <g id=\"xtick_2\">\n     <g id=\"line2d_2\">\n      <g>\n       <use style=\"stroke:#000000;stroke-width:0.8;\" x=\"153.376339\" xlink:href=\"#m88c75f31ea\" y=\"243.758125\"/>\n      </g>\n     </g>\n     <g id=\"text_2\">\n      <!-- 10 -->\n      <g transform=\"translate(147.013839 258.356563)scale(0.1 -0.1)\">\n       <defs>\n        <path d=\"M 794 531 \nL 1825 531 \nL 1825 4091 \nL 703 3866 \nL 703 4441 \nL 1819 4666 \nL 2450 4666 \nL 2450 531 \nL 3481 531 \nL 3481 0 \nL 794 0 \nL 794 531 \nz\n\" id=\"DejaVuSans-31\" transform=\"scale(0.015625)\"/>\n       </defs>\n       <use xlink:href=\"#DejaVuSans-31\"/>\n       <use x=\"63.623047\" xlink:href=\"#DejaVuSans-30\"/>\n      </g>\n     </g>\n    </g>\n    <g id=\"xtick_3\">\n     <g id=\"line2d_3\">\n      <g>\n       <use style=\"stroke:#000000;stroke-width:0.8;\" x=\"225.843872\" xlink:href=\"#m88c75f31ea\" y=\"243.758125\"/>\n      </g>\n     </g>\n     <g id=\"text_3\">\n      <!-- 20 -->\n      <g transform=\"translate(219.481372 258.356563)scale(0.1 -0.1)\">\n       <defs>\n        <path d=\"M 1228 531 \nL 3431 531 \nL 3431 0 \nL 469 0 \nL 469 531 \nQ 828 903 1448 1529 \nQ 2069 2156 2228 2338 \nQ 2531 2678 2651 2914 \nQ 2772 3150 2772 3378 \nQ 2772 3750 2511 3984 \nQ 2250 4219 1831 4219 \nQ 1534 4219 1204 4116 \nQ 875 4013 500 3803 \nL 500 4441 \nQ 881 4594 1212 4672 \nQ 1544 4750 1819 4750 \nQ 2544 4750 2975 4387 \nQ 3406 4025 3406 3419 \nQ 3406 3131 3298 2873 \nQ 3191 2616 2906 2266 \nQ 2828 2175 2409 1742 \nQ 1991 1309 1228 531 \nz\n\" id=\"DejaVuSans-32\" transform=\"scale(0.015625)\"/>\n       </defs>\n       <use xlink:href=\"#DejaVuSans-32\"/>\n       <use x=\"63.623047\" xlink:href=\"#DejaVuSans-30\"/>\n      </g>\n     </g>\n    </g>\n    <g id=\"xtick_4\">\n     <g id=\"line2d_4\">\n      <g>\n       <use style=\"stroke:#000000;stroke-width:0.8;\" x=\"298.311404\" xlink:href=\"#m88c75f31ea\" y=\"243.758125\"/>\n      </g>\n     </g>\n     <g id=\"text_4\">\n      <!-- 30 -->\n      <g transform=\"translate(291.948904 258.356563)scale(0.1 -0.1)\">\n       <defs>\n        <path d=\"M 2597 2516 \nQ 3050 2419 3304 2112 \nQ 3559 1806 3559 1356 \nQ 3559 666 3084 287 \nQ 2609 -91 1734 -91 \nQ 1441 -91 1130 -33 \nQ 819 25 488 141 \nL 488 750 \nQ 750 597 1062 519 \nQ 1375 441 1716 441 \nQ 2309 441 2620 675 \nQ 2931 909 2931 1356 \nQ 2931 1769 2642 2001 \nQ 2353 2234 1838 2234 \nL 1294 2234 \nL 1294 2753 \nL 1863 2753 \nQ 2328 2753 2575 2939 \nQ 2822 3125 2822 3475 \nQ 2822 3834 2567 4026 \nQ 2313 4219 1838 4219 \nQ 1578 4219 1281 4162 \nQ 984 4106 628 3988 \nL 628 4550 \nQ 988 4650 1302 4700 \nQ 1616 4750 1894 4750 \nQ 2613 4750 3031 4423 \nQ 3450 4097 3450 3541 \nQ 3450 3153 3228 2886 \nQ 3006 2619 2597 2516 \nz\n\" id=\"DejaVuSans-33\" transform=\"scale(0.015625)\"/>\n       </defs>\n       <use xlink:href=\"#DejaVuSans-33\"/>\n       <use x=\"63.623047\" xlink:href=\"#DejaVuSans-30\"/>\n      </g>\n     </g>\n    </g>\n    <g id=\"xtick_5\">\n     <g id=\"line2d_5\">\n      <g>\n       <use style=\"stroke:#000000;stroke-width:0.8;\" x=\"370.778937\" xlink:href=\"#m88c75f31ea\" y=\"243.758125\"/>\n      </g>\n     </g>\n     <g id=\"text_5\">\n      <!-- 40 -->\n      <g transform=\"translate(364.416437 258.356563)scale(0.1 -0.1)\">\n       <defs>\n        <path d=\"M 2419 4116 \nL 825 1625 \nL 2419 1625 \nL 2419 4116 \nz\nM 2253 4666 \nL 3047 4666 \nL 3047 1625 \nL 3713 1625 \nL 3713 1100 \nL 3047 1100 \nL 3047 0 \nL 2419 0 \nL 2419 1100 \nL 313 1100 \nL 313 1709 \nL 2253 4666 \nz\n\" id=\"DejaVuSans-34\" transform=\"scale(0.015625)\"/>\n       </defs>\n       <use xlink:href=\"#DejaVuSans-34\"/>\n       <use x=\"63.623047\" xlink:href=\"#DejaVuSans-30\"/>\n      </g>\n     </g>\n    </g>\n    <g id=\"text_6\">\n     <!-- X axis -->\n     <g transform=\"translate(218.059375 278.034688)scale(0.1 -0.1)\">\n      <defs>\n       <path d=\"M 403 4666 \nL 1081 4666 \nL 2241 2931 \nL 3406 4666 \nL 4084 4666 \nL 2584 2425 \nL 4184 0 \nL 3506 0 \nL 2194 1984 \nL 872 0 \nL 191 0 \nL 1856 2491 \nL 403 4666 \nz\n\" id=\"DejaVuSans-58\" transform=\"scale(0.015625)\"/>\n       <path id=\"DejaVuSans-20\" transform=\"scale(0.015625)\"/>\n       <path d=\"M 2194 1759 \nQ 1497 1759 1228 1600 \nQ 959 1441 959 1056 \nQ 959 750 1161 570 \nQ 1363 391 1709 391 \nQ 2188 391 2477 730 \nQ 2766 1069 2766 1631 \nL 2766 1759 \nL 2194 1759 \nz\nM 3341 1997 \nL 3341 0 \nL 2766 0 \nL 2766 531 \nQ 2569 213 2275 61 \nQ 1981 -91 1556 -91 \nQ 1019 -91 701 211 \nQ 384 513 384 1019 \nQ 384 1609 779 1909 \nQ 1175 2209 1959 2209 \nL 2766 2209 \nL 2766 2266 \nQ 2766 2663 2505 2880 \nQ 2244 3097 1772 3097 \nQ 1472 3097 1187 3025 \nQ 903 2953 641 2809 \nL 641 3341 \nQ 956 3463 1253 3523 \nQ 1550 3584 1831 3584 \nQ 2591 3584 2966 3190 \nQ 3341 2797 3341 1997 \nz\n\" id=\"DejaVuSans-61\" transform=\"scale(0.015625)\"/>\n       <path d=\"M 3513 3500 \nL 2247 1797 \nL 3578 0 \nL 2900 0 \nL 1881 1375 \nL 863 0 \nL 184 0 \nL 1544 1831 \nL 300 3500 \nL 978 3500 \nL 1906 2253 \nL 2834 3500 \nL 3513 3500 \nz\n\" id=\"DejaVuSans-78\" transform=\"scale(0.015625)\"/>\n       <path d=\"M 603 3500 \nL 1178 3500 \nL 1178 0 \nL 603 0 \nL 603 3500 \nz\nM 603 4863 \nL 1178 4863 \nL 1178 4134 \nL 603 4134 \nL 603 4863 \nz\n\" id=\"DejaVuSans-69\" transform=\"scale(0.015625)\"/>\n       <path d=\"M 2834 3397 \nL 2834 2853 \nQ 2591 2978 2328 3040 \nQ 2066 3103 1784 3103 \nQ 1356 3103 1142 2972 \nQ 928 2841 928 2578 \nQ 928 2378 1081 2264 \nQ 1234 2150 1697 2047 \nL 1894 2003 \nQ 2506 1872 2764 1633 \nQ 3022 1394 3022 966 \nQ 3022 478 2636 193 \nQ 2250 -91 1575 -91 \nQ 1294 -91 989 -36 \nQ 684 19 347 128 \nL 347 722 \nQ 666 556 975 473 \nQ 1284 391 1588 391 \nQ 1994 391 2212 530 \nQ 2431 669 2431 922 \nQ 2431 1156 2273 1281 \nQ 2116 1406 1581 1522 \nL 1381 1569 \nQ 847 1681 609 1914 \nQ 372 2147 372 2553 \nQ 372 3047 722 3315 \nQ 1072 3584 1716 3584 \nQ 2034 3584 2315 3537 \nQ 2597 3491 2834 3397 \nz\n\" id=\"DejaVuSans-73\" transform=\"scale(0.015625)\"/>\n      </defs>\n      <use xlink:href=\"#DejaVuSans-58\"/>\n      <use x=\"68.505859\" xlink:href=\"#DejaVuSans-20\"/>\n      <use x=\"100.292969\" xlink:href=\"#DejaVuSans-61\"/>\n      <use x=\"161.572266\" xlink:href=\"#DejaVuSans-78\"/>\n      <use x=\"220.751953\" xlink:href=\"#DejaVuSans-69\"/>\n      <use x=\"248.535156\" xlink:href=\"#DejaVuSans-73\"/>\n     </g>\n    </g>\n   </g>\n   <g id=\"matplotlib.axis_2\">\n    <g id=\"ytick_1\">\n     <g id=\"line2d_6\">\n      <defs>\n       <path d=\"M 0 0 \nL -3.5 0 \n\" id=\"m79fba102aa\" style=\"stroke:#000000;stroke-width:0.8;\"/>\n      </defs>\n      <g>\n       <use style=\"stroke:#000000;stroke-width:0.8;\" x=\"65.690625\" xlink:href=\"#m79fba102aa\" y=\"243.758125\"/>\n      </g>\n     </g>\n     <g id=\"text_7\">\n      <!-- 0 -->\n      <g transform=\"translate(52.328125 247.557344)scale(0.1 -0.1)\">\n       <use xlink:href=\"#DejaVuSans-30\"/>\n      </g>\n     </g>\n    </g>\n    <g id=\"ytick_2\">\n     <g id=\"line2d_7\">\n      <g>\n       <use style=\"stroke:#000000;stroke-width:0.8;\" x=\"65.690625\" xlink:href=\"#m79fba102aa\" y=\"216.171708\"/>\n      </g>\n     </g>\n     <g id=\"text_8\">\n      <!-- 2500 -->\n      <g transform=\"translate(33.240625 219.970927)scale(0.1 -0.1)\">\n       <defs>\n        <path d=\"M 691 4666 \nL 3169 4666 \nL 3169 4134 \nL 1269 4134 \nL 1269 2991 \nQ 1406 3038 1543 3061 \nQ 1681 3084 1819 3084 \nQ 2600 3084 3056 2656 \nQ 3513 2228 3513 1497 \nQ 3513 744 3044 326 \nQ 2575 -91 1722 -91 \nQ 1428 -91 1123 -41 \nQ 819 9 494 109 \nL 494 744 \nQ 775 591 1075 516 \nQ 1375 441 1709 441 \nQ 2250 441 2565 725 \nQ 2881 1009 2881 1497 \nQ 2881 1984 2565 2268 \nQ 2250 2553 1709 2553 \nQ 1456 2553 1204 2497 \nQ 953 2441 691 2322 \nL 691 4666 \nz\n\" id=\"DejaVuSans-35\" transform=\"scale(0.015625)\"/>\n       </defs>\n       <use xlink:href=\"#DejaVuSans-32\"/>\n       <use x=\"63.623047\" xlink:href=\"#DejaVuSans-35\"/>\n       <use x=\"127.246094\" xlink:href=\"#DejaVuSans-30\"/>\n       <use x=\"190.869141\" xlink:href=\"#DejaVuSans-30\"/>\n      </g>\n     </g>\n    </g>\n    <g id=\"ytick_3\">\n     <g id=\"line2d_8\">\n      <g>\n       <use style=\"stroke:#000000;stroke-width:0.8;\" x=\"65.690625\" xlink:href=\"#m79fba102aa\" y=\"188.585291\"/>\n      </g>\n     </g>\n     <g id=\"text_9\">\n      <!-- 5000 -->\n      <g transform=\"translate(33.240625 192.38451)scale(0.1 -0.1)\">\n       <use xlink:href=\"#DejaVuSans-35\"/>\n       <use x=\"63.623047\" xlink:href=\"#DejaVuSans-30\"/>\n       <use x=\"127.246094\" xlink:href=\"#DejaVuSans-30\"/>\n       <use x=\"190.869141\" xlink:href=\"#DejaVuSans-30\"/>\n      </g>\n     </g>\n    </g>\n    <g id=\"ytick_4\">\n     <g id=\"line2d_9\">\n      <g>\n       <use style=\"stroke:#000000;stroke-width:0.8;\" x=\"65.690625\" xlink:href=\"#m79fba102aa\" y=\"160.998874\"/>\n      </g>\n     </g>\n     <g id=\"text_10\">\n      <!-- 7500 -->\n      <g transform=\"translate(33.240625 164.798093)scale(0.1 -0.1)\">\n       <defs>\n        <path d=\"M 525 4666 \nL 3525 4666 \nL 3525 4397 \nL 1831 0 \nL 1172 0 \nL 2766 4134 \nL 525 4134 \nL 525 4666 \nz\n\" id=\"DejaVuSans-37\" transform=\"scale(0.015625)\"/>\n       </defs>\n       <use xlink:href=\"#DejaVuSans-37\"/>\n       <use x=\"63.623047\" xlink:href=\"#DejaVuSans-35\"/>\n       <use x=\"127.246094\" xlink:href=\"#DejaVuSans-30\"/>\n       <use x=\"190.869141\" xlink:href=\"#DejaVuSans-30\"/>\n      </g>\n     </g>\n    </g>\n    <g id=\"ytick_5\">\n     <g id=\"line2d_10\">\n      <g>\n       <use style=\"stroke:#000000;stroke-width:0.8;\" x=\"65.690625\" xlink:href=\"#m79fba102aa\" y=\"133.412457\"/>\n      </g>\n     </g>\n     <g id=\"text_11\">\n      <!-- 10000 -->\n      <g transform=\"translate(26.878125 137.211676)scale(0.1 -0.1)\">\n       <use xlink:href=\"#DejaVuSans-31\"/>\n       <use x=\"63.623047\" xlink:href=\"#DejaVuSans-30\"/>\n       <use x=\"127.246094\" xlink:href=\"#DejaVuSans-30\"/>\n       <use x=\"190.869141\" xlink:href=\"#DejaVuSans-30\"/>\n       <use x=\"254.492188\" xlink:href=\"#DejaVuSans-30\"/>\n      </g>\n     </g>\n    </g>\n    <g id=\"ytick_6\">\n     <g id=\"line2d_11\">\n      <g>\n       <use style=\"stroke:#000000;stroke-width:0.8;\" x=\"65.690625\" xlink:href=\"#m79fba102aa\" y=\"105.826041\"/>\n      </g>\n     </g>\n     <g id=\"text_12\">\n      <!-- 12500 -->\n      <g transform=\"translate(26.878125 109.625259)scale(0.1 -0.1)\">\n       <use xlink:href=\"#DejaVuSans-31\"/>\n       <use x=\"63.623047\" xlink:href=\"#DejaVuSans-32\"/>\n       <use x=\"127.246094\" xlink:href=\"#DejaVuSans-35\"/>\n       <use x=\"190.869141\" xlink:href=\"#DejaVuSans-30\"/>\n       <use x=\"254.492188\" xlink:href=\"#DejaVuSans-30\"/>\n      </g>\n     </g>\n    </g>\n    <g id=\"ytick_7\">\n     <g id=\"line2d_12\">\n      <g>\n       <use style=\"stroke:#000000;stroke-width:0.8;\" x=\"65.690625\" xlink:href=\"#m79fba102aa\" y=\"78.239624\"/>\n      </g>\n     </g>\n     <g id=\"text_13\">\n      <!-- 15000 -->\n      <g transform=\"translate(26.878125 82.038842)scale(0.1 -0.1)\">\n       <use xlink:href=\"#DejaVuSans-31\"/>\n       <use x=\"63.623047\" xlink:href=\"#DejaVuSans-35\"/>\n       <use x=\"127.246094\" xlink:href=\"#DejaVuSans-30\"/>\n       <use x=\"190.869141\" xlink:href=\"#DejaVuSans-30\"/>\n       <use x=\"254.492188\" xlink:href=\"#DejaVuSans-30\"/>\n      </g>\n     </g>\n    </g>\n    <g id=\"ytick_8\">\n     <g id=\"line2d_13\">\n      <g>\n       <use style=\"stroke:#000000;stroke-width:0.8;\" x=\"65.690625\" xlink:href=\"#m79fba102aa\" y=\"50.653207\"/>\n      </g>\n     </g>\n     <g id=\"text_14\">\n      <!-- 17500 -->\n      <g transform=\"translate(26.878125 54.452426)scale(0.1 -0.1)\">\n       <use xlink:href=\"#DejaVuSans-31\"/>\n       <use x=\"63.623047\" xlink:href=\"#DejaVuSans-37\"/>\n       <use x=\"127.246094\" xlink:href=\"#DejaVuSans-35\"/>\n       <use x=\"190.869141\" xlink:href=\"#DejaVuSans-30\"/>\n       <use x=\"254.492188\" xlink:href=\"#DejaVuSans-30\"/>\n      </g>\n     </g>\n    </g>\n    <g id=\"text_15\">\n     <!-- Y axis -->\n     <g transform=\"translate(14.798437 149.698281)rotate(-90)scale(0.1 -0.1)\">\n      <defs>\n       <path d=\"M -13 4666 \nL 666 4666 \nL 1959 2747 \nL 3244 4666 \nL 3922 4666 \nL 2272 2222 \nL 2272 0 \nL 1638 0 \nL 1638 2222 \nL -13 4666 \nz\n\" id=\"DejaVuSans-59\" transform=\"scale(0.015625)\"/>\n      </defs>\n      <use xlink:href=\"#DejaVuSans-59\"/>\n      <use x=\"61.083984\" xlink:href=\"#DejaVuSans-20\"/>\n      <use x=\"92.871094\" xlink:href=\"#DejaVuSans-61\"/>\n      <use x=\"154.150391\" xlink:href=\"#DejaVuSans-78\"/>\n      <use x=\"213.330078\" xlink:href=\"#DejaVuSans-69\"/>\n      <use x=\"241.113281\" xlink:href=\"#DejaVuSans-73\"/>\n     </g>\n    </g>\n   </g>\n   <g id=\"patch_13\">\n    <path d=\"M 65.690625 243.758125 \nL 65.690625 26.318125 \n\" style=\"fill:none;stroke:#000000;stroke-linecap:square;stroke-linejoin:miter;stroke-width:0.8;\"/>\n   </g>\n   <g id=\"patch_14\">\n    <path d=\"M 400.490625 243.758125 \nL 400.490625 26.318125 \n\" style=\"fill:none;stroke:#000000;stroke-linecap:square;stroke-linejoin:miter;stroke-width:0.8;\"/>\n   </g>\n   <g id=\"patch_15\">\n    <path d=\"M 65.690625 243.758125 \nL 400.490625 243.758125 \n\" style=\"fill:none;stroke:#000000;stroke-linecap:square;stroke-linejoin:miter;stroke-width:0.8;\"/>\n   </g>\n   <g id=\"patch_16\">\n    <path d=\"M 65.690625 26.318125 \nL 400.490625 26.318125 \n\" style=\"fill:none;stroke:#000000;stroke-linecap:square;stroke-linejoin:miter;stroke-width:0.8;\"/>\n   </g>\n   <g id=\"text_16\">\n    <!-- document length -->\n    <g transform=\"translate(181.785937 16.318125)scale(0.12 -0.12)\">\n     <defs>\n      <path d=\"M 2906 2969 \nL 2906 4863 \nL 3481 4863 \nL 3481 0 \nL 2906 0 \nL 2906 525 \nQ 2725 213 2448 61 \nQ 2172 -91 1784 -91 \nQ 1150 -91 751 415 \nQ 353 922 353 1747 \nQ 353 2572 751 3078 \nQ 1150 3584 1784 3584 \nQ 2172 3584 2448 3432 \nQ 2725 3281 2906 2969 \nz\nM 947 1747 \nQ 947 1113 1208 752 \nQ 1469 391 1925 391 \nQ 2381 391 2643 752 \nQ 2906 1113 2906 1747 \nQ 2906 2381 2643 2742 \nQ 2381 3103 1925 3103 \nQ 1469 3103 1208 2742 \nQ 947 2381 947 1747 \nz\n\" id=\"DejaVuSans-64\" transform=\"scale(0.015625)\"/>\n      <path d=\"M 1959 3097 \nQ 1497 3097 1228 2736 \nQ 959 2375 959 1747 \nQ 959 1119 1226 758 \nQ 1494 397 1959 397 \nQ 2419 397 2687 759 \nQ 2956 1122 2956 1747 \nQ 2956 2369 2687 2733 \nQ 2419 3097 1959 3097 \nz\nM 1959 3584 \nQ 2709 3584 3137 3096 \nQ 3566 2609 3566 1747 \nQ 3566 888 3137 398 \nQ 2709 -91 1959 -91 \nQ 1206 -91 779 398 \nQ 353 888 353 1747 \nQ 353 2609 779 3096 \nQ 1206 3584 1959 3584 \nz\n\" id=\"DejaVuSans-6f\" transform=\"scale(0.015625)\"/>\n      <path d=\"M 3122 3366 \nL 3122 2828 \nQ 2878 2963 2633 3030 \nQ 2388 3097 2138 3097 \nQ 1578 3097 1268 2742 \nQ 959 2388 959 1747 \nQ 959 1106 1268 751 \nQ 1578 397 2138 397 \nQ 2388 397 2633 464 \nQ 2878 531 3122 666 \nL 3122 134 \nQ 2881 22 2623 -34 \nQ 2366 -91 2075 -91 \nQ 1284 -91 818 406 \nQ 353 903 353 1747 \nQ 353 2603 823 3093 \nQ 1294 3584 2113 3584 \nQ 2378 3584 2631 3529 \nQ 2884 3475 3122 3366 \nz\n\" id=\"DejaVuSans-63\" transform=\"scale(0.015625)\"/>\n      <path d=\"M 544 1381 \nL 544 3500 \nL 1119 3500 \nL 1119 1403 \nQ 1119 906 1312 657 \nQ 1506 409 1894 409 \nQ 2359 409 2629 706 \nQ 2900 1003 2900 1516 \nL 2900 3500 \nL 3475 3500 \nL 3475 0 \nL 2900 0 \nL 2900 538 \nQ 2691 219 2414 64 \nQ 2138 -91 1772 -91 \nQ 1169 -91 856 284 \nQ 544 659 544 1381 \nz\nM 1991 3584 \nL 1991 3584 \nz\n\" id=\"DejaVuSans-75\" transform=\"scale(0.015625)\"/>\n      <path d=\"M 3328 2828 \nQ 3544 3216 3844 3400 \nQ 4144 3584 4550 3584 \nQ 5097 3584 5394 3201 \nQ 5691 2819 5691 2113 \nL 5691 0 \nL 5113 0 \nL 5113 2094 \nQ 5113 2597 4934 2840 \nQ 4756 3084 4391 3084 \nQ 3944 3084 3684 2787 \nQ 3425 2491 3425 1978 \nL 3425 0 \nL 2847 0 \nL 2847 2094 \nQ 2847 2600 2669 2842 \nQ 2491 3084 2119 3084 \nQ 1678 3084 1418 2786 \nQ 1159 2488 1159 1978 \nL 1159 0 \nL 581 0 \nL 581 3500 \nL 1159 3500 \nL 1159 2956 \nQ 1356 3278 1631 3431 \nQ 1906 3584 2284 3584 \nQ 2666 3584 2933 3390 \nQ 3200 3197 3328 2828 \nz\n\" id=\"DejaVuSans-6d\" transform=\"scale(0.015625)\"/>\n      <path d=\"M 3597 1894 \nL 3597 1613 \nL 953 1613 \nQ 991 1019 1311 708 \nQ 1631 397 2203 397 \nQ 2534 397 2845 478 \nQ 3156 559 3463 722 \nL 3463 178 \nQ 3153 47 2828 -22 \nQ 2503 -91 2169 -91 \nQ 1331 -91 842 396 \nQ 353 884 353 1716 \nQ 353 2575 817 3079 \nQ 1281 3584 2069 3584 \nQ 2775 3584 3186 3129 \nQ 3597 2675 3597 1894 \nz\nM 3022 2063 \nQ 3016 2534 2758 2815 \nQ 2500 3097 2075 3097 \nQ 1594 3097 1305 2825 \nQ 1016 2553 972 2059 \nL 3022 2063 \nz\n\" id=\"DejaVuSans-65\" transform=\"scale(0.015625)\"/>\n      <path d=\"M 3513 2113 \nL 3513 0 \nL 2938 0 \nL 2938 2094 \nQ 2938 2591 2744 2837 \nQ 2550 3084 2163 3084 \nQ 1697 3084 1428 2787 \nQ 1159 2491 1159 1978 \nL 1159 0 \nL 581 0 \nL 581 3500 \nL 1159 3500 \nL 1159 2956 \nQ 1366 3272 1645 3428 \nQ 1925 3584 2291 3584 \nQ 2894 3584 3203 3211 \nQ 3513 2838 3513 2113 \nz\n\" id=\"DejaVuSans-6e\" transform=\"scale(0.015625)\"/>\n      <path d=\"M 1172 4494 \nL 1172 3500 \nL 2356 3500 \nL 2356 3053 \nL 1172 3053 \nL 1172 1153 \nQ 1172 725 1289 603 \nQ 1406 481 1766 481 \nL 2356 481 \nL 2356 0 \nL 1766 0 \nQ 1100 0 847 248 \nQ 594 497 594 1153 \nL 594 3053 \nL 172 3053 \nL 172 3500 \nL 594 3500 \nL 594 4494 \nL 1172 4494 \nz\n\" id=\"DejaVuSans-74\" transform=\"scale(0.015625)\"/>\n      <path d=\"M 603 4863 \nL 1178 4863 \nL 1178 0 \nL 603 0 \nL 603 4863 \nz\n\" id=\"DejaVuSans-6c\" transform=\"scale(0.015625)\"/>\n      <path d=\"M 2906 1791 \nQ 2906 2416 2648 2759 \nQ 2391 3103 1925 3103 \nQ 1463 3103 1205 2759 \nQ 947 2416 947 1791 \nQ 947 1169 1205 825 \nQ 1463 481 1925 481 \nQ 2391 481 2648 825 \nQ 2906 1169 2906 1791 \nz\nM 3481 434 \nQ 3481 -459 3084 -895 \nQ 2688 -1331 1869 -1331 \nQ 1566 -1331 1297 -1286 \nQ 1028 -1241 775 -1147 \nL 775 -588 \nQ 1028 -725 1275 -790 \nQ 1522 -856 1778 -856 \nQ 2344 -856 2625 -561 \nQ 2906 -266 2906 331 \nL 2906 616 \nQ 2728 306 2450 153 \nQ 2172 0 1784 0 \nQ 1141 0 747 490 \nQ 353 981 353 1791 \nQ 353 2603 747 3093 \nQ 1141 3584 1784 3584 \nQ 2172 3584 2450 3431 \nQ 2728 3278 2906 2969 \nL 2906 3500 \nL 3481 3500 \nL 3481 434 \nz\n\" id=\"DejaVuSans-67\" transform=\"scale(0.015625)\"/>\n      <path d=\"M 3513 2113 \nL 3513 0 \nL 2938 0 \nL 2938 2094 \nQ 2938 2591 2744 2837 \nQ 2550 3084 2163 3084 \nQ 1697 3084 1428 2787 \nQ 1159 2491 1159 1978 \nL 1159 0 \nL 581 0 \nL 581 4863 \nL 1159 4863 \nL 1159 2956 \nQ 1366 3272 1645 3428 \nQ 1925 3584 2291 3584 \nQ 2894 3584 3203 3211 \nQ 3513 2838 3513 2113 \nz\n\" id=\"DejaVuSans-68\" transform=\"scale(0.015625)\"/>\n     </defs>\n     <use xlink:href=\"#DejaVuSans-64\"/>\n     <use x=\"63.476562\" xlink:href=\"#DejaVuSans-6f\"/>\n     <use x=\"124.658203\" xlink:href=\"#DejaVuSans-63\"/>\n     <use x=\"179.638672\" xlink:href=\"#DejaVuSans-75\"/>\n     <use x=\"243.017578\" xlink:href=\"#DejaVuSans-6d\"/>\n     <use x=\"340.429688\" xlink:href=\"#DejaVuSans-65\"/>\n     <use x=\"401.953125\" xlink:href=\"#DejaVuSans-6e\"/>\n     <use x=\"465.332031\" xlink:href=\"#DejaVuSans-74\"/>\n     <use x=\"504.541016\" xlink:href=\"#DejaVuSans-20\"/>\n     <use x=\"536.328125\" xlink:href=\"#DejaVuSans-6c\"/>\n     <use x=\"564.111328\" xlink:href=\"#DejaVuSans-65\"/>\n     <use x=\"625.634766\" xlink:href=\"#DejaVuSans-6e\"/>\n     <use x=\"689.013672\" xlink:href=\"#DejaVuSans-67\"/>\n     <use x=\"752.490234\" xlink:href=\"#DejaVuSans-74\"/>\n     <use x=\"791.699219\" xlink:href=\"#DejaVuSans-68\"/>\n    </g>\n   </g>\n  </g>\n </g>\n <defs>\n  <clipPath id=\"pe89d612440\">\n   <rect height=\"217.44\" width=\"334.8\" x=\"65.690625\" y=\"26.318125\"/>\n  </clipPath>\n </defs>\n</svg>\n",
      "image/png": "[encoded data removed]"
     },
     "metadata": {
      "needs_background": "light"
     }
    }
   ],
   "metadata": {}
  },
  {
   "cell_type": "code",
   "execution_count": 6,
   "source": [
    "test = [(d, t) for d, t in zip(documents, targets) if len(d.split()) >= 5 and len(d.split()) < 20]\n",
    "print(len(test))"
   ],
   "outputs": [
    {
     "output_type": "stream",
     "name": "stdout",
     "text": [
      "27654\n"
     ]
    }
   ],
   "metadata": {}
  },
  {
   "cell_type": "markdown",
   "source": [
    "## Load Model"
   ],
   "metadata": {}
  },
  {
   "cell_type": "code",
   "execution_count": 7,
   "source": [
    "# load sentiment model\n",
    "if torch.cuda.is_available():\n",
    "    device = torch.device(\"cuda\")\n",
    "else:\n",
    "    device = torch.device(\"cpu\")\n",
    "\n",
    "# ### argument\n",
    "# max_len = 64\n",
    "# batch_size = 64\n",
    "# ###\n",
    "\n",
    "bertmodel, vocab = get_pytorch_kobert_model()\n",
    "tokenizer = get_tokenizer()\n",
    "tok = nlp.data.BERTSPTokenizer(tokenizer, vocab, lower=False)\n",
    "\n",
    "sa_model = BERTClassifier(bertmodel,  dr_rate=0.5).to(device)\n",
    "checkpoint = torch.load('./model/pytorch_model.bin')['model_state_dict']\n",
    "sa_model.load_state_dict(checkpoint)"
   ],
   "outputs": [
    {
     "output_type": "stream",
     "name": "stdout",
     "text": [
      "using cached model\n",
      "using cached model\n",
      "using cached model\n"
     ]
    },
    {
     "output_type": "execute_result",
     "data": {
      "text/plain": [
       "<All keys matched successfully>"
      ]
     },
     "metadata": {},
     "execution_count": 7
    }
   ],
   "metadata": {}
  },
  {
   "cell_type": "markdown",
   "source": [
    "## Attacks"
   ],
   "metadata": {}
  },
  {
   "cell_type": "code",
   "execution_count": 31,
   "source": [
    "# create text obj from documents\n",
    "random.seed(0)\n",
    "sample = random.sample(test, 1)[0]\n",
    "x_orig = sample[0]\n",
    "adv_target = 0 if sample[1] == 1 else 1\n",
    "print(sample, adv_target)"
   ],
   "outputs": [
    {
     "output_type": "stream",
     "name": "stdout",
     "text": [
      "('아니 영화특성상 표현 수위에 그닥 제한을 받지 않을텐데.. 제대로 지르지 못했네요. 재미도 없구요', 0) 1\n"
     ]
    }
   ],
   "metadata": {}
  },
  {
   "cell_type": "code",
   "execution_count": 34,
   "source": [
    "# arguments\n",
    "pop_size = 20\n",
    "max_iters = 10\n",
    "###"
   ],
   "outputs": [],
   "metadata": {}
  },
  {
   "cell_type": "code",
   "execution_count": 32,
   "source": [
    "# run attacks (ga) + check sucess rate\n",
    "ga_attack = GeneticAttack(pop_size=pop_size, max_iters=max_iters, embedding_model=embedding_model, sa_model=sa_model, tokenizer=tok, tagger=tagger)\n",
    "adv = ga_attack.attack(x_orig, adv_target)"
   ],
   "outputs": [
    {
     "output_type": "stream",
     "name": "stdout",
     "text": [
      "0\n",
      "['아니 영화특성상 표현 잣대에 그닥 제한을 받지 않을텐데.. 제대로 지르지 못했네요. 재미도 없구요', '아니 영화특성상 표현 수위에 그닥 제한을 못했죠 않을텐데.. 제대로 지르지 못했네요. 재미도 없구요', '아니 영화특성상 어법 수위에 그닥 제한을 받지 않을텐데.. 제대로 지르지 못했네요. 재미도 없구요', '아니 영화특성상 표현 수위에 그닥 제한을 받지 않을텐데.. 제대로 뚫지 못했네요. 재미도 없구요', '아니 영화특성상 표현 수위에 그닥 적용을 받지 않을텐데.. 제대로 지르지 못했네요. 재미도 없구요', '아니 영화특성상 표현 수위에 그닥 영향을 받지 않을텐데.. 제대로 지르지 못했네요. 재미도 없구요', '아니 영화특성상 표현 표절에 그닥 제한을 받지 않을텐데.. 제대로 지르지 못했네요. 재미도 없구요', '아니 영화특성상 표현 수위에 그닥 제한을 받지 않을텐데.. 제대로 지르지 못했네요. 재미까지 없구요', '아니 영화특성상 표현 수위에 그닥 제한을 받지 않을텐데.. 제대로 울리지 못했네요. 재미도 없구요', '아니 영화특성상 표현 수위에 그닥 제한을 갖지 않을텐데.. 제대로 지르지 못했네요. 재미도 없구요', '아니 영화특성상 표현 수위에 그닥 제약을 받지 않을텐데.. 제대로 지르지 못했네요. 재미도 없구요', '아니 영화특성상 표현 수위에 그닥 제한을 두지 않을텐데.. 제대로 지르지 못했네요. 재미도 없구요', '아니 영화특성상 표현 수위에 그닥 제한을 받지 않을텐데.. 제대로 지르지 못했네요. 손맛도 없구요', '아니 영화특성상 표현 수위에 그닥 제한을 하지 않을텐데.. 제대로 지르지 못했네요. 재미도 없구요', '아니 영화특성상 표현 상한선에 그닥 제한을 받지 않을텐데.. 제대로 지르지 못했네요. 재미도 없구요', '아니 영화특성상 표현 수위에 그닥 제한을 받지 않을텐데.. 제대로 않는구나 못했네요. 재미도 없구요', '아니 영화특성상 표현 수위에 그닥 제한을 받지 않을텐데.. 제대로 달아나지 못했네요. 재미도 없구요', '아니 영화특성상 표현 수위에 그닥 제한을 받지 않을텐데.. 제대로 풍기지 못했네요. 재미도 없구요', '아니 영화특성상 표현 수위에 그닥 체류기간을 받지 않을텐데.. 제대로 지르지 못했네요. 재미도 없구요', '아니 영화특성상 표현 수위에 그닥 규제를 받지 않을텐데.. 제대로 지르지 못했네요. 재미도 없구요']\n"
     ]
    },
    {
     "output_type": "stream",
     "name": "stderr",
     "text": [
      "100%|██████████| 3/3 [00:00<00:00,  7.67it/s]\n"
     ]
    },
    {
     "output_type": "stream",
     "name": "stdout",
     "text": [
      "crossover\n",
      "1\n",
      "['아니 영화특성상 표현 수위에 그닥 체류기간을 받지 않을텐데.. 제대로 지르지 못했네요. 재미도 없구요', '아니 영화특성상 表現 수위에 그닥 제한을 받지 않을텐데.. 제대로 않는구나 못했네요. 재미도 없구요', '아니 영화특성상 표현 수위에 그닥 영향을 받지 않을텐데.. 제대로 지르지 못했네요. 재미도 없어요', '아니 영화특성상 표현 수위에 그닥 제약을 받지 않을텐데.. 제대로 달아나지 못했네요. 재미도 없구요', '아니 영화특성상 표현 수위에 그닥 제한을 받지 않을텐데.. 제대로 지르지 못했네요. 재미는 없구요', '아니 영화특성상 표현 수위에 그닥 제한을 받지 않을텐데.. 제대로 지르지 못했네요. 재미도 없어요', '아니 영화특성상 표현 수위와 그닥 제한을 두지 않을텐데.. 제대로 지르지 못했네요. 재미도 없구요', '아니 영화특성상 표현 수위에 그닥 제약을 받지 않을텐데.. 제대로 지르지 못했네요. 재미도 없구요', '아니 영화특성상 表現 수위에 그닥 제한을 받지 않을텐데.. 제대로 풍기지 못했네요. 재미도 없구요', '아니 영화특성상 表現 수위에 그닥 규제를 받지 않을텐데.. 제대로 지르지 못했네요. 재미도 없구요', '아니 영화특성상 어법 수위에 그닥 제한을 받고 않을텐데.. 제대로 울리지 못했네요. 재미도 없구요', '아니 영화특성상 표현 수위에 그닥 제한을 하지 않을텐데.. 제대로 내뱉지 못했네요. 재미까지 없구요', '아니 영화특성상 표현 수위에 그닥 제한을 받지 않을텐데.. 제대로 뚫지 못했네요. 재미는 없구요', '아니 영화특성상 表現 수위에 그닥 제한을 받지 않을텐데.. 제대로 지르지 못했네요. 손맛도 없구요', '아니 영화특성상 표현 수위에 그닥 적용을 받고 않을텐데.. 제대로 지르지 못했네요. 재미도 없구요', '아니 영화특성상 표현 표절에 그닥 제한을 받지 않을텐데.. 재대로 지르지 못했네요. 재미도 없구요', '아니 영화특성상 표현 수위에 그닥 제약을 받고 않을텐데.. 제대로 지르지 못했네요. 재미도 없구요', '아니 영화특성상 표현 잣대에 그닥 제한을 받지 않을텐데.. 제대로 않는구나 못했네요. 재미도 없어요', '아니 영화특성상 표현 수위에 별루 제한을 받지 않을텐데.. 제대로 울리지 못했네요. 재미도 없구요', '아니 영화특성상 표현 수위에 그닥 제한을 받지 않을텐데.. 제대로 지르지 못했네요. 손맛은 없구요']\n"
     ]
    },
    {
     "output_type": "stream",
     "name": "stderr",
     "text": [
      "100%|██████████| 3/3 [00:00<00:00,  7.75it/s]\n"
     ]
    },
    {
     "output_type": "stream",
     "name": "stdout",
     "text": [
      "crossover\n",
      "2\n",
      "['아니 영화특성상 표현 수위에 그닥 제한을 받지 않을텐데.. 제대로 지르지 못했네요. 손맛은 없구요', '아니 영화특성상 표현 수위에 그닥 적용을 받고 않을텐데.. 제대로 울리지 못했네요. 재미도 없어요', '아니 영화특성상 표현 수위에 그닥 적용을 받고 않을텐데.. 제대로 내뱉지 못했네요. 손맛도 없구요', '아니 영화특성상 표현 수위와 그닥 제한을 두고 않을텐데.. 제대로 지르지 못했네요. 재미도 없구요', '아니 영화특성상 표현 표절에 별루 제한을 받지 않을텐데.. 제대로 지르지 못했네요. 재미도 없구요', '아니 영화특성상 표현 잣대에 그닥 제한을 받아 않을텐데.. 제대로 울리지 못했네요. 재미도 없구요', '아니 영화특성상 표현 수위에 그닥 규제를 받지 않을텐데.. 제대로 지르지 못했네요. 재미도 없구요', '아니 영화특성상 表現 수위에 별루 제한을 받지 않을텐데.. 제대로 풍기지 못했네요. 재미도 없구요', '아니 영화특성상 표현 수위에 그닥 제한을 받지 않을텐데.. 제대로 지르지 못했네요. 재미도 없습니다', '아니 영화특성상 표현 수위에 별루 제한을 받지 않을텐데.. 제대로 뚫지 못했네요. 재미는 없구요', '아니 영화특성상 표현 수위에 별루 제약을 받고 않을텐데.. 제대로 지르지 못했네요. 재미도 없구요', '아니 영화특성상 표현 수위와 그닥 체류기간을 받지 않을텐데.. 제대로 지르지 못했네요. 재미도 없구요', '아니 영화특성상 表現 수위에 그닥 제한을 받지 않을텐데.. 제대로 않는구나 못했네요. 재미는 없구요', '아니 영화특성상 어법 수위에 그닥 제한을 받지 않을텐데.. 제대로 역하지 못했네요. 재미도 없구요', '아니 영화특성상 表現 수위에 그닥 적용을 받고 않을텐데.. 제대로 지르지 못했네요. 재미는 없구요', '아니 영화특성상 表現 수위에 그닥 적용을 받고 않을텐데.. 제대로 지르지 못했네요. 재미도 없구요', '아니 영화특성상 어법 수위에 그닥 제한을 받아 않을텐데.. 제대로 울리지 못했네요. 재미도 없구요', '아니 영화특성상 표현 수위에 그닥 제한을 받지 않을텐데.. 제대로 지르지 못했네요. 재미는 없구요', '아니 영화특성상 표현 표절에 그닥 제한을 받지 않을텐데.. 재대로 내뱉지 못했네요. 재미도 없구요', '아니 영화특성상 表現 수위에 그닥 제한을 받지 않을텐데.. 제대로 지르지 못했네요. 손맛은 없구요']\n"
     ]
    },
    {
     "output_type": "stream",
     "name": "stderr",
     "text": [
      "100%|██████████| 3/3 [00:00<00:00,  7.70it/s]\n"
     ]
    },
    {
     "output_type": "stream",
     "name": "stdout",
     "text": [
      "crossover\n",
      "3\n",
      "['아니 영화특성상 표현 잣대에 그닥 제한을 받아 않을텐데.. 제대로 울리지 못했네요. 재미도 없구요', '아니 영화특성상 표현 수위에 그닥 제한을 받지 않을텐데.. 재대로 지르지 못했네요. 손맛은 없구요', '아니 영화특성상 표현 수위에 그닥 제한을 받고 않을텐데.. 제대로 역하지 못했네요. 재미도 없구요', '아니 영화특성상 표현 수위에 그닥 적용을 받고 않을텐데.. 제대로 내뱉지 못했네요. 손맛도 없어요', '아니 영화특성상 표현 수위에 별루 규제를 받지 않을텐데.. 제대로 지르지 못했네요. 재미도 없어요', '아니 영화특성상 표현 표절에 그닥 제약을 받지 않을텐데.. 재대로 내뱉지 못했네요. 재미도 없구요', '아니 영화특성상 표현 수위와 그닥 제한을 받지 않을텐데.. 제대로 풍기지 못했네요. 재미도 없구요', '아니 영화특성상 표현 수위에 별루 제한을 받아 않을텐데.. 제대로 울리지 못했네요. 재미도 없구요', '아니 영화특성상 표현 폭과 그닥 체류기간을 받지 않을텐데.. 제대로 지르지 못했네요. 재미도 없구요', '아니 영화특성상 표현 수위에 별루 제한을 받지 않을텐데.. 제대로 울리지 못했네요. 재미도 없어요', '아니 영화특성상 표현 수위에 별루 제한을 받지 않을텐데.. 제대로 풍기지 못했네요. 재미도 없어요', '아니 영화특성상 표현 수위에 그닥 제약을 받지 않을텐데.. 제대로 지르지 못했네요. 손맛은 없구요', '아니 영화특성상 표현 수위에 그닥 제한을 받지 않을텐데.. 제대로 지르지 못했네요. 재미도 없어요', '아니 영화특성상 表現 수위에 별루 제한을 받지 않을텐데.. 제대로 지르지 못했네요. 재미도 없구요', '아니 영화특성상 表現 수위에 그닥 제한을 받지 않을텐데.. 제대로 지르지 못했네요. 재미도 없구요', '아니 영화특성상 표현 수위와 그닥 제한을 받아 않을텐데.. 제대로 울리지 못했네요. 재미도 없구요', '아니 영화특성상 表現 수위와 그닥 제한을 받지 않을텐데.. 제대로 뚫지 못했네요. 재미는 없구요', '아니 영화특성상 表現 수위에 별루 제한을 받지 않을텐데.. 제대로 풍기지 못했네요. 재미도 없구요', '아니 영화특성상 表現 수위에 별루 제약을 받고 않을텐데.. 제대로 내뱉지 못했네요. 재미도 없구요', '아니 영화특성상 표현 잣대에 그닥 제한을 받아 않을텐데.. 제대로 울리지 못했네요. 재미는 없습니다']\n"
     ]
    },
    {
     "output_type": "stream",
     "name": "stderr",
     "text": [
      "100%|██████████| 3/3 [00:00<00:00,  7.69it/s]\n"
     ]
    },
    {
     "output_type": "stream",
     "name": "stdout",
     "text": [
      "crossover\n",
      "4\n",
      "['아니 영화특성상 표현 수위에 그닥 제한을 받지 않을텐데.. 재대로 지르지 못했네요. 손맛은 없구요', '아니 영화특성상 표현 수위에 그닥 적용을 받아 않을텐데.. 제대로 내뱉지 못했네요. 재미도 없어요', '아니 영화특성상 표현 수위에 별루 제한을 받지 않을텐데.. 제대로 지르지 못했네요. 재미도 없구요', '아니 영화특성상 표현 잣대에 그닥 제한을 받고 않을텐데.. 제대로 울리지 못했네요. 재미는 없습니다', '아니 영화특성상 표현 수위에 그닥 제약을 받지 않을텐데.. 제대로 지르지 못했네요. 재미도 없어요', '아니 영화특성상 表現 수위에 그닥 제한을 받지 않을텐데.. 재대로 지르지 못했네요. 손맛은 없구요', '아니 영화특성상 표현 잣대에 그닥 제약을 받지 않을텐데.. 재대로 덤비지 못했네요. 재미도 없구요', '아니 영화특성상 표현 수위에 그닥 제약을 받지 않을텐데.. 제대로 역하지 못했네요. 재미도 없어요', '아니 영화특성상 표현 수위와 그닥 제한을 받고 않을텐데.. 제대로 풍기지 못했네요. 재미도 없구요', '아니 영화특성상 表現 수위에 별루 제약을 받지 않을텐데.. 제대로 지르지 못했네요. 손맛은 없구요', '아니 영화특성상 표현 잣대에 별루 제한을 받아 않을텐데.. 제대로 울리지 못했네요. 재미도 없구요', '아니 영화특성상 표현 수위에 그닥 제한을 받지 않을텐데.. 제대로 지르지 못했네요. 재미도 없구요', '아니 영화특성상 표현 수위에 그닥 제한을 받지 않을텐데.. 제대로 지르지 못했네요. 재미도 없어요', '아니 영화특성상 表現 수위에 그닥 제한을 받지 않을텐데.. 재대로 울리지 못했네요. 재미도 없구요', '아니 영화특성상 表現 수위와 별루 제한을 받지 않을텐데.. 제대로 뚫지 못했네요. 재미는 없구요', '아니 영화특성상 表現 수위와 그닥 제한을 받고 않을텐데.. 제대로 울리지 못했네요. 재미도 없구요', '아니 영화특성상 表現 수위와 그닥 제한을 받지 않을텐데.. 제대로 지르지 못했네요. 재미도 없구요', '아니 영화특성상 表現 수위에 그닥 체류기간을 받고 않을텐데.. 제대로 지르지 못했네요. 재미도 없구요', '아니 영화특성상 표현 수위에 별루 제한을 받아 않을텐데.. 재대로 울리지 못했네요. 재미도 없어요', '아니 영화특성상 表現 수위에 별루 제한을 받지 않을텐데.. 재대로 지르지 못했네요. 손맛은 없구요']\n"
     ]
    },
    {
     "output_type": "stream",
     "name": "stderr",
     "text": [
      "100%|██████████| 3/3 [00:00<00:00,  7.64it/s]\n"
     ]
    },
    {
     "output_type": "stream",
     "name": "stdout",
     "text": [
      "crossover\n",
      "5\n",
      "['아니 영화특성상 表現 수위에 별루 제한을 받지 않을텐데.. 재대로 지르지 못했네요. 손맛은 없구요', '아니 영화특성상 표현 수위에 그닥 제한을 받지 않을텐데.. 재대로 지르지 못했네요. 손맛은 없어요', '아니 영화특성상 表現 수위에 별루 제한을 받아 않을텐데.. 재대로 울리지 못했네요. 재미도 없어요', '아니 영화특성상 표현 수위에 그닥 적용을 받아 않을텐데.. 재대로 내뱉지 못했네요. 재미도 없어요', '아니 영화특성상 表現 수위와 그닥 제한을 받고 않을텐데.. 제대로 풍기지 못했네요. 재미도 없구요', '아니 영화특성상 表現 수위에 별루 제약을 받고 않을텐데.. 제대로 지르지 못했네요. 재미는 없습니다', '아니 영화특성상 表現 수위에 그닥 제약을 받지 않을텐데.. 제대로 지르지 못했네요. 재미도 없어요', '아니 영화특성상 表現 수위에 그닥 제한을 받지 않을텐데.. 재대로 울리지 못했네요. 재미도 없구요', '아니 영화특성상 표현 수위에 그닥 제약을 받지 않을텐데.. 제대로 지르지 못했네요. 재미도 없습니다', '아니 영화특성상 표현 수위에 그닥 제한을 받지 않을텐데.. 재대로 울리지 못했네요. 재미는 없습니다', '아니 영화특성상 표현 잣대에 그닥 제한을 받아 않을텐데.. 제대로 울리지 못했네요. 재미도 없구요', '아니 영화특성상 表現 폭과 별루 제한을 받지 않을텐데.. 재대로 지르지 못했네요. 손맛은 없구요', '아니 영화특성상 表現 잣대에 그닥 제한을 받고 않을텐데.. 제대로 지르지 못했네요. 재미도 없구요', '아니 영화특성상 表現 수위와 별루 제한을 받지 않을텐데.. 제대로 걷어내지 못했네요. 재미도 없구요', '아니 영화특성상 표현 수위에 그닥 제한을 받지 않을텐데.. 제대로 지르지 못했네요. 재미도 없구요', '아니 영화특성상 표현 수위에 그닥 제한을 받지 않을텐데.. 제대로 지르지 못했네요. 재미도 없구요', '아니 영화특성상 表現 수위에 그닥 체류기간을 받고 않을텐데.. 제대로 지르지 못했네요. 재미도 없구요', '아니 영화특성상 표현 수위에 그닥 제약을 받지 않을텐데.. 제대로 역하지 못했네요. 손맛도 없구요', '아니 영화특성상 표현 수위에 그닥 제한을 받지 않을텐데.. 재대로 지르지 못했네요. 재미도 없어요', '아니 영화특성상 표현 잣대에 그닥 제한을 받고 않을텐데.. 제대로 울리지 못했네요. 재미도 없어요']\n"
     ]
    },
    {
     "output_type": "stream",
     "name": "stderr",
     "text": [
      "100%|██████████| 3/3 [00:00<00:00,  7.71it/s]\n"
     ]
    },
    {
     "output_type": "stream",
     "name": "stdout",
     "text": [
      "crossover\n",
      "6\n",
      "['아니 영화특성상 표현 수위에 그닥 제한을 받지 않을텐데.. 재대로 지르지 못했네요. 손맛은 없어요', '아니 영화특성상 表現 폭과 그닥 제한을 받지 않을텐데.. 재대로 지르지 못했네요. 손맛은 없구요', '아니 영화특성상 表現 폭과 별루 제약을 받지 않을텐데.. 재대로 지르지 못했네요. 손맛은 없구요', '아니 영화특성상 表現 수위에 별루 제한을 받고 않을텐데.. 재대로 울리지 못했네요. 재미도 없어요', '아니 영화특성상 표현 잣대에 그닥 제한을 받고 않을텐데.. 제대로 지르지 못했네요. 재미도 없어요', '아니 영화특성상 表現 폭과 별루 제한을 받지 않을텐데.. 재대로 지르지 못했네요. 손맛은 없어요', '아니 영화특성상 표현 수위와 그닥 제한을 받지 않을텐데.. 재대로 지르지 못했네요. 손맛은 없어요', '아니 영화특성상 표현 수위에 별루 제한을 받지 않을텐데.. 재대로 지르지 못했네요. 재미도 없구요', '아니 영화특성상 表現 잣대에 별루 제한을 받지 않을텐데.. 재대로 지르지 못했네요. 손맛은 없구요', '아니 영화특성상 표현 잣대와 그닥 제한을 받지 않을텐데.. 제대로 걷어내지 못했네요. 재미도 없구요', '아니 영화특성상 表現 수위와 별루 제한을 받아 않을텐데.. 재대로 내뱉지 못했네요. 재미도 없어요', '아니 영화특성상 表現 수위에 그닥 체류기간을 받아 않을텐데.. 제대로 지르지 못했네요. 재미도 없구요', '아니 영화특성상 표현 수위에 그닥 제약을 받지 않을텐데.. 제대로 역하지 못했네요. 손맛은 없구요', '아니 영화특성상 표현 수위에 그닥 제약을 받지 않을텐데.. 재대로 내뱉지 못했네요. 재미도 없어요', '아니 영화특성상 表現 잣대에 그닥 제한을 받고 않을텐데.. 재대로 지르지 못했네요. 재미도 없어요', '아니 영화특성상 表現 수위에 별루 제한을 받아 않을텐데.. 재대로 울리지 못했네요. 재미도 없습니다', '아니 영화특성상 표현 잣대에 그닥 제한을 받아 않을텐데.. 제대로 내뱉지 못했네요. 재미는 없습니다', '아니 영화특성상 表現 수위와 그닥 체류기간을 받고 않을텐데.. 제대로 지르지 못했네요. 재미도 없구요', '아니 영화특성상 表現 수위에 별루 제약을 받고 않을텐데.. 제대로 지르지 못했네요. 손맛은 없구요', '아니 영화특성상 표현 수위에 그닥 제한을 받아 않을텐데.. 재대로 지르지 못했네요. 재미도 없어요']\n"
     ]
    },
    {
     "output_type": "stream",
     "name": "stderr",
     "text": [
      "100%|██████████| 3/3 [00:00<00:00,  7.53it/s]\n"
     ]
    },
    {
     "output_type": "stream",
     "name": "stdout",
     "text": [
      "crossover\n",
      "7\n",
      "['아니 영화특성상 表現 잣대에 별루 제한을 받지 않을텐데.. 재대로 지르지 못했네요. 손맛은 없구요', '아니 영화특성상 表現 폭과 별루 제약을 받고 않을텐데.. 재대로 지르지 못했네요. 손맛은 없구요', '아니 영화특성상 표현 수위에 그닥 제한을 받아 않을텐데.. 제대로 내뱉지 못했네요. 재미는 없습니다', '아니 영화특성상 표현 수위에 별루 제한을 받지 않을텐데.. 재대로 지르지 못했네요. 재미는 없어요', '아니 영화특성상 表現 잣대에 별루 제약을 받지 않을텐데.. 재대로 지르지 못했네요. 손맛은 없구요', '아니 영화특성상 표현 폭과 그닥 제한을 받지 않을텐데.. 제대로 역하지 못했네요. 손맛은 없구요', '아니 영화특성상 표현 잣대에 별루 제한을 받지 않을텐데.. 제대로 걷어내지 못했네요. 재미도 없구요', '아니 영화특성상 表現 수위에 별루 제한을 받고 않을텐데.. 재대로 지르지 못했네요. 재미도 없구요', '아니 영화특성상 표현 수위에 그닥 제한을 받아 않을텐데.. 재대로 울리지 못했네요. 재미도 없어요', '아니 영화특성상 표현 수위에 그닥 제한을 받지 않을텐데.. 재대로 지르지 못했네요. 재미도 없어요', '아니 영화특성상 표현 잣대에 그닥 제약을 받고 않을텐데.. 제대로 지르지 못했네요. 재미도 없어요', '아니 영화특성상 표현 잣대에 그닥 제한을 받고 않을텐데.. 제대로 내뱉지 못했네요. 손맛은 없구요', '아니 영화특성상 表現 수위에 그닥 제한을 받아 않을텐데.. 재대로 지르지 못했네요. 재미도 없습니다', '아니 영화특성상 表現 폭과 별루 제약을 받지 않을텐데.. 재대로 지르지 못했네요. 손맛은 없어요', '아니 영화특성상 표현 잣대와 그닥 제한을 받고 않을텐데.. 제대로 지르지 못했네요. 손맛은 없구요', '아니 영화특성상 表現 잣대에 그닥 제약을 받고 않을텐데.. 재대로 지르지 못했네요. 재미도 없어요', '아니 영화특성상 表現 수위에 별루 제한을 받고 않을텐데.. 제대로 울리지 못했네요. 재미도 없어요', '아니 영화특성상 表現 잣대에 그닥 제한을 받고 않을텐데.. 제대로 지르지 못했네요. 손맛은 없구요', '아니 영화특성상 표현 잣대에 그닥 제한을 받고 않을텐데.. 재대로 지르지 못했네요. 재미는 없습니다', '아니 영화특성상 표현 수위와 그닥 제한을 받지 않을텐데.. 재대로 지르지 못했네요. 손맛은 없어요']\n"
     ]
    },
    {
     "output_type": "stream",
     "name": "stderr",
     "text": [
      "100%|██████████| 3/3 [00:00<00:00,  7.73it/s]\n"
     ]
    },
    {
     "output_type": "stream",
     "name": "stdout",
     "text": [
      "crossover\n",
      "8\n",
      "['아니 영화특성상 表現 잣대에 별루 제약을 받지 않을텐데.. 재대로 지르지 못했네요. 손맛은 없구요', '아니 영화특성상 表現 수위에 별루 제한을 받고 않을텐데.. 제대로 울리지 못했네요. 재미도 없습니다', '아니 영화특성상 표현 잣대와 그닥 제한을 받고 않을텐데.. 재대로 지르지 못했네요. 손맛은 없구요', '아니 영화특성상 表現 잣대에 별루 제약을 받지 않을텐데.. 재대로 지르지 못했네요. 손맛은 없구요', '아니 영화특성상 표현 수위와 그닥 제약을 받지 않을텐데.. 재대로 지르지 못했네요. 손맛은 없어요', '아니 영화특성상 표현 잣대에 그닥 제약을 받고 않을텐데.. 제대로 내뱉지 못했네요. 재미도 없어요', '아니 영화특성상 表現 잣대에 그닥 제약을 받고 않을텐데.. 재대로 지르지 못했네요. 재미도 없어요', '아니 영화특성상 表現 수위에 별루 제약을 받지 않을텐데.. 재대로 지르지 못했네요. 재미는 없어요', '아니 영화특성상 表現 잣대와 별루 제약을 받지 않을텐데.. 재대로 지르지 못했네요. 재미도 없어요', '아니 영화특성상 표현 수위에 그닥 제한을 받아 않을텐데.. 제대로 지르지 못했네요. 재미도 없어요', '아니 영화특성상 表現 수위에 그닥 제한을 받지 않을텐데.. 재대로 지르지 못했네요. 손맛도 없어요', '아니 영화특성상 表現 폭과 별루 제약을 받지 않을텐데.. 재대로 내뱉지 못했네요. 재미도 없구요', '아니 영화특성상 表現 잣대에 그닥 제약을 받고 않을텐데.. 재대로 지르지 못했네요. 손맛도 없구요', '아니 영화특성상 表現 잣대에 별루 제약을 받지 않을텐데.. 재대로 지르지 못했네요. 손맛은 없어요', '아니 영화특성상 표현 잣대에 그닥 제한을 받고 않을텐데.. 제대로 내뱉지 못했네요. 손맛은 없구요', '아니 영화특성상 表現 잣대에 별루 제한을 받지 않을텐데.. 재대로 지르지 못했네요. 손맛은 없구요', '아니 영화특성상 표현 폭과 그닥 제한을 받지 않을텐데.. 제대로 독하지 못했네요. 손맛은 없구요', '아니 영화특성상 表現 폭과 별루 제약을 받고 않을텐데.. 재대로 울리지 못했네요. 재미도 없어요', '아니 영화특성상 表現 수위에 별루 제약을 받고 않을텐데.. 제대로 울리지 못했네요. 재미도 없어요', '아니 영화특성상 表現 수위에 별루 제한을 받고 않을텐데.. 재대로 내뱉지 못했네요. 재미도 없어요']\n"
     ]
    },
    {
     "output_type": "stream",
     "name": "stderr",
     "text": [
      "100%|██████████| 3/3 [00:00<00:00,  7.67it/s]\n"
     ]
    },
    {
     "output_type": "stream",
     "name": "stdout",
     "text": [
      "crossover\n",
      "9\n",
      "['아니 영화특성상 表現 잣대에 별루 제약을 받지 않을텐데.. 재대로 지르지 못했네요. 손맛은 없어요', '아니 영화특성상 表現 잣대에 그닥 제약을 받고 않을텐데.. 재대로 지르지 못했네요. 손맛도 없구요', '아니 영화특성상 表現 잣대에 별루 제약을 받지 않을텐데.. 재대로 지르지 못했네요. 손맛은 없어요', '아니 영화특성상 表現 수위에 별루 제한을 받고 않을텐데.. 재대로 내뱉지 못했네요. 재미는 없어요', '아니 영화특성상 표현 폭과 그닥 제한을 받지 않을텐데.. 제대로 독하지 못했네요. 손맛은 없습니다', '아니 영화특성상 表現 잣대에 그닥 제한을 받고 않을텐데.. 제대로 내뱉지 못했네요. 손맛은 없구요', '아니 영화특성상 표현 폭과 그닥 제약을 받고 않을텐데.. 재대로 울리지 못했네요. 재미도 없어요', '아니 영화특성상 표현 수위에 별루 제한을 받고 않을텐데.. 재대로 울리지 못했네요. 재미도 없어요', '아니 영화특성상 표현 수위와 그닥 제약을 받지 않을텐데.. 재대로 지르지 못했네요. 손맛도 없어요', '아니 영화특성상 표현 잣대에 별루 제한을 받고 않을텐데.. 제대로 내뱉지 못했네요. 손맛은 없구요', '아니 영화특성상 表現 잣대에 그닥 제한을 받고 않을텐데.. 재대로 지르지 못했네요. 재미도 없어요', '아니 영화특성상 표현 수위와 그닥 제한을 받지 않을텐데.. 재대로 지르지 못했네요. 재미도 없어요', '아니 영화특성상 表現 수위와 별루 제한을 받고 않을텐데.. 제대로 울리지 못했네요. 재미도 없습니다', '아니 영화특성상 표현 잣대에 별루 제약을 받지 않을텐데.. 재대로 지르지 못했네요. 손맛은 없구요', '아니 영화특성상 表現 잣대와 별루 제약을 받지 않을텐데.. 제대로 역하지 못했네요. 손맛은 없구요', '아니 영화특성상 表現 잣대에 별루 제한을 받지 않을텐데.. 제대로 지르지 못했네요. 재미는 없어요', '아니 영화특성상 표현 잣대에 그닥 제약을 받고 않을텐데.. 제대로 울리지 못했네요. 재미도 없어요', '아니 영화특성상 表現 잣대에 그닥 제한을 받고 않을텐데.. 제대로 내뱉지 못했네요. 손맛은 없구요', '아니 영화특성상 表現 잣대와 별루 제한을 받지 않을텐데.. 재대로 지르지 못했네요. 재미도 없어요', '아니 영화특성상 表現 수위에 별루 제한을 받고 않을텐데.. 재대로 덤비지 못했네요. 재미도 없어요']\n"
     ]
    },
    {
     "output_type": "stream",
     "name": "stderr",
     "text": [
      "100%|██████████| 3/3 [00:00<00:00,  7.53it/s]\n"
     ]
    },
    {
     "output_type": "stream",
     "name": "stdout",
     "text": [
      "crossover\n"
     ]
    }
   ],
   "metadata": {}
  },
  {
   "cell_type": "code",
   "execution_count": 33,
   "source": [
    "adv[0].text"
   ],
   "outputs": [
    {
     "output_type": "error",
     "ename": "TypeError",
     "evalue": "'NoneType' object is not subscriptable",
     "traceback": [
      "\u001b[0;31m---------------------------------------------------------------------------\u001b[0m",
      "\u001b[0;31mTypeError\u001b[0m                                 Traceback (most recent call last)",
      "\u001b[0;32m/tmp/ipykernel_26901/767726244.py\u001b[0m in \u001b[0;36m<module>\u001b[0;34m\u001b[0m\n\u001b[0;32m----> 1\u001b[0;31m \u001b[0madv\u001b[0m\u001b[0;34m[\u001b[0m\u001b[0;36m0\u001b[0m\u001b[0;34m]\u001b[0m\u001b[0;34m.\u001b[0m\u001b[0mtext\u001b[0m\u001b[0;34m\u001b[0m\u001b[0;34m\u001b[0m\u001b[0m\n\u001b[0m",
      "\u001b[0;31mTypeError\u001b[0m: 'NoneType' object is not subscriptable"
     ]
    }
   ],
   "metadata": {}
  },
  {
   "cell_type": "code",
   "execution_count": 35,
   "source": [
    "# run attacks (pso) + check sucess rate\n",
    "pso_attack = PSOAttack(pop_size=pop_size, max_iters=max_iters, embedding_model=embedding_model, sa_model=sa_model, tokenizer=tok, tagger=tagger)\n",
    "adv = pso_attack.attack(x_orig, adv_target)"
   ],
   "outputs": [
    {
     "output_type": "stream",
     "name": "stderr",
     "text": [
      "100%|██████████| 3/3 [00:00<00:00,  7.00it/s]\n",
      "100%|██████████| 3/3 [00:00<00:00,  8.48it/s]\n",
      "100%|██████████| 3/3 [00:00<00:00,  8.48it/s]\n",
      "100%|██████████| 3/3 [00:00<00:00,  8.38it/s]\n",
      "100%|██████████| 3/3 [00:00<00:00,  8.46it/s]\n",
      "100%|██████████| 3/3 [00:00<00:00,  8.41it/s]\n",
      "100%|██████████| 3/3 [00:00<00:00,  8.42it/s]\n",
      "100%|██████████| 3/3 [00:00<00:00,  7.86it/s]\n",
      "100%|██████████| 3/3 [00:00<00:00,  8.36it/s]\n",
      "100%|██████████| 3/3 [00:00<00:00,  8.38it/s]\n",
      "100%|██████████| 3/3 [00:00<00:00,  8.38it/s]\n",
      "100%|██████████| 3/3 [00:00<00:00,  8.48it/s]\n",
      "100%|██████████| 3/3 [00:00<00:00,  7.98it/s]\n",
      "100%|██████████| 3/3 [00:00<00:00,  8.42it/s]\n",
      "100%|██████████| 3/3 [00:00<00:00,  8.28it/s]\n",
      "100%|██████████| 3/3 [00:00<00:00,  8.32it/s]\n",
      "100%|██████████| 3/3 [00:00<00:00,  8.48it/s]\n",
      "100%|██████████| 3/3 [00:00<00:00,  7.59it/s]\n",
      "100%|██████████| 3/3 [00:00<00:00,  8.48it/s]\n",
      "100%|██████████| 3/3 [00:00<00:00,  8.53it/s]\n",
      "100%|██████████| 3/3 [00:00<00:00,  8.15it/s]\n",
      "100%|██████████| 3/3 [00:00<00:00,  8.00it/s]\n",
      "100%|██████████| 3/3 [00:00<00:00,  8.57it/s]\n",
      "100%|██████████| 3/3 [00:00<00:00,  8.43it/s]\n",
      "100%|██████████| 3/3 [00:00<00:00,  8.45it/s]\n",
      "100%|██████████| 3/3 [00:00<00:00,  8.52it/s]\n",
      "100%|██████████| 3/3 [00:00<00:00,  8.50it/s]\n",
      "100%|██████████| 3/3 [00:00<00:00,  7.99it/s]\n",
      "100%|██████████| 3/3 [00:00<00:00,  8.31it/s]\n",
      "100%|██████████| 3/3 [00:00<00:00,  8.44it/s]\n",
      "100%|██████████| 3/3 [00:00<00:00,  8.43it/s]\n",
      "100%|██████████| 3/3 [00:00<00:00,  8.24it/s]\n",
      "100%|██████████| 3/3 [00:00<00:00,  8.44it/s]\n",
      "100%|██████████| 3/3 [00:00<00:00,  8.55it/s]\n",
      "100%|██████████| 3/3 [00:00<00:00,  8.28it/s]\n",
      "100%|██████████| 3/3 [00:00<00:00,  7.90it/s]\n",
      "100%|██████████| 3/3 [00:00<00:00,  8.46it/s]\n",
      "100%|██████████| 3/3 [00:00<00:00,  8.25it/s]\n",
      "100%|██████████| 3/3 [00:00<00:00,  8.34it/s]\n",
      "100%|██████████| 3/3 [00:00<00:00,  8.09it/s]\n",
      "100%|██████████| 3/3 [00:00<00:00,  8.18it/s]\n",
      "100%|██████████| 3/3 [00:00<00:00,  8.44it/s]\n",
      "100%|██████████| 3/3 [00:00<00:00,  8.42it/s]\n",
      "100%|██████████| 3/3 [00:00<00:00,  7.96it/s]\n",
      "100%|██████████| 3/3 [00:00<00:00,  8.51it/s]\n",
      "100%|██████████| 3/3 [00:00<00:00,  8.53it/s]\n",
      "100%|██████████| 3/3 [00:00<00:00,  8.22it/s]\n",
      "100%|██████████| 3/3 [00:00<00:00,  8.13it/s]\n",
      "100%|██████████| 3/3 [00:00<00:00,  8.54it/s]\n",
      "100%|██████████| 3/3 [00:00<00:00,  8.47it/s]\n",
      "100%|██████████| 3/3 [00:00<00:00,  8.43it/s]\n",
      "100%|██████████| 3/3 [00:00<00:00,  8.14it/s]\n",
      "100%|██████████| 3/3 [00:00<00:00,  7.55it/s]\n",
      "100%|██████████| 3/3 [00:00<00:00,  8.35it/s]\n",
      "100%|██████████| 3/3 [00:00<00:00,  8.46it/s]\n",
      "100%|██████████| 3/3 [00:00<00:00,  7.92it/s]\n",
      "100%|██████████| 3/3 [00:00<00:00,  8.49it/s]\n",
      "100%|██████████| 3/3 [00:00<00:00,  6.62it/s]\n",
      "100%|██████████| 3/3 [00:00<00:00,  8.31it/s]\n",
      "100%|██████████| 3/3 [00:00<00:00,  8.46it/s]\n",
      "100%|██████████| 3/3 [00:00<00:00,  8.13it/s]\n",
      "100%|██████████| 3/3 [00:00<00:00,  8.18it/s]\n",
      "100%|██████████| 3/3 [00:00<00:00,  8.43it/s]\n",
      "100%|██████████| 3/3 [00:00<00:00,  8.41it/s]\n",
      "100%|██████████| 3/3 [00:00<00:00,  8.60it/s]\n",
      "100%|██████████| 3/3 [00:00<00:00,  8.31it/s]\n",
      "100%|██████████| 3/3 [00:00<00:00,  8.61it/s]\n",
      "100%|██████████| 3/3 [00:00<00:00,  8.46it/s]\n",
      "100%|██████████| 3/3 [00:00<00:00,  8.26it/s]\n",
      "100%|██████████| 3/3 [00:00<00:00,  8.48it/s]\n",
      "100%|██████████| 3/3 [00:00<00:00,  8.47it/s]\n",
      "100%|██████████| 3/3 [00:00<00:00,  8.10it/s]\n",
      "100%|██████████| 3/3 [00:00<00:00,  8.02it/s]\n",
      "100%|██████████| 3/3 [00:00<00:00,  8.54it/s]\n",
      "100%|██████████| 3/3 [00:00<00:00,  7.79it/s]\n",
      "100%|██████████| 3/3 [00:00<00:00,  8.37it/s]\n",
      "100%|██████████| 3/3 [00:00<00:00,  8.55it/s]\n",
      "100%|██████████| 3/3 [00:00<00:00,  8.24it/s]\n",
      "100%|██████████| 3/3 [00:00<00:00,  8.60it/s]\n",
      "100%|██████████| 3/3 [00:00<00:00,  8.49it/s]\n",
      "100%|██████████| 3/3 [00:00<00:00,  8.54it/s]\n",
      "100%|██████████| 3/3 [00:00<00:00,  8.28it/s]\n",
      "100%|██████████| 3/3 [00:00<00:00,  8.44it/s]\n",
      "100%|██████████| 3/3 [00:00<00:00,  8.57it/s]\n",
      "100%|██████████| 3/3 [00:00<00:00,  8.41it/s]\n",
      "100%|██████████| 3/3 [00:00<00:00,  8.41it/s]\n",
      "100%|██████████| 3/3 [00:00<00:00,  8.59it/s]\n",
      "100%|██████████| 3/3 [00:00<00:00,  8.36it/s]\n",
      "100%|██████████| 3/3 [00:00<00:00,  8.53it/s]\n",
      "100%|██████████| 3/3 [00:00<00:00,  8.35it/s]\n",
      "100%|██████████| 3/3 [00:00<00:00,  8.47it/s]\n",
      "100%|██████████| 3/3 [00:00<00:00,  8.07it/s]\n",
      "100%|██████████| 3/3 [00:00<00:00,  8.13it/s]\n",
      "100%|██████████| 3/3 [00:00<00:00,  8.31it/s]\n",
      "100%|██████████| 3/3 [00:00<00:00,  8.30it/s]\n",
      "100%|██████████| 3/3 [00:00<00:00,  8.45it/s]\n",
      "100%|██████████| 3/3 [00:00<00:00,  8.49it/s]\n",
      "100%|██████████| 3/3 [00:00<00:00,  8.59it/s]\n",
      "100%|██████████| 3/3 [00:00<00:00,  8.49it/s]\n",
      "100%|██████████| 3/3 [00:00<00:00,  8.44it/s]\n",
      "100%|██████████| 3/3 [00:00<00:00,  8.51it/s]\n",
      "100%|██████████| 3/3 [00:00<00:00,  8.43it/s]\n",
      "100%|██████████| 3/3 [00:00<00:00,  8.59it/s]\n",
      "100%|██████████| 3/3 [00:00<00:00,  8.44it/s]\n",
      "100%|██████████| 3/3 [00:00<00:00,  8.54it/s]\n",
      "100%|██████████| 3/3 [00:00<00:00,  7.92it/s]\n",
      "100%|██████████| 3/3 [00:00<00:00,  8.54it/s]\n",
      "100%|██████████| 3/3 [00:00<00:00,  8.47it/s]\n",
      "100%|██████████| 3/3 [00:00<00:00,  8.30it/s]\n",
      "100%|██████████| 3/3 [00:00<00:00,  8.53it/s]\n",
      "100%|██████████| 3/3 [00:00<00:00,  8.46it/s]\n",
      "100%|██████████| 3/3 [00:00<00:00,  8.23it/s]\n",
      "100%|██████████| 3/3 [00:00<00:00,  8.07it/s]\n",
      "100%|██████████| 3/3 [00:00<00:00,  8.41it/s]\n",
      "100%|██████████| 3/3 [00:00<00:00,  8.43it/s]\n",
      "100%|██████████| 3/3 [00:00<00:00,  8.58it/s]\n",
      "100%|██████████| 3/3 [00:00<00:00,  8.21it/s]\n",
      "100%|██████████| 3/3 [00:00<00:00,  8.57it/s]\n",
      "100%|██████████| 3/3 [00:00<00:00,  8.49it/s]\n",
      "100%|██████████| 3/3 [00:00<00:00,  8.44it/s]\n",
      "100%|██████████| 3/3 [00:00<00:00,  8.11it/s]\n",
      "100%|██████████| 3/3 [00:00<00:00,  8.48it/s]\n",
      "100%|██████████| 3/3 [00:00<00:00,  8.45it/s]\n",
      "100%|██████████| 3/3 [00:00<00:00,  8.42it/s]\n",
      "100%|██████████| 3/3 [00:00<00:00,  8.53it/s]\n",
      "100%|██████████| 3/3 [00:00<00:00,  8.42it/s]\n",
      "100%|██████████| 3/3 [00:00<00:00,  8.40it/s]\n",
      "100%|██████████| 3/3 [00:00<00:00,  8.36it/s]\n",
      "100%|██████████| 3/3 [00:00<00:00,  8.50it/s]\n",
      "100%|██████████| 3/3 [00:00<00:00,  8.35it/s]\n",
      "100%|██████████| 3/3 [00:00<00:00,  8.52it/s]\n",
      "100%|██████████| 3/3 [00:00<00:00,  8.15it/s]\n",
      "100%|██████████| 3/3 [00:00<00:00,  8.21it/s]\n",
      "100%|██████████| 3/3 [00:00<00:00,  8.30it/s]\n",
      "100%|██████████| 3/3 [00:00<00:00,  8.34it/s]\n",
      "100%|██████████| 3/3 [00:00<00:00,  8.26it/s]\n",
      "100%|██████████| 3/3 [00:00<00:00,  8.53it/s]\n",
      "100%|██████████| 3/3 [00:00<00:00,  8.32it/s]\n",
      "100%|██████████| 3/3 [00:00<00:00,  8.42it/s]\n",
      "100%|██████████| 3/3 [00:00<00:00,  8.10it/s]\n",
      "100%|██████████| 3/3 [00:00<00:00,  8.32it/s]\n",
      "100%|██████████| 3/3 [00:00<00:00,  8.44it/s]\n",
      "100%|██████████| 3/3 [00:00<00:00,  8.36it/s]\n",
      "100%|██████████| 3/3 [00:00<00:00,  8.53it/s]\n",
      "100%|██████████| 3/3 [00:00<00:00,  7.88it/s]\n",
      "100%|██████████| 3/3 [00:00<00:00,  8.28it/s]\n",
      "100%|██████████| 3/3 [00:00<00:00,  8.39it/s]\n",
      "100%|██████████| 3/3 [00:00<00:00,  8.10it/s]\n",
      "100%|██████████| 3/3 [00:00<00:00,  7.91it/s]\n",
      "100%|██████████| 3/3 [00:00<00:00,  8.31it/s]\n",
      "100%|██████████| 3/3 [00:00<00:00,  8.07it/s]\n",
      "100%|██████████| 3/3 [00:00<00:00,  8.14it/s]\n",
      "100%|██████████| 3/3 [00:00<00:00,  8.12it/s]\n",
      "100%|██████████| 3/3 [00:00<00:00,  8.36it/s]\n",
      "100%|██████████| 3/3 [00:00<00:00,  8.00it/s]\n",
      "100%|██████████| 3/3 [00:00<00:00,  8.19it/s]\n",
      "100%|██████████| 3/3 [00:00<00:00,  7.99it/s]\n",
      "100%|██████████| 3/3 [00:00<00:00,  8.53it/s]\n",
      "100%|██████████| 3/3 [00:00<00:00,  8.32it/s]\n",
      "100%|██████████| 3/3 [00:00<00:00,  8.08it/s]\n",
      "100%|██████████| 3/3 [00:00<00:00,  8.10it/s]\n",
      "100%|██████████| 3/3 [00:00<00:00,  8.57it/s]\n",
      "100%|██████████| 3/3 [00:00<00:00,  8.18it/s]\n",
      "100%|██████████| 3/3 [00:00<00:00,  8.04it/s]\n",
      "100%|██████████| 3/3 [00:00<00:00,  8.57it/s]\n",
      "100%|██████████| 3/3 [00:00<00:00,  8.40it/s]\n",
      "100%|██████████| 3/3 [00:00<00:00,  8.12it/s]\n",
      "100%|██████████| 3/3 [00:00<00:00,  8.29it/s]\n",
      "100%|██████████| 3/3 [00:00<00:00,  8.58it/s]\n",
      "100%|██████████| 3/3 [00:00<00:00,  8.46it/s]\n",
      "100%|██████████| 3/3 [00:00<00:00,  8.11it/s]\n",
      "100%|██████████| 3/3 [00:00<00:00,  7.98it/s]\n",
      "100%|██████████| 3/3 [00:00<00:00,  7.55it/s]\n",
      "100%|██████████| 3/3 [00:00<00:00,  7.38it/s]\n",
      "100%|██████████| 3/3 [00:00<00:00,  7.37it/s]\n",
      "100%|██████████| 3/3 [00:00<00:00,  6.90it/s]\n",
      "100%|██████████| 3/3 [00:00<00:00,  5.95it/s]\n",
      "100%|██████████| 3/3 [00:00<00:00,  7.38it/s]\n",
      "100%|██████████| 3/3 [00:00<00:00,  7.32it/s]\n",
      "100%|██████████| 3/3 [00:00<00:00,  7.58it/s]\n",
      "100%|██████████| 3/3 [00:00<00:00,  7.90it/s]\n",
      "100%|██████████| 3/3 [00:00<00:00,  7.25it/s]\n",
      "100%|██████████| 3/3 [00:00<00:00,  7.93it/s]\n",
      "100%|██████████| 3/3 [00:00<00:00,  6.61it/s]\n"
     ]
    }
   ],
   "metadata": {}
  },
  {
   "cell_type": "code",
   "execution_count": null,
   "source": [
    "# run attacks (greedy) + check sucess rate\n",
    "gr_attack = GreedyAttack(pop_size=pop_size, max_iters=max_iters, embedding_model=embedding_model, sa_model=sa_model, tokenizer=tok, tagger=tagger)\n",
    "adv = gr_attack.attack(x_orig, adv_target)"
   ],
   "outputs": [],
   "metadata": {}
  },
  {
   "cell_type": "code",
   "execution_count": null,
   "source": [
    "# run attack (perterb baseline)\n",
    "base_attack = PerturbBaseline(pop_size=pop_size, max_iters=max_iters, embedding_model=embedding_model, sa_model=sa_model, tokenizer=tok, tagger=tagger)\n",
    "adv = base_attack.attack(x_orig, adv_target)"
   ],
   "outputs": [],
   "metadata": {}
  },
  {
   "cell_type": "markdown",
   "source": [
    "# Pilot Demo"
   ],
   "metadata": {}
  },
  {
   "cell_type": "code",
   "execution_count": 1,
   "source": [
    "import fasttext\n",
    "import csv\n",
    "import random\n",
    "import traceback\n",
    "import copy"
   ],
   "outputs": [],
   "metadata": {}
  },
  {
   "cell_type": "code",
   "execution_count": 2,
   "source": [
    "import MeCab\n",
    "m = MeCab.Tagger('-d /home/ubuntu/workspace/kaist.sbse/mecab-ko-dic-2.1.1-20180720')"
   ],
   "outputs": [],
   "metadata": {}
  },
  {
   "cell_type": "code",
   "execution_count": 3,
   "source": [
    "data_path = '/home/ubuntu/workspace/kaist.sbse/proj/data/ratings_test.txt'\n",
    "ids, documents, targets = [], [], []\n",
    "with open(data_path, 'r') as f:\n",
    "    lines = list(csv.reader(f, delimiter='\\t'))\n",
    "    header = lines.pop(0)\n",
    "    for line in lines:\n",
    "        ids.append(line[0])\n",
    "        documents.append(line[1])\n",
    "        targets.append(int(line[2]))"
   ],
   "outputs": [],
   "metadata": {}
  },
  {
   "cell_type": "code",
   "execution_count": 8,
   "source": [
    "random.seed(20)\n",
    "# filter_documents = [d for d in documents if len(d) > 100]\n",
    "# test = random.choice(filter_documents)\n",
    "test = random.sample(documents, 10)\n",
    "print(test)"
   ],
   "outputs": [
    {
     "output_type": "stream",
     "name": "stdout",
     "text": [
      "['괜찮네...', '에휴 ... 만 나오네요', '영화보면서 딴 짓을 하게 만드는 영화', '겁나 재밌엌ㅋㅋㅋㅋㅋㅋㅋ웃기다', '안중근의사를 주윤발로 만들어버리는 서세원의 한심한 영화', '일본인다운 영화다...딱히 할 말은 없네 쩝..', '수준낮은 내게도 너무 헛웃음이 나온 영화 조승우란 배우도 이 영화만 보면 가치가 전혀 없어보이고... 지고지순한 사랑으로 표현되어야 할것이 오글거리는 어린애 풋사랑만도 못해보이니 참으로 배우나 제작비가 아까워보입니다,.', '이성재 너무열심히하네 허허 찰싹찰싹 찰지네', '이런 류의 영화에 관심 있는 분들은 횡재한거. 전혀 이해가 안가는 점수 우리 나라에서는 제대로 된 sf류라고는 찾아보기도 힘든데 할 말이 없음 . sf 영화 찍기도 힘든데 이렇게 제대로 만들기도 힘듬', '결말은 안봤는데 재밌던뎅 ㅠ']\n"
     ]
    }
   ],
   "metadata": {}
  },
  {
   "cell_type": "code",
   "execution_count": 4,
   "source": [
    "embedding_model = fasttext.load_model('/home/ubuntu/workspace/kaist.sbse/proj/data/cc.ko.300.bin')"
   ],
   "outputs": [
    {
     "output_type": "stream",
     "name": "stderr",
     "text": [
      "Warning : `load_model` does not return WordVectorModel or SupervisedModel any more, but a `FastText` object which is very similar.\n"
     ]
    }
   ],
   "metadata": {}
  },
  {
   "cell_type": "code",
   "execution_count": 4,
   "source": [
    "embedding_model.get_nearest_neighbors('가치가', k=100)"
   ],
   "outputs": [
    {
     "output_type": "execute_result",
     "data": {
      "text/plain": [
       "[(0.7149418592453003, '가치도'),\n",
       " (0.7033546566963196, '가치는'),\n",
       " (0.6167633533477783, '가치를'),\n",
       " (0.5784568190574646, '가치에'),\n",
       " (0.5766178369522095, '사료적'),\n",
       " (0.5683567523956299, '가치'),\n",
       " (0.5560916066169739, '값어치가'),\n",
       " (0.5515071153640747, '문화재적'),\n",
       " (0.5505257248878479, '뉴스로서의'),\n",
       " (0.5487533211708069, '보존할만한'),\n",
       " (0.5476403832435608, '자료적인'),\n",
       " (0.5461577773094177, '가치와'),\n",
       " (0.5438748002052307, '연구해볼'),\n",
       " (0.5336384773254395, '가치보다'),\n",
       " (0.5210453867912292, '정보로서의'),\n",
       " (0.518497884273529, '민속자료로서'),\n",
       " (0.5176005363464355, '의미가'),\n",
       " (0.5149702429771423, '일고의'),\n",
       " (0.5142812132835388, '점수적인'),\n",
       " (0.5116618275642395, '재평가될'),\n",
       " (0.5116174817085266, '가치의'),\n",
       " (0.510407030582428, '존중받을'),\n",
       " (0.509033739566803, '사용가치가'),\n",
       " (0.5009545683860779, '학술자료로서'),\n",
       " (0.4989953637123108, '자료적'),\n",
       " (0.49467700719833374, '재산적'),\n",
       " (0.4934868812561035, '연구가치가'),\n",
       " (0.49255967140197754, '높겠지요'),\n",
       " (0.49151405692100525, '가치만'),\n",
       " (0.4907607436180115, '기술할만한'),\n",
       " (0.4870331585407257, '가치로'),\n",
       " (0.48633453249931335, '효용이'),\n",
       " (0.48552486300468445, '희소성이'),\n",
       " (0.4845418334007263, '중요시될'),\n",
       " (0.48393717408180237, '문화재적인'),\n",
       " (0.47980812191963196, '효용성이'),\n",
       " (0.47728782892227173, '보존가치가'),\n",
       " (0.4744817912578583, '효용가치는'),\n",
       " (0.47361403703689575, '재산가치가'),\n",
       " (0.4727398455142975, '가치나'),\n",
       " (0.4727008640766144, '서지학적으로도'),\n",
       " (0.47214949131011963, '자료로서도'),\n",
       " (0.4706578254699707, '기록물로서'),\n",
       " (0.47045817971229553, '경관적'),\n",
       " (0.47000375390052795, '활용가치가'),\n",
       " (0.4698815643787384, '예술적으로도'),\n",
       " (0.46928635239601135, '구입할만한'),\n",
       " (0.46876102685928345, '희소가치가'),\n",
       " (0.4680728018283844, '대꾸할'),\n",
       " (0.46770304441452026, '가치보다는'),\n",
       " (0.46742013096809387, '유용성이'),\n",
       " (0.46641799807548523, '상품으로서의'),\n",
       " (0.4660831689834595, '효용가치가'),\n",
       " (0.4648028314113617, '사료적인'),\n",
       " (0.4640025198459625, '존재할만한'),\n",
       " (0.4638173282146454, '소박함의'),\n",
       " (0.46156635880470276, '투자할만한'),\n",
       " (0.4608760476112366, '먹거리로서'),\n",
       " (0.460747092962265, '문서로써의'),\n",
       " (0.4602063298225403, '가격만큼의'),\n",
       " (0.45923054218292236, '방문할만한'),\n",
       " (0.45844075083732605, '미술사적인'),\n",
       " (0.4577476978302002, '희소성과'),\n",
       " (0.457558810710907, '그럴만한'),\n",
       " (0.4573681056499481, '문화유산으로서의'),\n",
       " (0.45571258664131165, '데이터로서는'),\n",
       " (0.45553410053253174, '상대적을'),\n",
       " (0.4548804461956024, '절하될'),\n",
       " (0.4534318447113037, '활용가능성이'),\n",
       " (0.4531560242176056, '하락할'),\n",
       " (0.45303231477737427, '사용가치는'),\n",
       " (0.4528127908706665, '성장가능성이'),\n",
       " (0.4516659080982208, '회화사적'),\n",
       " (0.4515303373336792, '보존해야할'),\n",
       " (0.45106378197669983, '문화재로서의'),\n",
       " (0.4502772390842438, '문화재로서'),\n",
       " (0.4497956931591034, '철도사적'),\n",
       " (0.4497322738170624, '가치다'),\n",
       " (0.44775390625, '가치라는'),\n",
       " (0.4468865692615509, '나라인가에'),\n",
       " (0.4468492567539215, '화제성이'),\n",
       " (0.44516658782958984, '특필'),\n",
       " (0.4450867474079132, '국문학적'),\n",
       " (0.4447355270385742, '자산으로서'),\n",
       " (0.44454002380371094, '상대해줄'),\n",
       " (0.4437546133995056, '소장가치가'),\n",
       " (0.44340214133262634, '자료로도'),\n",
       " (0.4431416094303131, '가치성이'),\n",
       " (0.44268783926963806, '읽어둘'),\n",
       " (0.4412692189216614, '필요성이'),\n",
       " (0.4412340521812439, '저평가되어'),\n",
       " (0.44062748551368713, '도전해볼만한'),\n",
       " (0.44058963656425476, '콘텐츠로서의'),\n",
       " (0.44047170877456665, '같이의'),\n",
       " (0.44019681215286255, '시도해볼만한'),\n",
       " (0.4400588572025299, '지속가능성이'),\n",
       " (0.44004926085472107, '보전가치가'),\n",
       " (0.43992727994918823, '시장성이'),\n",
       " (0.43911752104759216, '시장가치가'),\n",
       " (0.4382866621017456, '평가절하할')]"
      ]
     },
     "metadata": {},
     "execution_count": 4
    }
   ],
   "metadata": {}
  },
  {
   "cell_type": "markdown",
   "source": [
    "### Replace a word in a sentence"
   ],
   "metadata": {}
  },
  {
   "cell_type": "code",
   "execution_count": 17,
   "source": [
    "print(test)\n",
    "node = m.parseToNode(test[6])\n",
    "tokens = []\n",
    "while node:\n",
    "    if node.surface:\n",
    "        tokens.append(f\"{node.surface}/{node.feature.split(',')[0]}/{len(node.surface)}\")\n",
    "    node = node.next\n",
    "print(tokens)\n",
    "\n",
    "re_test = '수준낮은 내게도 너무 헛웃음이 나온 영화 조승우란 배우도 이 영화만 보면 시장성이 전혀 없어보이고... 지고지순한 사랑으로 표현되어야 할것이 오글거리는 어린애 풋사랑만도 못해보이니 참으로 배우나 제작비가 아까워보입니다,.'\n",
    "node = m.parseToNode(re_test)\n",
    "tokens = []\n",
    "while node:\n",
    "    if node.surface:\n",
    "        tokens.append(f\"{node.surface}/{node.feature.split(',')[0]}/{len(node.surface)}\")\n",
    "    node = node.next\n",
    "print(tokens)"
   ],
   "outputs": [
    {
     "output_type": "stream",
     "name": "stdout",
     "text": [
      "['괜찮네...', '에휴 ... 만 나오네요', '영화보면서 딴 짓을 하게 만드는 영화', '겁나 재밌엌ㅋㅋㅋㅋㅋㅋㅋ웃기다', '안중근의사를 주윤발로 만들어버리는 서세원의 한심한 영화', '일본인다운 영화다...딱히 할 말은 없네 쩝..', '수준낮은 내게도 너무 헛웃음이 나온 영화 조승우란 배우도 이 영화만 보면 가치가 전혀 없어보이고... 지고지순한 사랑으로 표현되어야 할것이 오글거리는 어린애 풋사랑만도 못해보이니 참으로 배우나 제작비가 아까워보입니다,.', '이성재 너무열심히하네 허허 찰싹찰싹 찰지네', '이런 류의 영화에 관심 있는 분들은 횡재한거. 전혀 이해가 안가는 점수 우리 나라에서는 제대로 된 sf류라고는 찾아보기도 힘든데 할 말이 없음 . sf 영화 찍기도 힘든데 이렇게 제대로 만들기도 힘듬', '결말은 안봤는데 재밌던뎅 ㅠ']\n",
      "['수준/NNG/2', '낮/VA/1', '은/ETM/1', '내게도/NP+JKB+JX/3', '너무/MAG/2', '헛웃음/NNG/3', '이/JKS/1', '나온/VV+ETM/2', '영화/NNG/2', '조승우/NNP/3', '란/VCP+ETM/1', '배우/NNG/2', '도/JX/1', '이/MM/1', '영화/NNG/2', '만/JX/1', '보/VV/1', '면/EC/1', '가치/NNG/2', '가/JKS/1', '전혀/MAG/2', '없/VA/1', '어/EC/1', '보이/VV/2', '고/EC/1', './SF/1', '../SY/2', '지고지순/NNG/4', '한/XSA+ETM/1', '사랑/NNG/2', '으로/JKB/2', '표현/NNG/2', '되/XSV/1', '어야/EC/2', '할/VX+ETM/1', '것/NNB/1', '이/JKS/1', '오글거리/VV/4', '는/ETM/1', '어린애/NNG/3', '풋사랑/NNG/3', '만/JX/1', '도/JX/1', '못/MAG/1', '해/VV+EC/1', '보이/VV/2', '니/EC/1', '참으로/MAG/3', '배우/NNG/2', '나/JC/1', '제작비/NNG/3', '가/JKS/1', '아까워/VA+EC/3', '보/VX/1', '입니다/EP+EF/3', ',/SC/1', './SF/1']\n",
      "['수준/NNG/2', '낮/VA/1', '은/ETM/1', '내게도/NP+JKB+JX/3', '너무/MAG/2', '헛웃음/NNG/3', '이/JKS/1', '나온/VV+ETM/2', '영화/NNG/2', '조승우/NNP/3', '란/VCP+ETM/1', '배우/NNG/2', '도/JX/1', '이/MM/1', '영화/NNG/2', '만/JX/1', '보/VV/1', '면/EC/1', '시장/NNG/2', '성/XSN/1', '이/JKS/1', '전혀/MAG/2', '없/VA/1', '어/EC/1', '보이/VV/2', '고/EC/1', './SF/1', '../SY/2', '지고지순/NNG/4', '한/XSA+ETM/1', '사랑/NNG/2', '으로/JKB/2', '표현/NNG/2', '되/XSV/1', '어야/EC/2', '할/VX+ETM/1', '것/NNB/1', '이/JKS/1', '오글거리/VV/4', '는/ETM/1', '어린애/NNG/3', '풋사랑/NNG/3', '만/JX/1', '도/JX/1', '못/MAG/1', '해/VV+EC/1', '보이/VV/2', '니/EC/1', '참으로/MAG/3', '배우/NNG/2', '나/JC/1', '제작비/NNG/3', '가/JKS/1', '아까워/VA+EC/3', '보/VX/1', '입니다/EP+EF/3', ',/SC/1', './SF/1']\n"
     ]
    }
   ],
   "metadata": {}
  },
  {
   "cell_type": "code",
   "execution_count": 91,
   "source": [
    "def using_split2(line, _len=len):\n",
    "    words = line.split()\n",
    "    index = line.index\n",
    "    offsets = []\n",
    "    append = offsets.append\n",
    "    running_offset = 0\n",
    "    for word in words:\n",
    "        word_offset = index(word, running_offset)\n",
    "        word_len = _len(word)\n",
    "        running_offset = word_offset + word_len\n",
    "        append((word, word_offset, running_offset - 1))\n",
    "    return offsets"
   ],
   "outputs": [],
   "metadata": {}
  },
  {
   "cell_type": "code",
   "execution_count": 93,
   "source": [
    "splits = using_split2(test)"
   ],
   "outputs": [],
   "metadata": {}
  },
  {
   "cell_type": "code",
   "execution_count": 105,
   "source": [
    "print(tokens)\n",
    "print(splits)\n",
    "cur = 0\n",
    "pos = 0\n",
    "ret = []\n",
    "for sp in splits:\n",
    "    tmp = []\n",
    "    length = sp[2]-sp[1]+1\n",
    "    for to in tokens[pos:]:\n",
    "        if length > 0:\n",
    "            l = int(to.split('/')[2])\n",
    "            length -= l\n",
    "            tmp.append(to)\n",
    "            pos += 1\n",
    "        else:\n",
    "            break\n",
    "    ret.append(tmp)\n",
    "print(ret)\n",
    "    "
   ],
   "outputs": [
    {
     "output_type": "stream",
     "name": "stdout",
     "text": [
      "['서양인/NNG/3', '들/XSN/1', '이/JKS/1', '하/VV/1', '는/ETM/1', '사랑/NNG/2', '소꿉/NNG/2', '놀이/NNG/2', '에/JKB/1', '본인/NNG/2', '들/XSN/1', '의/JKG/1', '자각/NNG/2', '이/JKS/1', '없/VA/1', '어서/EC/2', '그러/VV/2', '는/ETM/1', '줄/NNB/1', '알/VV/1', '았/EP/1', '는데/EF/2', './SF/1', './SY/1', '어느/MM/2', '정도/NNG/2', '알/VV/1', '기/ETN/1', '는/JX/1', '하/VV/1', '는/ETM/1', '것/NNB/1', '같/VA/1', '다/EF/1', './SF/1', '뻔한/VA+ETM/2', '로맨틱/NNG/3', '코미디/NNG/3', '보다/JKB/2', '는/JX/1', '낫/VA/1', '지만/EC/2', '전체/NNG/2', '적/XSN/1', '으로/JKB/2', './SF/1', './SY/1', '너무/MAG/2', '두서없/VA/3', '고/EC/1', '장면/NNG/2', '위주/NNG/2', './SF/1', '../SY/2', '대화/NNG/2', '도/JX/1', '없/VA/1', '고/EC/1']\n",
      "[('서양인들이', 0, 4), ('하는', 6, 7), ('사랑', 9, 10), ('소꿉놀이에', 12, 16), ('본인들의', 18, 21), ('자각이', 23, 25), ('없어서', 27, 29), ('그러는줄', 31, 34), ('알았는데..', 36, 41), ('어느정도', 43, 46), ('알기는', 48, 50), ('하는것', 52, 54), ('같다.', 56, 58), ('뻔한', 60, 61), ('로맨틱코미디보다는', 63, 71), ('낫지만', 73, 75), ('전체적으로..', 77, 83), ('너무', 85, 86), ('두서없고', 88, 91), ('장면위주...', 93, 99), ('대화도', 101, 103), ('없고', 105, 106)]\n",
      "[['서양인/NNG/3', '들/XSN/1', '이/JKS/1'], ['하/VV/1', '는/ETM/1'], ['사랑/NNG/2'], ['소꿉/NNG/2', '놀이/NNG/2', '에/JKB/1'], ['본인/NNG/2', '들/XSN/1', '의/JKG/1'], ['자각/NNG/2', '이/JKS/1'], ['없/VA/1', '어서/EC/2'], ['그러/VV/2', '는/ETM/1', '줄/NNB/1'], ['알/VV/1', '았/EP/1', '는데/EF/2', './SF/1', './SY/1'], ['어느/MM/2', '정도/NNG/2'], ['알/VV/1', '기/ETN/1', '는/JX/1'], ['하/VV/1', '는/ETM/1', '것/NNB/1'], ['같/VA/1', '다/EF/1', './SF/1'], ['뻔한/VA+ETM/2'], ['로맨틱/NNG/3', '코미디/NNG/3', '보다/JKB/2', '는/JX/1'], ['낫/VA/1', '지만/EC/2'], ['전체/NNG/2', '적/XSN/1', '으로/JKB/2', './SF/1', './SY/1'], ['너무/MAG/2'], ['두서없/VA/3', '고/EC/1'], ['장면/NNG/2', '위주/NNG/2', './SF/1', '../SY/2'], ['대화/NNG/2', '도/JX/1'], ['없/VA/1', '고/EC/1']]\n"
     ]
    }
   ],
   "metadata": {}
  },
  {
   "cell_type": "code",
   "execution_count": 7,
   "source": [
    "class Word:\n",
    "    def __init__(self, idx, word, start_idx, end_idx) -> None:\n",
    "        self.idx = idx\n",
    "        self.word = word\n",
    "        self.start_idx = start_idx\n",
    "        self.end_idx = end_idx\n",
    "        self.tokens = []\n",
    "\n",
    "class Text:\n",
    "    def __init__(self, text, tagger) -> None:\n",
    "        # self.m = MeCab.Tagger()\n",
    "        self.text = text\n",
    "        self.offset_text = self.getOffset(self.text)\n",
    "        self.morphs_text = self.getMorphs(self.text, tagger)\n",
    "        self.tokens_per_word = self.addPos(self.offset_text, self.morphs_text)\n",
    "        self.words = [Word(idx, word, start_idx, end_idx) for idx, (word, start_idx, end_idx) in enumerate(self.offset_text)]\n",
    "        for word, tokens in zip(self.words, self.tokens_per_word):\n",
    "            word.tokens = tokens\n",
    "\n",
    "    def __getitem__(self, i):\n",
    "        return self.words[i]\n",
    "\n",
    "    def getOffset(self, text):\n",
    "        words = text.split()\n",
    "        index = text.index\n",
    "        offsets = []\n",
    "        append = offsets.append\n",
    "        running_offset = 0\n",
    "        for word in words:\n",
    "            word_offset = index(word, running_offset)\n",
    "            word_len = len(word)\n",
    "            running_offset = word_offset + word_len\n",
    "            append((word, word_offset, running_offset - 1))\n",
    "        return offsets\n",
    "    \n",
    "    def getMorphs(self, text, tagger):\n",
    "        # node = self.m.parseToNode(text)\n",
    "        node = tagger.parseToNode(text)\n",
    "        tokens = []\n",
    "        while node:\n",
    "            if node.surface:\n",
    "                tokens.append(f\"{node.surface}//{node.feature.split(',')[0]}//{len(node.surface)}\")\n",
    "            node = node.next\n",
    "        return tokens\n",
    "\n",
    "    def addPos(self, offset_text, morphs_text):\n",
    "        cur_pos = 0\n",
    "        tokens_per_word = []\n",
    "        for offsets in offset_text:\n",
    "            tmp = []\n",
    "            length = offsets[2]-offsets[1]+1\n",
    "            for token in morphs_text[cur_pos:]:\n",
    "                if length > 0:\n",
    "                    l = int(token.split('//')[2])\n",
    "                    length -= l\n",
    "                    tmp.append((token.split('//')[0], token.split('//')[1]))\n",
    "                    cur_pos += 1\n",
    "                else:\n",
    "                    break\n",
    "            tokens_per_word.append(tmp)\n",
    "        return tokens_per_word\n",
    "\n",
    "    def getReplaceCandidates(self):\n",
    "        candidate_pos = ['VV', 'VA', 'NNG', 'NNP', 'MAG']\n",
    "        candidates = []\n",
    "        for word in self.words:\n",
    "            if word.tokens[0][1] in candidate_pos:\n",
    "                candidates.append(word)\n",
    "        return candidates"
   ],
   "outputs": [],
   "metadata": {}
  },
  {
   "cell_type": "code",
   "execution_count": 39,
   "source": [
    "print(ord('가'))\n",
    "print(ord('힇'))\n",
    "print(ord('.'))"
   ],
   "outputs": [
    {
     "output_type": "stream",
     "name": "stdout",
     "text": [
      "44032\n",
      "55175\n",
      "46\n"
     ]
    }
   ],
   "metadata": {}
  },
  {
   "cell_type": "code",
   "execution_count": 19,
   "source": [
    "def getReplaceText(embedding_model, text_obj, tagger, k=10):\n",
    "    candidate_pos = ['VV', 'VA', 'NNG', 'NNP', 'MAG']\n",
    "    replace_texts = []\n",
    "    candidates = text_obj.getReplaceCandidates()\n",
    "    for candidate in candidates:\n",
    "        idx = candidate.idx\n",
    "        word = candidate.word\n",
    "        start_idx = candidate.start_idx\n",
    "        end_idx = candidate.end_idx\n",
    "        pos = [token[1] for token in candidate.tokens]\n",
    "        print(word)\n",
    "        nearest_neighbors = [neighbor for neighbor in embedding_model.get_nearest_neighbors(word, k=k) if not len(neighbor[1]) > len(word)*5]\n",
    "        nearest_words = [neighbor[1] for neighbor in nearest_neighbors]\n",
    "        nearest_distances = [neighbor[0] for neighbor in nearest_neighbors]\n",
    "\n",
    "        for near_word, dist in zip(nearest_words, nearest_distances):\n",
    "            replace_text = ''.join([text_obj.text[:start_idx], near_word, text_obj.text[end_idx+1:]])\n",
    "            replace_text_obj = Text(replace_text, tagger)\n",
    "            replace_pos = [token[1] for token in replace_text_obj.words[idx].tokens]\n",
    "            # if candidate_pos == replace_pos:\n",
    "            #     replace_texts.append(replace_text_obj)\n",
    "            if pos[0] == 'MAG' and replace_pos[0] == 'MAG':\n",
    "                replace_texts.append((replace_text_obj, dist))\n",
    "            elif replace_pos[0] in candidate_pos and pos[-1] == replace_pos[-1]:\n",
    "                replace_texts.append((replace_text_obj, dist))\n",
    "            print(replace_text_obj.text)\n",
    "\n",
    "    return replace_texts"
   ],
   "outputs": [],
   "metadata": {}
  },
  {
   "cell_type": "code",
   "execution_count": 20,
   "source": [
    "tagger = MeCab.Tagger()\n",
    "test = '서양인들이 하는 사랑 소꿉놀이에 본인들의 자각이 없어서 그러는줄 알았는데.. 어느정도 알기는 하는것 같다. 뻔한 로맨틱코미디보다는 낫지만 전체적으로.. 너무 두서없고 장면위주... 대화도 없고'\n",
    "t = Text(test, tagger)\n",
    "tt = getReplaceText(embedding_model, t, tagger)"
   ],
   "outputs": [
    {
     "output_type": "stream",
     "name": "stdout",
     "text": [
      "서양인들이\n",
      "동양인들이 하는 사랑 소꿉놀이에 본인들의 자각이 없어서 그러는줄 알았는데.. 어느정도 알기는 하는것 같다. 뻔한 로맨틱코미디보다는 낫지만 전체적으로.. 너무 두서없고 장면위주... 대화도 없고\n",
      "서양인들 하는 사랑 소꿉놀이에 본인들의 자각이 없어서 그러는줄 알았는데.. 어느정도 알기는 하는것 같다. 뻔한 로맨틱코미디보다는 낫지만 전체적으로.. 너무 두서없고 장면위주... 대화도 없고\n",
      "서양인이 하는 사랑 소꿉놀이에 본인들의 자각이 없어서 그러는줄 알았는데.. 어느정도 알기는 하는것 같다. 뻔한 로맨틱코미디보다는 낫지만 전체적으로.. 너무 두서없고 장면위주... 대화도 없고\n",
      "중국사람들이 하는 사랑 소꿉놀이에 본인들의 자각이 없어서 그러는줄 알았는데.. 어느정도 알기는 하는것 같다. 뻔한 로맨틱코미디보다는 낫지만 전체적으로.. 너무 두서없고 장면위주... 대화도 없고\n",
      "서양사람들이 하는 사랑 소꿉놀이에 본인들의 자각이 없어서 그러는줄 알았는데.. 어느정도 알기는 하는것 같다. 뻔한 로맨틱코미디보다는 낫지만 전체적으로.. 너무 두서없고 장면위주... 대화도 없고\n",
      "서양인들은 하는 사랑 소꿉놀이에 본인들의 자각이 없어서 그러는줄 알았는데.. 어느정도 알기는 하는것 같다. 뻔한 로맨틱코미디보다는 낫지만 전체적으로.. 너무 두서없고 장면위주... 대화도 없고\n",
      "서양인들을 하는 사랑 소꿉놀이에 본인들의 자각이 없어서 그러는줄 알았는데.. 어느정도 알기는 하는것 같다. 뻔한 로맨틱코미디보다는 낫지만 전체적으로.. 너무 두서없고 장면위주... 대화도 없고\n",
      "서양인을 하는 사랑 소꿉놀이에 본인들의 자각이 없어서 그러는줄 알았는데.. 어느정도 알기는 하는것 같다. 뻔한 로맨틱코미디보다는 낫지만 전체적으로.. 너무 두서없고 장면위주... 대화도 없고\n",
      "서양인들과 하는 사랑 소꿉놀이에 본인들의 자각이 없어서 그러는줄 알았는데.. 어느정도 알기는 하는것 같다. 뻔한 로맨틱코미디보다는 낫지만 전체적으로.. 너무 두서없고 장면위주... 대화도 없고\n",
      "한국사람들이 하는 사랑 소꿉놀이에 본인들의 자각이 없어서 그러는줄 알았는데.. 어느정도 알기는 하는것 같다. 뻔한 로맨틱코미디보다는 낫지만 전체적으로.. 너무 두서없고 장면위주... 대화도 없고\n",
      "하는\n",
      "서양인들이 해야 사랑 소꿉놀이에 본인들의 자각이 없어서 그러는줄 알았는데.. 어느정도 알기는 하는것 같다. 뻔한 로맨틱코미디보다는 낫지만 전체적으로.. 너무 두서없고 장면위주... 대화도 없고\n",
      "서양인들이 하고 사랑 소꿉놀이에 본인들의 자각이 없어서 그러는줄 알았는데.. 어느정도 알기는 하는것 같다. 뻔한 로맨틱코미디보다는 낫지만 전체적으로.. 너무 두서없고 장면위주... 대화도 없고\n",
      "서양인들이 하며 사랑 소꿉놀이에 본인들의 자각이 없어서 그러는줄 알았는데.. 어느정도 알기는 하는것 같다. 뻔한 로맨틱코미디보다는 낫지만 전체적으로.. 너무 두서없고 장면위주... 대화도 없고\n",
      "서양인들이 했던 사랑 소꿉놀이에 본인들의 자각이 없어서 그러는줄 알았는데.. 어느정도 알기는 하는것 같다. 뻔한 로맨틱코미디보다는 낫지만 전체적으로.. 너무 두서없고 장면위주... 대화도 없고\n",
      "서양인들이 할 사랑 소꿉놀이에 본인들의 자각이 없어서 그러는줄 알았는데.. 어느정도 알기는 하는것 같다. 뻔한 로맨틱코미디보다는 낫지만 전체적으로.. 너무 두서없고 장면위주... 대화도 없고\n",
      "서양인들이 한다 사랑 소꿉놀이에 본인들의 자각이 없어서 그러는줄 알았는데.. 어느정도 알기는 하는것 같다. 뻔한 로맨틱코미디보다는 낫지만 전체적으로.. 너무 두서없고 장면위주... 대화도 없고\n",
      "서양인들이 하게 사랑 소꿉놀이에 본인들의 자각이 없어서 그러는줄 알았는데.. 어느정도 알기는 하는것 같다. 뻔한 로맨틱코미디보다는 낫지만 전체적으로.. 너무 두서없고 장면위주... 대화도 없고\n",
      "서양인들이 하기 사랑 소꿉놀이에 본인들의 자각이 없어서 그러는줄 알았는데.. 어느정도 알기는 하는것 같다. 뻔한 로맨틱코미디보다는 낫지만 전체적으로.. 너무 두서없고 장면위주... 대화도 없고\n",
      "서양인들이 한는 사랑 소꿉놀이에 본인들의 자각이 없어서 그러는줄 알았는데.. 어느정도 알기는 하는것 같다. 뻔한 로맨틱코미디보다는 낫지만 전체적으로.. 너무 두서없고 장면위주... 대화도 없고\n",
      "서양인들이 했다 사랑 소꿉놀이에 본인들의 자각이 없어서 그러는줄 알았는데.. 어느정도 알기는 하는것 같다. 뻔한 로맨틱코미디보다는 낫지만 전체적으로.. 너무 두서없고 장면위주... 대화도 없고\n",
      "사랑\n",
      "서양인들이 하는 세상끝의 소꿉놀이에 본인들의 자각이 없어서 그러는줄 알았는데.. 어느정도 알기는 하는것 같다. 뻔한 로맨틱코미디보다는 낫지만 전체적으로.. 너무 두서없고 장면위주... 대화도 없고\n",
      "서양인들이 하는 lelu 소꿉놀이에 본인들의 자각이 없어서 그러는줄 알았는데.. 어느정도 알기는 하는것 같다. 뻔한 로맨틱코미디보다는 낫지만 전체적으로.. 너무 두서없고 장면위주... 대화도 없고\n",
      "서양인들이 하는 몰래한 소꿉놀이에 본인들의 자각이 없어서 그러는줄 알았는데.. 어느정도 알기는 하는것 같다. 뻔한 로맨틱코미디보다는 낫지만 전체적으로.. 너무 두서없고 장면위주... 대화도 없고\n",
      "서양인들이 하는 사랑을 소꿉놀이에 본인들의 자각이 없어서 그러는줄 알았는데.. 어느정도 알기는 하는것 같다. 뻔한 로맨틱코미디보다는 낫지만 전체적으로.. 너무 두서없고 장면위주... 대화도 없고\n",
      "서양인들이 하는 한에스더 소꿉놀이에 본인들의 자각이 없어서 그러는줄 알았는데.. 어느정도 알기는 하는것 같다. 뻔한 로맨틱코미디보다는 낫지만 전체적으로.. 너무 두서없고 장면위주... 대화도 없고\n",
      "서양인들이 하는 比目魚 소꿉놀이에 본인들의 자각이 없어서 그러는줄 알았는데.. 어느정도 알기는 하는것 같다. 뻔한 로맨틱코미디보다는 낫지만 전체적으로.. 너무 두서없고 장면위주... 대화도 없고\n",
      "서양인들이 하는 영국고객 소꿉놀이에 본인들의 자각이 없어서 그러는줄 알았는데.. 어느정도 알기는 하는것 같다. 뻔한 로맨틱코미디보다는 낫지만 전체적으로.. 너무 두서없고 장면위주... 대화도 없고\n",
      "서양인들이 하는 恋 소꿉놀이에 본인들의 자각이 없어서 그러는줄 알았는데.. 어느정도 알기는 하는것 같다. 뻔한 로맨틱코미디보다는 낫지만 전체적으로.. 너무 두서없고 장면위주... 대화도 없고\n",
      "서양인들이 하는 이깟 소꿉놀이에 본인들의 자각이 없어서 그러는줄 알았는데.. 어느정도 알기는 하는것 같다. 뻔한 로맨틱코미디보다는 낫지만 전체적으로.. 너무 두서없고 장면위주... 대화도 없고\n",
      "서양인들이 하는 함께2-최고의 소꿉놀이에 본인들의 자각이 없어서 그러는줄 알았는데.. 어느정도 알기는 하는것 같다. 뻔한 로맨틱코미디보다는 낫지만 전체적으로.. 너무 두서없고 장면위주... 대화도 없고\n",
      "소꿉놀이에\n",
      "서양인들이 하는 사랑 1,843 본인들의 자각이 없어서 그러는줄 알았는데.. 어느정도 알기는 하는것 같다. 뻔한 로맨틱코미디보다는 낫지만 전체적으로.. 너무 두서없고 장면위주... 대화도 없고\n",
      "서양인들이 하는 사랑 요청전자민원국민신문고클린신고센터공익신고모니터링 본인들의 자각이 없어서 그러는줄 알았는데.. 어느정도 알기는 하는것 같다. 뻔한 로맨틱코미디보다는 낫지만 전체적으로.. 너무 두서없고 장면위주... 대화도 없고\n",
      "서양인들이 하는 사랑 토토배당야구토토 본인들의 자각이 없어서 그러는줄 알았는데.. 어느정도 알기는 하는것 같다. 뻔한 로맨틱코미디보다는 낫지만 전체적으로.. 너무 두서없고 장면위주... 대화도 없고\n",
      "본인들의\n",
      "서양인들이 하는 사랑 소꿉놀이에 자신들의 자각이 없어서 그러는줄 알았는데.. 어느정도 알기는 하는것 같다. 뻔한 로맨틱코미디보다는 낫지만 전체적으로.. 너무 두서없고 장면위주... 대화도 없고\n",
      "서양인들이 하는 사랑 소꿉놀이에 자신의 자각이 없어서 그러는줄 알았는데.. 어느정도 알기는 하는것 같다. 뻔한 로맨틱코미디보다는 낫지만 전체적으로.. 너무 두서없고 장면위주... 대화도 없고\n",
      "서양인들이 하는 사랑 소꿉놀이에 수강정형과 자각이 없어서 그러는줄 알았는데.. 어느정도 알기는 하는것 같다. 뻔한 로맨틱코미디보다는 낫지만 전체적으로.. 너무 두서없고 장면위주... 대화도 없고\n",
      "서양인들이 하는 사랑 소꿉놀이에 각자의 자각이 없어서 그러는줄 알았는데.. 어느정도 알기는 하는것 같다. 뻔한 로맨틱코미디보다는 낫지만 전체적으로.. 너무 두서없고 장면위주... 대화도 없고\n",
      "서양인들이 하는 사랑 소꿉놀이에 본인의 자각이 없어서 그러는줄 알았는데.. 어느정도 알기는 하는것 같다. 뻔한 로맨틱코미디보다는 낫지만 전체적으로.. 너무 두서없고 장면위주... 대화도 없고\n",
      "서양인들이 하는 사랑 소꿉놀이에 그들의 자각이 없어서 그러는줄 알았는데.. 어느정도 알기는 하는것 같다. 뻔한 로맨틱코미디보다는 낫지만 전체적으로.. 너무 두서없고 장면위주... 대화도 없고\n",
      "서양인들이 하는 사랑 소꿉놀이에 자기들의 자각이 없어서 그러는줄 알았는데.. 어느정도 알기는 하는것 같다. 뻔한 로맨틱코미디보다는 낫지만 전체적으로.. 너무 두서없고 장면위주... 대화도 없고\n",
      "서양인들이 하는 사랑 소꿉놀이에 사생활까지 자각이 없어서 그러는줄 알았는데.. 어느정도 알기는 하는것 같다. 뻔한 로맨틱코미디보다는 낫지만 전체적으로.. 너무 두서없고 장면위주... 대화도 없고\n",
      "서양인들이 하는 사랑 소꿉놀이에 몫이지만 자각이 없어서 그러는줄 알았는데.. 어느정도 알기는 하는것 같다. 뻔한 로맨틱코미디보다는 낫지만 전체적으로.. 너무 두서없고 장면위주... 대화도 없고\n",
      "서양인들이 하는 사랑 소꿉놀이에 본인들 자각이 없어서 그러는줄 알았는데.. 어느정도 알기는 하는것 같다. 뻔한 로맨틱코미디보다는 낫지만 전체적으로.. 너무 두서없고 장면위주... 대화도 없고\n",
      "자각이\n",
      "서양인들이 하는 사랑 소꿉놀이에 본인들의 자각도 없어서 그러는줄 알았는데.. 어느정도 알기는 하는것 같다. 뻔한 로맨틱코미디보다는 낫지만 전체적으로.. 너무 두서없고 장면위주... 대화도 없고\n",
      "서양인들이 하는 사랑 소꿉놀이에 본인들의 자각은 없어서 그러는줄 알았는데.. 어느정도 알기는 하는것 같다. 뻔한 로맨틱코미디보다는 낫지만 전체적으로.. 너무 두서없고 장면위주... 대화도 없고\n",
      "서양인들이 하는 사랑 소꿉놀이에 본인들의 자기반성이 없어서 그러는줄 알았는데.. 어느정도 알기는 하는것 같다. 뻔한 로맨틱코미디보다는 낫지만 전체적으로.. 너무 두서없고 장면위주... 대화도 없고\n",
      "서양인들이 하는 사랑 소꿉놀이에 본인들의 계급의식에 없어서 그러는줄 알았는데.. 어느정도 알기는 하는것 같다. 뻔한 로맨틱코미디보다는 낫지만 전체적으로.. 너무 두서없고 장면위주... 대화도 없고\n",
      "서양인들이 하는 사랑 소꿉놀이에 본인들의 주체의식이 없어서 그러는줄 알았는데.. 어느정도 알기는 하는것 같다. 뻔한 로맨틱코미디보다는 낫지만 전체적으로.. 너무 두서없고 장면위주... 대화도 없고\n",
      "서양인들이 하는 사랑 소꿉놀이에 본인들의 책임의식이 없어서 그러는줄 알았는데.. 어느정도 알기는 하는것 같다. 뻔한 로맨틱코미디보다는 낫지만 전체적으로.. 너무 두서없고 장면위주... 대화도 없고\n",
      "서양인들이 하는 사랑 소꿉놀이에 본인들의 성찰이 없어서 그러는줄 알았는데.. 어느정도 알기는 하는것 같다. 뻔한 로맨틱코미디보다는 낫지만 전체적으로.. 너무 두서없고 장면위주... 대화도 없고\n",
      "서양인들이 하는 사랑 소꿉놀이에 본인들의 자신감이 없어서 그러는줄 알았는데.. 어느정도 알기는 하는것 같다. 뻔한 로맨틱코미디보다는 낫지만 전체적으로.. 너무 두서없고 장면위주... 대화도 없고\n",
      "서양인들이 하는 사랑 소꿉놀이에 본인들의 절망감이 없어서 그러는줄 알았는데.. 어느정도 알기는 하는것 같다. 뻔한 로맨틱코미디보다는 낫지만 전체적으로.. 너무 두서없고 장면위주... 대화도 없고\n",
      "서양인들이 하는 사랑 소꿉놀이에 본인들의 싹트면서 없어서 그러는줄 알았는데.. 어느정도 알기는 하는것 같다. 뻔한 로맨틱코미디보다는 낫지만 전체적으로.. 너무 두서없고 장면위주... 대화도 없고\n",
      "없어서\n",
      "서양인들이 하는 사랑 소꿉놀이에 본인들의 자각이 없으니 그러는줄 알았는데.. 어느정도 알기는 하는것 같다. 뻔한 로맨틱코미디보다는 낫지만 전체적으로.. 너무 두서없고 장면위주... 대화도 없고\n",
      "서양인들이 하는 사랑 소꿉놀이에 본인들의 자각이 없는데 그러는줄 알았는데.. 어느정도 알기는 하는것 같다. 뻔한 로맨틱코미디보다는 낫지만 전체적으로.. 너무 두서없고 장면위주... 대화도 없고\n",
      "서양인들이 하는 사랑 소꿉놀이에 본인들의 자각이 없네요 그러는줄 알았는데.. 어느정도 알기는 하는것 같다. 뻔한 로맨틱코미디보다는 낫지만 전체적으로.. 너무 두서없고 장면위주... 대화도 없고\n",
      "서양인들이 하는 사랑 소꿉놀이에 본인들의 자각이 없었는데 그러는줄 알았는데.. 어느정도 알기는 하는것 같다. 뻔한 로맨틱코미디보다는 낫지만 전체적으로.. 너무 두서없고 장면위주... 대화도 없고\n",
      "서양인들이 하는 사랑 소꿉놀이에 본인들의 자각이 없었습니다 그러는줄 알았는데.. 어느정도 알기는 하는것 같다. 뻔한 로맨틱코미디보다는 낫지만 전체적으로.. 너무 두서없고 장면위주... 대화도 없고\n",
      "서양인들이 하는 사랑 소꿉놀이에 본인들의 자각이 없었고 그러는줄 알았는데.. 어느정도 알기는 하는것 같다. 뻔한 로맨틱코미디보다는 낫지만 전체적으로.. 너무 두서없고 장면위주... 대화도 없고\n",
      "서양인들이 하는 사랑 소꿉놀이에 본인들의 자각이 없어요 그러는줄 알았는데.. 어느정도 알기는 하는것 같다. 뻔한 로맨틱코미디보다는 낫지만 전체적으로.. 너무 두서없고 장면위주... 대화도 없고\n",
      "서양인들이 하는 사랑 소꿉놀이에 본인들의 자각이 없기에 그러는줄 알았는데.. 어느정도 알기는 하는것 같다. 뻔한 로맨틱코미디보다는 낫지만 전체적으로.. 너무 두서없고 장면위주... 대화도 없고\n",
      "서양인들이 하는 사랑 소꿉놀이에 본인들의 자각이 없었다 그러는줄 알았는데.. 어느정도 알기는 하는것 같다. 뻔한 로맨틱코미디보다는 낫지만 전체적으로.. 너무 두서없고 장면위주... 대화도 없고\n",
      "서양인들이 하는 사랑 소꿉놀이에 본인들의 자각이 없었어요 그러는줄 알았는데.. 어느정도 알기는 하는것 같다. 뻔한 로맨틱코미디보다는 낫지만 전체적으로.. 너무 두서없고 장면위주... 대화도 없고\n",
      "그러는줄\n",
      "알았는데..\n",
      "알기는\n",
      "서양인들이 하는 사랑 소꿉놀이에 본인들의 자각이 없어서 그러는줄 알았는데.. 어느정도 알기가 하는것 같다. 뻔한 로맨틱코미디보다는 낫지만 전체적으로.. 너무 두서없고 장면위주... 대화도 없고\n",
      "서양인들이 하는 사랑 소꿉놀이에 본인들의 자각이 없어서 그러는줄 알았는데.. 어느정도 믿기가 하는것 같다. 뻔한 로맨틱코미디보다는 낫지만 전체적으로.. 너무 두서없고 장면위주... 대화도 없고\n",
      "서양인들이 하는 사랑 소꿉놀이에 본인들의 자각이 없어서 그러는줄 알았는데.. 어느정도 알기란 하는것 같다. 뻔한 로맨틱코미디보다는 낫지만 전체적으로.. 너무 두서없고 장면위주... 대화도 없고\n",
      "서양인들이 하는 사랑 소꿉놀이에 본인들의 자각이 없어서 그러는줄 알았는데.. 어느정도 믿기는 하는것 같다. 뻔한 로맨틱코미디보다는 낫지만 전체적으로.. 너무 두서없고 장면위주... 대화도 없고\n",
      "서양인들이 하는 사랑 소꿉놀이에 본인들의 자각이 없어서 그러는줄 알았는데.. 어느정도 이해하기는 하는것 같다. 뻔한 로맨틱코미디보다는 낫지만 전체적으로.. 너무 두서없고 장면위주... 대화도 없고\n",
      "서양인들이 하는 사랑 소꿉놀이에 본인들의 자각이 없어서 그러는줄 알았는데.. 어느정도 짐작하기 하는것 같다. 뻔한 로맨틱코미디보다는 낫지만 전체적으로.. 너무 두서없고 장면위주... 대화도 없고\n",
      "서양인들이 하는 사랑 소꿉놀이에 본인들의 자각이 없어서 그러는줄 알았는데.. 어느정도 짐작하기는 하는것 같다. 뻔한 로맨틱코미디보다는 낫지만 전체적으로.. 너무 두서없고 장면위주... 대화도 없고\n",
      "서양인들이 하는 사랑 소꿉놀이에 본인들의 자각이 없어서 그러는줄 알았는데.. 어느정도 느끼기는 하는것 같다. 뻔한 로맨틱코미디보다는 낫지만 전체적으로.. 너무 두서없고 장면위주... 대화도 없고\n",
      "서양인들이 하는 사랑 소꿉놀이에 본인들의 자각이 없어서 그러는줄 알았는데.. 어느정도 이해하기란 하는것 같다. 뻔한 로맨틱코미디보다는 낫지만 전체적으로.. 너무 두서없고 장면위주... 대화도 없고\n",
      "서양인들이 하는 사랑 소꿉놀이에 본인들의 자각이 없어서 그러는줄 알았는데.. 어느정도 파악하기란 하는것 같다. 뻔한 로맨틱코미디보다는 낫지만 전체적으로.. 너무 두서없고 장면위주... 대화도 없고\n",
      "하는것\n",
      "서양인들이 하는 사랑 소꿉놀이에 본인들의 자각이 없어서 그러는줄 알았는데.. 어느정도 알기는 하시는것 같다. 뻔한 로맨틱코미디보다는 낫지만 전체적으로.. 너무 두서없고 장면위주... 대화도 없고\n",
      "서양인들이 하는 사랑 소꿉놀이에 본인들의 자각이 없어서 그러는줄 알았는데.. 어느정도 알기는 한것 같다. 뻔한 로맨틱코미디보다는 낫지만 전체적으로.. 너무 두서없고 장면위주... 대화도 없고\n",
      "서양인들이 하는 사랑 소꿉놀이에 본인들의 자각이 없어서 그러는줄 알았는데.. 어느정도 알기는 하는거 같다. 뻔한 로맨틱코미디보다는 낫지만 전체적으로.. 너무 두서없고 장면위주... 대화도 없고\n",
      "서양인들이 하는 사랑 소꿉놀이에 본인들의 자각이 없어서 그러는줄 알았는데.. 어느정도 알기는 했던것 같다. 뻔한 로맨틱코미디보다는 낫지만 전체적으로.. 너무 두서없고 장면위주... 대화도 없고\n",
      "서양인들이 하는 사랑 소꿉놀이에 본인들의 자각이 없어서 그러는줄 알았는데.. 어느정도 알기는 한다는것 같다. 뻔한 로맨틱코미디보다는 낫지만 전체적으로.. 너무 두서없고 장면위주... 대화도 없고\n",
      "서양인들이 하는 사랑 소꿉놀이에 본인들의 자각이 없어서 그러는줄 알았는데.. 어느정도 알기는 잘하는것 같다. 뻔한 로맨틱코미디보다는 낫지만 전체적으로.. 너무 두서없고 장면위주... 대화도 없고\n",
      "서양인들이 하는 사랑 소꿉놀이에 본인들의 자각이 없어서 그러는줄 알았는데.. 어느정도 알기는 했던거 같다. 뻔한 로맨틱코미디보다는 낫지만 전체적으로.. 너무 두서없고 장면위주... 대화도 없고\n",
      "서양인들이 하는 사랑 소꿉놀이에 본인들의 자각이 없어서 그러는줄 알았는데.. 어느정도 알기는 안하는것 같다. 뻔한 로맨틱코미디보다는 낫지만 전체적으로.. 너무 두서없고 장면위주... 대화도 없고\n",
      "서양인들이 하는 사랑 소꿉놀이에 본인들의 자각이 없어서 그러는줄 알았는데.. 어느정도 알기는 했었던것 같다. 뻔한 로맨틱코미디보다는 낫지만 전체적으로.. 너무 두서없고 장면위주... 대화도 없고\n",
      "서양인들이 하는 사랑 소꿉놀이에 본인들의 자각이 없어서 그러는줄 알았는데.. 어느정도 알기는 있는것 같다. 뻔한 로맨틱코미디보다는 낫지만 전체적으로.. 너무 두서없고 장면위주... 대화도 없고\n",
      "같다.\n",
      "서양인들이 하는 사랑 소꿉놀이에 본인들의 자각이 없어서 그러는줄 알았는데.. 어느정도 알기는 하는것 같습니다. 뻔한 로맨틱코미디보다는 낫지만 전체적으로.. 너무 두서없고 장면위주... 대화도 없고\n",
      "서양인들이 하는 사랑 소꿉놀이에 본인들의 자각이 없어서 그러는줄 알았는데.. 어느정도 알기는 하는것 같다 뻔한 로맨틱코미디보다는 낫지만 전체적으로.. 너무 두서없고 장면위주... 대화도 없고\n",
      "서양인들이 하는 사랑 소꿉놀이에 본인들의 자각이 없어서 그러는줄 알았는데.. 어느정도 알기는 하는것 듯. 뻔한 로맨틱코미디보다는 낫지만 전체적으로.. 너무 두서없고 장면위주... 대화도 없고\n",
      "서양인들이 하는 사랑 소꿉놀이에 본인들의 자각이 없어서 그러는줄 알았는데.. 어느정도 알기는 하는것 같네요. 뻔한 로맨틱코미디보다는 낫지만 전체적으로.. 너무 두서없고 장면위주... 대화도 없고\n",
      "서양인들이 하는 사랑 소꿉놀이에 본인들의 자각이 없어서 그러는줄 알았는데.. 어느정도 알기는 하는것 것. 뻔한 로맨틱코미디보다는 낫지만 전체적으로.. 너무 두서없고 장면위주... 대화도 없고\n",
      "서양인들이 하는 사랑 소꿉놀이에 본인들의 자각이 없어서 그러는줄 알았는데.. 어느정도 알기는 하는것 같아요. 뻔한 로맨틱코미디보다는 낫지만 전체적으로.. 너무 두서없고 장면위주... 대화도 없고\n",
      "서양인들이 하는 사랑 소꿉놀이에 본인들의 자각이 없어서 그러는줄 알았는데.. 어느정도 알기는 하는것 같다.- 뻔한 로맨틱코미디보다는 낫지만 전체적으로.. 너무 두서없고 장면위주... 대화도 없고\n",
      "서양인들이 하는 사랑 소꿉놀이에 본인들의 자각이 없어서 그러는줄 알았는데.. 어느정도 알기는 하는것 것이다. 뻔한 로맨틱코미디보다는 낫지만 전체적으로.. 너무 두서없고 장면위주... 대화도 없고\n",
      "서양인들이 하는 사랑 소꿉놀이에 본인들의 자각이 없어서 그러는줄 알았는데.. 어느정도 알기는 하는것 보인다. 뻔한 로맨틱코미디보다는 낫지만 전체적으로.. 너무 두서없고 장면위주... 대화도 없고\n",
      "서양인들이 하는 사랑 소꿉놀이에 본인들의 자각이 없어서 그러는줄 알았는데.. 어느정도 알기는 하는것 이다. 뻔한 로맨틱코미디보다는 낫지만 전체적으로.. 너무 두서없고 장면위주... 대화도 없고\n",
      "로맨틱코미디보다는\n",
      "서양인들이 하는 사랑 소꿉놀이에 본인들의 자각이 없어서 그러는줄 알았는데.. 어느정도 알기는 하는것 같다. 뻔한 로맨틱코미디 낫지만 전체적으로.. 너무 두서없고 장면위주... 대화도 없고\n",
      "서양인들이 하는 사랑 소꿉놀이에 본인들의 자각이 없어서 그러는줄 알았는데.. 어느정도 알기는 하는것 같다. 뻔한 약속.E51.160413.HDTV.H264.450p-WITH 낫지만 전체적으로.. 너무 두서없고 장면위주... 대화도 없고\n",
      "서양인들이 하는 사랑 소꿉놀이에 본인들의 자각이 없어서 그러는줄 알았는데.. 어느정도 알기는 하는것 같다. 뻔한 50개국북한투르크메니스탄아프가니스탄알제리아제르바이잔방글라데시벨라루스 낫지만 전체적으로.. 너무 두서없고 장면위주... 대화도 없고\n",
      "낫지만\n",
      "서양인들이 하는 사랑 소꿉놀이에 본인들의 자각이 없어서 그러는줄 알았는데.. 어느정도 알기는 하는것 같다. 뻔한 로맨틱코미디보다는 나은데 전체적으로.. 너무 두서없고 장면위주... 대화도 없고\n",
      "서양인들이 하는 사랑 소꿉놀이에 본인들의 자각이 없어서 그러는줄 알았는데.. 어느정도 알기는 하는것 같다. 뻔한 로맨틱코미디보다는 낫겠지만 전체적으로.. 너무 두서없고 장면위주... 대화도 없고\n",
      "서양인들이 하는 사랑 소꿉놀이에 본인들의 자각이 없어서 그러는줄 알았는데.. 어느정도 알기는 하는것 같다. 뻔한 로맨틱코미디보다는 낫거나 전체적으로.. 너무 두서없고 장면위주... 대화도 없고\n",
      "서양인들이 하는 사랑 소꿉놀이에 본인들의 자각이 없어서 그러는줄 알았는데.. 어느정도 알기는 하는것 같다. 뻔한 로맨틱코미디보다는 낫다 전체적으로.. 너무 두서없고 장면위주... 대화도 없고\n",
      "서양인들이 하는 사랑 소꿉놀이에 본인들의 자각이 없어서 그러는줄 알았는데.. 어느정도 알기는 하는것 같다. 뻔한 로맨틱코미디보다는 낫죠 전체적으로.. 너무 두서없고 장면위주... 대화도 없고\n",
      "서양인들이 하는 사랑 소꿉놀이에 본인들의 자각이 없어서 그러는줄 알았는데.. 어느정도 알기는 하는것 같다. 뻔한 로맨틱코미디보다는 나은듯 전체적으로.. 너무 두서없고 장면위주... 대화도 없고\n",
      "서양인들이 하는 사랑 소꿉놀이에 본인들의 자각이 없어서 그러는줄 알았는데.. 어느정도 알기는 하는것 같다. 뻔한 로맨틱코미디보다는 낫고 전체적으로.. 너무 두서없고 장면위주... 대화도 없고\n",
      "서양인들이 하는 사랑 소꿉놀이에 본인들의 자각이 없어서 그러는줄 알았는데.. 어느정도 알기는 하는것 같다. 뻔한 로맨틱코미디보다는 훨씬 전체적으로.. 너무 두서없고 장면위주... 대화도 없고\n",
      "서양인들이 하는 사랑 소꿉놀이에 본인들의 자각이 없어서 그러는줄 알았는데.. 어느정도 알기는 하는것 같다. 뻔한 로맨틱코미디보다는 덜한데 전체적으로.. 너무 두서없고 장면위주... 대화도 없고\n",
      "서양인들이 하는 사랑 소꿉놀이에 본인들의 자각이 없어서 그러는줄 알았는데.. 어느정도 알기는 하는것 같다. 뻔한 로맨틱코미디보다는 낫더군요 전체적으로.. 너무 두서없고 장면위주... 대화도 없고\n",
      "전체적으로..\n",
      "서양인들이 하는 사랑 소꿉놀이에 본인들의 자각이 없어서 그러는줄 알았는데.. 어느정도 알기는 하는것 같다. 뻔한 로맨틱코미디보다는 낫지만 하동군산청군함양군거창군양산시의령군함안군합천군진주시창원시통영시 너무 두서없고 장면위주... 대화도 없고\n",
      "서양인들이 하는 사랑 소꿉놀이에 본인들의 자각이 없어서 그러는줄 알았는데.. 어느정도 알기는 하는것 같다. 뻔한 로맨틱코미디보다는 낫지만 호텔사전등록호텔정보관광정보참가업체참가안내참가방법개최결과참가업체 너무 두서없고 장면위주... 대화도 없고\n",
      "서양인들이 하는 사랑 소꿉놀이에 본인들의 자각이 없어서 그러는줄 알았는데.. 어느정도 알기는 하는것 같다. 뻔한 로맨틱코미디보다는 낫지만 수의계약하도급현황대가지급계약안내계약법규계약서식관련기관안내 너무 두서없고 장면위주... 대화도 없고\n",
      "너무\n",
      "서양인들이 하는 사랑 소꿉놀이에 본인들의 자각이 없어서 그러는줄 알았는데.. 어느정도 알기는 하는것 같다. 뻔한 로맨틱코미디보다는 낫지만 전체적으로.. 무척 두서없고 장면위주... 대화도 없고\n",
      "서양인들이 하는 사랑 소꿉놀이에 본인들의 자각이 없어서 그러는줄 알았는데.. 어느정도 알기는 하는것 같다. 뻔한 로맨틱코미디보다는 낫지만 전체적으로.. 매우 두서없고 장면위주... 대화도 없고\n",
      "서양인들이 하는 사랑 소꿉놀이에 본인들의 자각이 없어서 그러는줄 알았는데.. 어느정도 알기는 하는것 같다. 뻔한 로맨틱코미디보다는 낫지만 전체적으로.. 넘 두서없고 장면위주... 대화도 없고\n",
      "서양인들이 하는 사랑 소꿉놀이에 본인들의 자각이 없어서 그러는줄 알았는데.. 어느정도 알기는 하는것 같다. 뻔한 로맨틱코미디보다는 낫지만 전체적으로.. 정말 두서없고 장면위주... 대화도 없고\n",
      "서양인들이 하는 사랑 소꿉놀이에 본인들의 자각이 없어서 그러는줄 알았는데.. 어느정도 알기는 하는것 같다. 뻔한 로맨틱코미디보다는 낫지만 전체적으로.. 너무나 두서없고 장면위주... 대화도 없고\n",
      "서양인들이 하는 사랑 소꿉놀이에 본인들의 자각이 없어서 그러는줄 알았는데.. 어느정도 알기는 하는것 같다. 뻔한 로맨틱코미디보다는 낫지만 전체적으로.. 엄청 두서없고 장면위주... 대화도 없고\n",
      "서양인들이 하는 사랑 소꿉놀이에 본인들의 자각이 없어서 그러는줄 알았는데.. 어느정도 알기는 하는것 같다. 뻔한 로맨틱코미디보다는 낫지만 전체적으로.. 아주 두서없고 장면위주... 대화도 없고\n",
      "서양인들이 하는 사랑 소꿉놀이에 본인들의 자각이 없어서 그러는줄 알았는데.. 어느정도 알기는 하는것 같다. 뻔한 로맨틱코미디보다는 낫지만 전체적으로.. 과해서 두서없고 장면위주... 대화도 없고\n",
      "서양인들이 하는 사랑 소꿉놀이에 본인들의 자각이 없어서 그러는줄 알았는데.. 어느정도 알기는 하는것 같다. 뻔한 로맨틱코미디보다는 낫지만 전체적으로.. 지나치게 두서없고 장면위주... 대화도 없고\n",
      "서양인들이 하는 사랑 소꿉놀이에 본인들의 자각이 없어서 그러는줄 알았는데.. 어느정도 알기는 하는것 같다. 뻔한 로맨틱코미디보다는 낫지만 전체적으로.. 진지해서 두서없고 장면위주... 대화도 없고\n",
      "두서없고\n",
      "서양인들이 하는 사랑 소꿉놀이에 본인들의 자각이 없어서 그러는줄 알았는데.. 어느정도 알기는 하는것 같다. 뻔한 로맨틱코미디보다는 낫지만 전체적으로.. 너무 머랄까 장면위주... 대화도 없고\n",
      "서양인들이 하는 사랑 소꿉놀이에 본인들의 자각이 없어서 그러는줄 알았는데.. 어느정도 알기는 하는것 같다. 뻔한 로맨틱코미디보다는 낫지만 전체적으로.. 너무 장황하고 장면위주... 대화도 없고\n",
      "서양인들이 하는 사랑 소꿉놀이에 본인들의 자각이 없어서 그러는줄 알았는데.. 어느정도 알기는 하는것 같다. 뻔한 로맨틱코미디보다는 낫지만 전체적으로.. 너무 모르는것도 장면위주... 대화도 없고\n",
      "서양인들이 하는 사랑 소꿉놀이에 본인들의 자각이 없어서 그러는줄 알았는데.. 어느정도 알기는 하는것 같다. 뻔한 로맨틱코미디보다는 낫지만 전체적으로.. 너무 읽기엔 장면위주... 대화도 없고\n",
      "서양인들이 하는 사랑 소꿉놀이에 본인들의 자각이 없어서 그러는줄 알았는데.. 어느정도 알기는 하는것 같다. 뻔한 로맨틱코미디보다는 낫지만 전체적으로.. 너무 말주변도 장면위주... 대화도 없고\n",
      "서양인들이 하는 사랑 소꿉놀이에 본인들의 자각이 없어서 그러는줄 알았는데.. 어느정도 알기는 하는것 같다. 뻔한 로맨틱코미디보다는 낫지만 전체적으로.. 너무 코지토님이 장면위주... 대화도 없고\n",
      "서양인들이 하는 사랑 소꿉놀이에 본인들의 자각이 없어서 그러는줄 알았는데.. 어느정도 알기는 하는것 같다. 뻔한 로맨틱코미디보다는 낫지만 전체적으로.. 너무 배울게 장면위주... 대화도 없고\n",
      "서양인들이 하는 사랑 소꿉놀이에 본인들의 자각이 없어서 그러는줄 알았는데.. 어느정도 알기는 하는것 같다. 뻔한 로맨틱코미디보다는 낫지만 전체적으로.. 너무 그거보다는 장면위주... 대화도 없고\n",
      "서양인들이 하는 사랑 소꿉놀이에 본인들의 자각이 없어서 그러는줄 알았는데.. 어느정도 알기는 하는것 같다. 뻔한 로맨틱코미디보다는 낫지만 전체적으로.. 너무 다시보면 장면위주... 대화도 없고\n",
      "서양인들이 하는 사랑 소꿉놀이에 본인들의 자각이 없어서 그러는줄 알았는데.. 어느정도 알기는 하는것 같다. 뻔한 로맨틱코미디보다는 낫지만 전체적으로.. 너무 생각할게 장면위주... 대화도 없고\n",
      "장면위주...\n",
      "서양인들이 하는 사랑 소꿉놀이에 본인들의 자각이 없어서 그러는줄 알았는데.. 어느정도 알기는 하는것 같다. 뻔한 로맨틱코미디보다는 낫지만 전체적으로.. 너무 두서없고 체크인체크인체크아웃체크아웃일월화수목금토4월 대화도 없고\n",
      "서양인들이 하는 사랑 소꿉놀이에 본인들의 자각이 없어서 그러는줄 알았는데.. 어느정도 알기는 하는것 같다. 뻔한 로맨틱코미디보다는 낫지만 전체적으로.. 너무 두서없고 대원미디어대원미디어는지나온길비전경영자계열사대원방송 대화도 없고\n",
      "서양인들이 하는 사랑 소꿉놀이에 본인들의 자각이 없어서 그러는줄 알았는데.. 어느정도 알기는 하는것 같다. 뻔한 로맨틱코미디보다는 낫지만 전체적으로.. 너무 두서없고 장학안내교육안내장학안내생활지원심리상담센터경력개발센터맞춤형 대화도 없고\n",
      "서양인들이 하는 사랑 소꿉놀이에 본인들의 자각이 없어서 그러는줄 알았는데.. 어느정도 알기는 하는것 같다. 뻔한 로맨틱코미디보다는 낫지만 전체적으로.. 너무 두서없고 полна 대화도 없고\n",
      "서양인들이 하는 사랑 소꿉놀이에 본인들의 자각이 없어서 그러는줄 알았는데.. 어느정도 알기는 하는것 같다. 뻔한 로맨틱코미디보다는 낫지만 전체적으로.. 너무 두서없고 AaaaaAAaaaAAAaaAAAAaAAAAA 대화도 없고\n",
      "대화도\n",
      "서양인들이 하는 사랑 소꿉놀이에 본인들의 자각이 없어서 그러는줄 알았는데.. 어느정도 알기는 하는것 같다. 뻔한 로맨틱코미디보다는 낫지만 전체적으로.. 너무 두서없고 장면위주... 대화가 없고\n",
      "서양인들이 하는 사랑 소꿉놀이에 본인들의 자각이 없어서 그러는줄 알았는데.. 어느정도 알기는 하는것 같다. 뻔한 로맨틱코미디보다는 낫지만 전체적으로.. 너무 두서없고 장면위주... 대화를 없고\n",
      "서양인들이 하는 사랑 소꿉놀이에 본인들의 자각이 없어서 그러는줄 알았는데.. 어느정도 알기는 하는것 같다. 뻔한 로맨틱코미디보다는 낫지만 전체적으로.. 너무 두서없고 장면위주... 소통도 없고\n",
      "서양인들이 하는 사랑 소꿉놀이에 본인들의 자각이 없어서 그러는줄 알았는데.. 어느정도 알기는 하는것 같다. 뻔한 로맨틱코미디보다는 낫지만 전체적으로.. 너무 두서없고 장면위주... 대화는 없고\n",
      "서양인들이 하는 사랑 소꿉놀이에 본인들의 자각이 없어서 그러는줄 알았는데.. 어느정도 알기는 하는것 같다. 뻔한 로맨틱코미디보다는 낫지만 전체적으로.. 너무 두서없고 장면위주... 대화만 없고\n",
      "서양인들이 하는 사랑 소꿉놀이에 본인들의 자각이 없어서 그러는줄 알았는데.. 어느정도 알기는 하는것 같다. 뻔한 로맨틱코미디보다는 낫지만 전체적으로.. 너무 두서없고 장면위주... 채팅도 없고\n",
      "서양인들이 하는 사랑 소꿉놀이에 본인들의 자각이 없어서 그러는줄 알았는데.. 어느정도 알기는 하는것 같다. 뻔한 로맨틱코미디보다는 낫지만 전체적으로.. 너무 두서없고 장면위주... 대화나 없고\n",
      "서양인들이 하는 사랑 소꿉놀이에 본인들의 자각이 없어서 그러는줄 알았는데.. 어느정도 알기는 하는것 같다. 뻔한 로맨틱코미디보다는 낫지만 전체적으로.. 너무 두서없고 장면위주... 담소를 없고\n",
      "서양인들이 하는 사랑 소꿉놀이에 본인들의 자각이 없어서 그러는줄 알았는데.. 어느정도 알기는 하는것 같다. 뻔한 로맨틱코미디보다는 낫지만 전체적으로.. 너무 두서없고 장면위주... 교류도 없고\n",
      "서양인들이 하는 사랑 소꿉놀이에 본인들의 자각이 없어서 그러는줄 알았는데.. 어느정도 알기는 하는것 같다. 뻔한 로맨틱코미디보다는 낫지만 전체적으로.. 너무 두서없고 장면위주... 大和島 없고\n",
      "없고\n",
      "서양인들이 하는 사랑 소꿉놀이에 본인들의 자각이 없어서 그러는줄 알았는데.. 어느정도 알기는 하는것 같다. 뻔한 로맨틱코미디보다는 낫지만 전체적으로.. 너무 두서없고 장면위주... 대화도 없다\n",
      "서양인들이 하는 사랑 소꿉놀이에 본인들의 자각이 없어서 그러는줄 알았는데.. 어느정도 알기는 하는것 같다. 뻔한 로맨틱코미디보다는 낫지만 전체적으로.. 너무 두서없고 장면위주... 대화도 없기\n",
      "서양인들이 하는 사랑 소꿉놀이에 본인들의 자각이 없어서 그러는줄 알았는데.. 어느정도 알기는 하는것 같다. 뻔한 로맨틱코미디보다는 낫지만 전체적으로.. 너무 두서없고 장면위주... 대화도 없는\n",
      "서양인들이 하는 사랑 소꿉놀이에 본인들의 자각이 없어서 그러는줄 알았는데.. 어느정도 알기는 하는것 같다. 뻔한 로맨틱코미디보다는 낫지만 전체적으로.. 너무 두서없고 장면위주... 대화도 없어\n",
      "서양인들이 하는 사랑 소꿉놀이에 본인들의 자각이 없어서 그러는줄 알았는데.. 어느정도 알기는 하는것 같다. 뻔한 로맨틱코미디보다는 낫지만 전체적으로.. 너무 두서없고 장면위주... 대화도 없구\n",
      "서양인들이 하는 사랑 소꿉놀이에 본인들의 자각이 없어서 그러는줄 알았는데.. 어느정도 알기는 하는것 같다. 뻔한 로맨틱코미디보다는 낫지만 전체적으로.. 너무 두서없고 장면위주... 대화도 없을\n",
      "서양인들이 하는 사랑 소꿉놀이에 본인들의 자각이 없어서 그러는줄 알았는데.. 어느정도 알기는 하는것 같다. 뻔한 로맨틱코미디보다는 낫지만 전체적으로.. 너무 두서없고 장면위주... 대화도 없으며\n",
      "서양인들이 하는 사랑 소꿉놀이에 본인들의 자각이 없어서 그러는줄 알았는데.. 어느정도 알기는 하는것 같다. 뻔한 로맨틱코미디보다는 낫지만 전체적으로.. 너무 두서없고 장면위주... 대화도 있고\n",
      "서양인들이 하는 사랑 소꿉놀이에 본인들의 자각이 없어서 그러는줄 알았는데.. 어느정도 알기는 하는것 같다. 뻔한 로맨틱코미디보다는 낫지만 전체적으로.. 너무 두서없고 장면위주... 대화도 없죠\n",
      "서양인들이 하는 사랑 소꿉놀이에 본인들의 자각이 없어서 그러는줄 알았는데.. 어느정도 알기는 하는것 같다. 뻔한 로맨틱코미디보다는 낫지만 전체적으로.. 너무 두서없고 장면위주... 대화도 없고요\n"
     ]
    }
   ],
   "metadata": {}
  },
  {
   "cell_type": "code",
   "execution_count": 15,
   "source": [
    "print(test)\n",
    "[t.text for t in tt]"
   ],
   "outputs": [
    {
     "output_type": "stream",
     "name": "stdout",
     "text": [
      "서양인들이 하는 사랑 소꿉놀이에 본인들의 자각이 없어서 그러는줄 알았는데.. 어느정도 알기는 하는것 같다. 뻔한 로맨틱코미디보다는 낫지만 전체적으로.. 너무 두서없고 장면위주... 대화도 없고\n"
     ]
    },
    {
     "output_type": "execute_result",
     "data": {
      "text/plain": [
       "['동양인들이 하는 사랑 소꿉놀이에 본인들의 자각이 없어서 그러는줄 알았는데.. 어느정도 알기는 하는것 같다. 뻔한 로맨틱코미디보다는 낫지만 전체적으로.. 너무 두서없고 장면위주... 대화도 없고',\n",
       " '서양인들이 한는 사랑 소꿉놀이에 본인들의 자각이 없어서 그러는줄 알았는데.. 어느정도 알기는 하는것 같다. 뻔한 로맨틱코미디보다는 낫지만 전체적으로.. 너무 두서없고 장면위주... 대화도 없고',\n",
       " '서양인들이 하는 比目魚 소꿉놀이에 본인들의 자각이 없어서 그러는줄 알았는데.. 어느정도 알기는 하는것 같다. 뻔한 로맨틱코미디보다는 낫지만 전체적으로.. 너무 두서없고 장면위주... 대화도 없고',\n",
       " '서양인들이 하는 사랑 소꿉놀이에 자신들의 자각이 없어서 그러는줄 알았는데.. 어느정도 알기는 하는것 같다. 뻔한 로맨틱코미디보다는 낫지만 전체적으로.. 너무 두서없고 장면위주... 대화도 없고',\n",
       " '서양인들이 하는 사랑 소꿉놀이에 본인들의 자기반성이 없어서 그러는줄 알았는데.. 어느정도 알기는 하는것 같다. 뻔한 로맨틱코미디보다는 낫지만 전체적으로.. 너무 두서없고 장면위주... 대화도 없고',\n",
       " '서양인들이 하는 사랑 소꿉놀이에 본인들의 성찰이 없어서 그러는줄 알았는데.. 어느정도 알기는 하는것 같다. 뻔한 로맨틱코미디보다는 낫지만 전체적으로.. 너무 두서없고 장면위주... 대화도 없고',\n",
       " '서양인들이 하는 사랑 소꿉놀이에 본인들의 절망감이 없어서 그러는줄 알았는데.. 어느정도 알기는 하는것 같다. 뻔한 로맨틱코미디보다는 낫지만 전체적으로.. 너무 두서없고 장면위주... 대화도 없고',\n",
       " '서양인들이 하는 사랑 소꿉놀이에 본인들의 자각이 없으니 그러는줄 알았는데.. 어느정도 알기는 하는것 같다. 뻔한 로맨틱코미디보다는 낫지만 전체적으로.. 너무 두서없고 장면위주... 대화도 없고',\n",
       " '서양인들이 하는 사랑 소꿉놀이에 본인들의 자각이 없네요 그러는줄 알았는데.. 어느정도 알기는 하는것 같다. 뻔한 로맨틱코미디보다는 낫지만 전체적으로.. 너무 두서없고 장면위주... 대화도 없고',\n",
       " '서양인들이 하는 사랑 소꿉놀이에 본인들의 자각이 없어서 그러는줄 알았는데.. 어느정도 알기란 하는것 같다. 뻔한 로맨틱코미디보다는 낫지만 전체적으로.. 너무 두서없고 장면위주... 대화도 없고',\n",
       " '서양인들이 하는 사랑 소꿉놀이에 본인들의 자각이 없어서 그러는줄 알았는데.. 어느정도 믿기는 하는것 같다. 뻔한 로맨틱코미디보다는 낫지만 전체적으로.. 너무 두서없고 장면위주... 대화도 없고',\n",
       " '서양인들이 하는 사랑 소꿉놀이에 본인들의 자각이 없어서 그러는줄 알았는데.. 어느정도 느끼기는 하는것 같다. 뻔한 로맨틱코미디보다는 낫지만 전체적으로.. 너무 두서없고 장면위주... 대화도 없고',\n",
       " '서양인들이 하는 사랑 소꿉놀이에 본인들의 자각이 없어서 그러는줄 알았는데.. 어느정도 알기는 하는거 같다. 뻔한 로맨틱코미디보다는 낫지만 전체적으로.. 너무 두서없고 장면위주... 대화도 없고',\n",
       " '서양인들이 하는 사랑 소꿉놀이에 본인들의 자각이 없어서 그러는줄 알았는데.. 어느정도 알기는 하는것 같습니다. 뻔한 로맨틱코미디보다는 낫지만 전체적으로.. 너무 두서없고 장면위주... 대화도 없고',\n",
       " '서양인들이 하는 사랑 소꿉놀이에 본인들의 자각이 없어서 그러는줄 알았는데.. 어느정도 알기는 하는것 같네요. 뻔한 로맨틱코미디보다는 낫지만 전체적으로.. 너무 두서없고 장면위주... 대화도 없고',\n",
       " '서양인들이 하는 사랑 소꿉놀이에 본인들의 자각이 없어서 그러는줄 알았는데.. 어느정도 알기는 하는것 같아요. 뻔한 로맨틱코미디보다는 낫지만 전체적으로.. 너무 두서없고 장면위주... 대화도 없고',\n",
       " '서양인들이 하는 사랑 소꿉놀이에 본인들의 자각이 없어서 그러는줄 알았는데.. 어느정도 알기는 하는것 같다. 뻔한 로맨틱코미디보다는 낫거나 전체적으로.. 너무 두서없고 장면위주... 대화도 없고',\n",
       " '서양인들이 하는 사랑 소꿉놀이에 본인들의 자각이 없어서 그러는줄 알았는데.. 어느정도 알기는 하는것 같다. 뻔한 로맨틱코미디보다는 낫다 전체적으로.. 너무 두서없고 장면위주... 대화도 없고',\n",
       " '서양인들이 하는 사랑 소꿉놀이에 본인들의 자각이 없어서 그러는줄 알았는데.. 어느정도 알기는 하는것 같다. 뻔한 로맨틱코미디보다는 낫고 전체적으로.. 너무 두서없고 장면위주... 대화도 없고',\n",
       " '서양인들이 하는 사랑 소꿉놀이에 본인들의 자각이 없어서 그러는줄 알았는데.. 어느정도 알기는 하는것 같다. 뻔한 로맨틱코미디보다는 낫더군요 전체적으로.. 너무 두서없고 장면위주... 대화도 없고',\n",
       " '서양인들이 하는 사랑 소꿉놀이에 본인들의 자각이 없어서 그러는줄 알았는데.. 어느정도 알기는 하는것 같다. 뻔한 로맨틱코미디보다는 낫지만 전체적으로.. 무척 두서없고 장면위주... 대화도 없고',\n",
       " '서양인들이 하는 사랑 소꿉놀이에 본인들의 자각이 없어서 그러는줄 알았는데.. 어느정도 알기는 하는것 같다. 뻔한 로맨틱코미디보다는 낫지만 전체적으로.. 매우 두서없고 장면위주... 대화도 없고',\n",
       " '서양인들이 하는 사랑 소꿉놀이에 본인들의 자각이 없어서 그러는줄 알았는데.. 어느정도 알기는 하는것 같다. 뻔한 로맨틱코미디보다는 낫지만 전체적으로.. 넘 두서없고 장면위주... 대화도 없고',\n",
       " '서양인들이 하는 사랑 소꿉놀이에 본인들의 자각이 없어서 그러는줄 알았는데.. 어느정도 알기는 하는것 같다. 뻔한 로맨틱코미디보다는 낫지만 전체적으로.. 정말 두서없고 장면위주... 대화도 없고',\n",
       " '서양인들이 하는 사랑 소꿉놀이에 본인들의 자각이 없어서 그러는줄 알았는데.. 어느정도 알기는 하는것 같다. 뻔한 로맨틱코미디보다는 낫지만 전체적으로.. 너무나 두서없고 장면위주... 대화도 없고',\n",
       " '서양인들이 하는 사랑 소꿉놀이에 본인들의 자각이 없어서 그러는줄 알았는데.. 어느정도 알기는 하는것 같다. 뻔한 로맨틱코미디보다는 낫지만 전체적으로.. 엄청 두서없고 장면위주... 대화도 없고',\n",
       " '서양인들이 하는 사랑 소꿉놀이에 본인들의 자각이 없어서 그러는줄 알았는데.. 어느정도 알기는 하는것 같다. 뻔한 로맨틱코미디보다는 낫지만 전체적으로.. 아주 두서없고 장면위주... 대화도 없고',\n",
       " '서양인들이 하는 사랑 소꿉놀이에 본인들의 자각이 없어서 그러는줄 알았는데.. 어느정도 알기는 하는것 같다. 뻔한 로맨틱코미디보다는 낫지만 전체적으로.. 너무 두서없고 장면위주... 소통도 없고',\n",
       " '서양인들이 하는 사랑 소꿉놀이에 본인들의 자각이 없어서 그러는줄 알았는데.. 어느정도 알기는 하는것 같다. 뻔한 로맨틱코미디보다는 낫지만 전체적으로.. 너무 두서없고 장면위주... 대화는 없고',\n",
       " '서양인들이 하는 사랑 소꿉놀이에 본인들의 자각이 없어서 그러는줄 알았는데.. 어느정도 알기는 하는것 같다. 뻔한 로맨틱코미디보다는 낫지만 전체적으로.. 너무 두서없고 장면위주... 대화만 없고',\n",
       " '서양인들이 하는 사랑 소꿉놀이에 본인들의 자각이 없어서 그러는줄 알았는데.. 어느정도 알기는 하는것 같다. 뻔한 로맨틱코미디보다는 낫지만 전체적으로.. 너무 두서없고 장면위주... 채팅도 없고',\n",
       " '서양인들이 하는 사랑 소꿉놀이에 본인들의 자각이 없어서 그러는줄 알았는데.. 어느정도 알기는 하는것 같다. 뻔한 로맨틱코미디보다는 낫지만 전체적으로.. 너무 두서없고 장면위주... 대화나 없고',\n",
       " '서양인들이 하는 사랑 소꿉놀이에 본인들의 자각이 없어서 그러는줄 알았는데.. 어느정도 알기는 하는것 같다. 뻔한 로맨틱코미디보다는 낫지만 전체적으로.. 너무 두서없고 장면위주... 교류도 없고',\n",
       " '서양인들이 하는 사랑 소꿉놀이에 본인들의 자각이 없어서 그러는줄 알았는데.. 어느정도 알기는 하는것 같다. 뻔한 로맨틱코미디보다는 낫지만 전체적으로.. 너무 두서없고 장면위주... 대화도 없다',\n",
       " '서양인들이 하는 사랑 소꿉놀이에 본인들의 자각이 없어서 그러는줄 알았는데.. 어느정도 알기는 하는것 같다. 뻔한 로맨틱코미디보다는 낫지만 전체적으로.. 너무 두서없고 장면위주... 대화도 없어',\n",
       " '서양인들이 하는 사랑 소꿉놀이에 본인들의 자각이 없어서 그러는줄 알았는데.. 어느정도 알기는 하는것 같다. 뻔한 로맨틱코미디보다는 낫지만 전체적으로.. 너무 두서없고 장면위주... 대화도 없구',\n",
       " '서양인들이 하는 사랑 소꿉놀이에 본인들의 자각이 없어서 그러는줄 알았는데.. 어느정도 알기는 하는것 같다. 뻔한 로맨틱코미디보다는 낫지만 전체적으로.. 너무 두서없고 장면위주... 대화도 없으며',\n",
       " '서양인들이 하는 사랑 소꿉놀이에 본인들의 자각이 없어서 그러는줄 알았는데.. 어느정도 알기는 하는것 같다. 뻔한 로맨틱코미디보다는 낫지만 전체적으로.. 너무 두서없고 장면위주... 대화도 있고',\n",
       " '서양인들이 하는 사랑 소꿉놀이에 본인들의 자각이 없어서 그러는줄 알았는데.. 어느정도 알기는 하는것 같다. 뻔한 로맨틱코미디보다는 낫지만 전체적으로.. 너무 두서없고 장면위주... 대화도 없고요']"
      ]
     },
     "metadata": {},
     "execution_count": 15
    }
   ],
   "metadata": {}
  },
  {
   "cell_type": "code",
   "execution_count": 5,
   "source": [
    "from sentence_transformers import SentenceTransformer, util"
   ],
   "outputs": [],
   "metadata": {}
  },
  {
   "cell_type": "code",
   "execution_count": 6,
   "source": [
    "sent_model = SentenceTransformer('sentence-transformers/paraphrase-multilingual-MiniLM-L12-v2')\n",
    "# sent_model = SentenceTransformer('distiluse-base-multilingual-cased')\n",
    "#sent_model = SentenceTransformer('xlm-r-base-en-ko-nli-ststb')"
   ],
   "outputs": [],
   "metadata": {}
  },
  {
   "cell_type": "code",
   "execution_count": 30,
   "source": [
    "sentences1 = ['서양인들이 하는 사랑 소꿉놀이에 본인들의 자각이 없어서 그러는줄 알았는데.. 어느정도 알기는 하는것 같다. 뻔한 로맨틱코미디보다는 낫지만 전체적으로.. 너무 두서없고 장면위주... 대화도 없고']\n",
    "sentences2 = ['서양인들이 하는 사랑 소꿉놀이에 본인들의 자각이 없어서 그러는줄 알았는데.. 어느정도 알기는 하는것 같다. 뻔한 로맨틱코미디보다는 낫지만 전체적으로.. 너무 머랄까 장면위주... 대화도 없고',\n",
    "'서양인들이 하는 사랑 소꿉놀이에 본인들의 자각이 없어서 그러는줄 알았는데.. 어느정도 알기는 하는것 같다. 뻔한 로맨틱코미디보다는 낫지만 전체적으로.. 너무 장황하고 장면위주... 대화도 없고',\n",
    "'서양인들이 하는 사랑 소꿉놀이에 본인들의 자각이 없어서 그러는줄 알았는데.. 어느정도 알기는 하는것 같다. 뻔한 로맨틱코미디보다는 낫지만 전체적으로.. 너무 모르는것도 장면위주... 대화도 없고',\n",
    "'서양인들이 하는 사랑 소꿉놀이에 본인들의 자각이 없어서 그러는줄 알았는데.. 어느정도 알기는 하는것 같다. 뻔한 로맨틱코미디보다는 낫지만 전체적으로.. 너무 읽기엔 장면위주... 대화도 없고',\n",
    "'서양인들이 하는 사랑 소꿉놀이에 본인들의 자각이 없어서 그러는줄 알았는데.. 어느정도 알기는 하는것 같다. 뻔한 로맨틱코미디보다는 낫지만 전체적으로.. 너무 말주변도 장면위주... 대화도 없고',\n",
    "'서양인들이 하는 사랑 소꿉놀이에 본인들의 자각이 없어서 그러는줄 알았는데.. 어느정도 알기는 하는것 같다. 뻔한 로맨틱코미디보다는 낫지만 전체적으로.. 너무 코지토님이 장면위주... 대화도 없고',\n",
    "'서양인들이 하는 사랑 소꿉놀이에 본인들의 자각이 없어서 그러는줄 알았는데.. 어느정도 알기는 하는것 같다. 뻔한 로맨틱코미디보다는 낫지만 전체적으로.. 너무 배울게 장면위주... 대화도 없고',\n",
    "'서양인들이 하는 사랑 소꿉놀이에 본인들의 자각이 없어서 그러는줄 알았는데.. 어느정도 알기는 하는것 같다. 뻔한 로맨틱코미디보다는 낫지만 전체적으로.. 너무 그거보다는 장면위주... 대화도 없고',\n",
    "'서양인들이 하는 사랑 소꿉놀이에 본인들의 자각이 없어서 그러는줄 알았는데.. 어느정도 알기는 하는것 같다. 뻔한 로맨틱코미디보다는 낫지만 전체적으로.. 너무 다시보면 장면위주... 대화도 없고',\n",
    "'서양인들이 하는 사랑 소꿉놀이에 본인들의 자각이 없어서 그러는줄 알았는데.. 어느정도 알기는 하는것 같다. 뻔한 로맨틱코미디보다는 낫지만 전체적으로.. 너무 생각할게 장면위주... 대화도 없고']\n",
    "\n",
    "embeddings1 = sent_model.encode(sentences1, convert_to_tensor=True)\n",
    "embeddings2 = sent_model.encode(sentences2, convert_to_tensor=True)\n",
    "\n",
    "#Compute cosine-similarits\n",
    "cosine_scores = util.pytorch_cos_sim(embeddings1, embeddings2)"
   ],
   "outputs": [],
   "metadata": {}
  },
  {
   "cell_type": "code",
   "execution_count": 31,
   "source": [
    "for i in range(len(sentences2)):\n",
    "    print(\"{} \\t\\t {} \\t\\t Score: {:.4f}\".format(sentences1[0], sentences2[i], cosine_scores[0][i]))"
   ],
   "outputs": [
    {
     "output_type": "stream",
     "name": "stdout",
     "text": [
      "서양인들이 하는 사랑 소꿉놀이에 본인들의 자각이 없어서 그러는줄 알았는데.. 어느정도 알기는 하는것 같다. 뻔한 로맨틱코미디보다는 낫지만 전체적으로.. 너무 두서없고 장면위주... 대화도 없고 \t\t 서양인들이 하는 사랑 소꿉놀이에 본인들의 자각이 없어서 그러는줄 알았는데.. 어느정도 알기는 하는것 같다. 뻔한 로맨틱코미디보다는 낫지만 전체적으로.. 너무 머랄까 장면위주... 대화도 없고 \t\t Score: 0.9970\n",
      "서양인들이 하는 사랑 소꿉놀이에 본인들의 자각이 없어서 그러는줄 알았는데.. 어느정도 알기는 하는것 같다. 뻔한 로맨틱코미디보다는 낫지만 전체적으로.. 너무 두서없고 장면위주... 대화도 없고 \t\t 서양인들이 하는 사랑 소꿉놀이에 본인들의 자각이 없어서 그러는줄 알았는데.. 어느정도 알기는 하는것 같다. 뻔한 로맨틱코미디보다는 낫지만 전체적으로.. 너무 장황하고 장면위주... 대화도 없고 \t\t Score: 0.9947\n",
      "서양인들이 하는 사랑 소꿉놀이에 본인들의 자각이 없어서 그러는줄 알았는데.. 어느정도 알기는 하는것 같다. 뻔한 로맨틱코미디보다는 낫지만 전체적으로.. 너무 두서없고 장면위주... 대화도 없고 \t\t 서양인들이 하는 사랑 소꿉놀이에 본인들의 자각이 없어서 그러는줄 알았는데.. 어느정도 알기는 하는것 같다. 뻔한 로맨틱코미디보다는 낫지만 전체적으로.. 너무 모르는것도 장면위주... 대화도 없고 \t\t Score: 0.9936\n",
      "서양인들이 하는 사랑 소꿉놀이에 본인들의 자각이 없어서 그러는줄 알았는데.. 어느정도 알기는 하는것 같다. 뻔한 로맨틱코미디보다는 낫지만 전체적으로.. 너무 두서없고 장면위주... 대화도 없고 \t\t 서양인들이 하는 사랑 소꿉놀이에 본인들의 자각이 없어서 그러는줄 알았는데.. 어느정도 알기는 하는것 같다. 뻔한 로맨틱코미디보다는 낫지만 전체적으로.. 너무 읽기엔 장면위주... 대화도 없고 \t\t Score: 0.9791\n",
      "서양인들이 하는 사랑 소꿉놀이에 본인들의 자각이 없어서 그러는줄 알았는데.. 어느정도 알기는 하는것 같다. 뻔한 로맨틱코미디보다는 낫지만 전체적으로.. 너무 두서없고 장면위주... 대화도 없고 \t\t 서양인들이 하는 사랑 소꿉놀이에 본인들의 자각이 없어서 그러는줄 알았는데.. 어느정도 알기는 하는것 같다. 뻔한 로맨틱코미디보다는 낫지만 전체적으로.. 너무 말주변도 장면위주... 대화도 없고 \t\t Score: 0.9961\n",
      "서양인들이 하는 사랑 소꿉놀이에 본인들의 자각이 없어서 그러는줄 알았는데.. 어느정도 알기는 하는것 같다. 뻔한 로맨틱코미디보다는 낫지만 전체적으로.. 너무 두서없고 장면위주... 대화도 없고 \t\t 서양인들이 하는 사랑 소꿉놀이에 본인들의 자각이 없어서 그러는줄 알았는데.. 어느정도 알기는 하는것 같다. 뻔한 로맨틱코미디보다는 낫지만 전체적으로.. 너무 코지토님이 장면위주... 대화도 없고 \t\t Score: 0.9939\n",
      "서양인들이 하는 사랑 소꿉놀이에 본인들의 자각이 없어서 그러는줄 알았는데.. 어느정도 알기는 하는것 같다. 뻔한 로맨틱코미디보다는 낫지만 전체적으로.. 너무 두서없고 장면위주... 대화도 없고 \t\t 서양인들이 하는 사랑 소꿉놀이에 본인들의 자각이 없어서 그러는줄 알았는데.. 어느정도 알기는 하는것 같다. 뻔한 로맨틱코미디보다는 낫지만 전체적으로.. 너무 배울게 장면위주... 대화도 없고 \t\t Score: 0.9856\n",
      "서양인들이 하는 사랑 소꿉놀이에 본인들의 자각이 없어서 그러는줄 알았는데.. 어느정도 알기는 하는것 같다. 뻔한 로맨틱코미디보다는 낫지만 전체적으로.. 너무 두서없고 장면위주... 대화도 없고 \t\t 서양인들이 하는 사랑 소꿉놀이에 본인들의 자각이 없어서 그러는줄 알았는데.. 어느정도 알기는 하는것 같다. 뻔한 로맨틱코미디보다는 낫지만 전체적으로.. 너무 그거보다는 장면위주... 대화도 없고 \t\t Score: 0.9953\n",
      "서양인들이 하는 사랑 소꿉놀이에 본인들의 자각이 없어서 그러는줄 알았는데.. 어느정도 알기는 하는것 같다. 뻔한 로맨틱코미디보다는 낫지만 전체적으로.. 너무 두서없고 장면위주... 대화도 없고 \t\t 서양인들이 하는 사랑 소꿉놀이에 본인들의 자각이 없어서 그러는줄 알았는데.. 어느정도 알기는 하는것 같다. 뻔한 로맨틱코미디보다는 낫지만 전체적으로.. 너무 다시보면 장면위주... 대화도 없고 \t\t Score: 0.9936\n",
      "서양인들이 하는 사랑 소꿉놀이에 본인들의 자각이 없어서 그러는줄 알았는데.. 어느정도 알기는 하는것 같다. 뻔한 로맨틱코미디보다는 낫지만 전체적으로.. 너무 두서없고 장면위주... 대화도 없고 \t\t 서양인들이 하는 사랑 소꿉놀이에 본인들의 자각이 없어서 그러는줄 알았는데.. 어느정도 알기는 하는것 같다. 뻔한 로맨틱코미디보다는 낫지만 전체적으로.. 너무 생각할게 장면위주... 대화도 없고 \t\t Score: 0.9929\n"
     ]
    }
   ],
   "metadata": {}
  },
  {
   "cell_type": "code",
   "execution_count": 34,
   "source": [
    "sentences1 = ['로맨틱코미디보다는 낫지만 전체적으로.. 너무 두서없고 장면위주... 대화도 없고']\n",
    "\n",
    "sentences2 = ['로맨틱코미디보다는 낫지만 전체적으로.. 너무 머랄까 장면위주... 대화도 없고',\n",
    "'로맨틱코미디보다는 낫지만 전체적으로.. 너무 장황하고 장면위주... 대화도 없고',\n",
    "'로맨틱코미디보다는 낫지만 전체적으로.. 너무 모르는것도 장면위주... 대화도 없고',\n",
    "'로맨틱코미디보다는 낫지만 전체적으로.. 너무 읽기엔 장면위주... 대화도 없고',\n",
    "'로맨틱코미디보다는 낫지만 전체적으로.. 너무 말주변도 장면위주... 대화도 없고',\n",
    "'로맨틱코미디보다는 낫지만 전체적으로.. 너무 코지토님이 장면위주... 대화도 없고',\n",
    "'로맨틱코미디보다는 낫지만 전체적으로.. 너무 배울게 장면위주... 대화도 없고',\n",
    "'로맨틱코미디보다는 낫지만 전체적으로.. 너무 그거보다는 장면위주... 대화도 없고',\n",
    "'로맨틱코미디보다는 낫지만 전체적으로.. 너무 다시보면 장면위주... 대화도 없고',\n",
    "'로맨틱코미디보다는 낫지만 전체적으로.. 너무 생각할게 장면위주... 대화도 없고']\n",
    "\n",
    "embeddings1 = sent_model.encode(sentences1, convert_to_tensor=True)\n",
    "embeddings2 = sent_model.encode(sentences2, convert_to_tensor=True)\n",
    "\n",
    "#Compute cosine-similarits\n",
    "cosine_scores = util.pytorch_cos_sim(embeddings1, embeddings2)"
   ],
   "outputs": [],
   "metadata": {}
  },
  {
   "cell_type": "code",
   "execution_count": 35,
   "source": [
    "for i in range(len(sentences2)):\n",
    "    print(\"{} \\t\\t {} \\t\\t Score: {:.4f}\".format(sentences1[0], sentences2[i], cosine_scores[0][i]))"
   ],
   "outputs": [
    {
     "output_type": "stream",
     "name": "stdout",
     "text": [
      "로맨틱코미디보다는 낫지만 전체적으로.. 너무 두서없고 장면위주... 대화도 없고 \t\t 로맨틱코미디보다는 낫지만 전체적으로.. 너무 머랄까 장면위주... 대화도 없고 \t\t Score: 0.9896\n",
      "로맨틱코미디보다는 낫지만 전체적으로.. 너무 두서없고 장면위주... 대화도 없고 \t\t 로맨틱코미디보다는 낫지만 전체적으로.. 너무 장황하고 장면위주... 대화도 없고 \t\t Score: 0.9813\n",
      "로맨틱코미디보다는 낫지만 전체적으로.. 너무 두서없고 장면위주... 대화도 없고 \t\t 로맨틱코미디보다는 낫지만 전체적으로.. 너무 모르는것도 장면위주... 대화도 없고 \t\t Score: 0.9790\n",
      "로맨틱코미디보다는 낫지만 전체적으로.. 너무 두서없고 장면위주... 대화도 없고 \t\t 로맨틱코미디보다는 낫지만 전체적으로.. 너무 읽기엔 장면위주... 대화도 없고 \t\t Score: 0.9321\n",
      "로맨틱코미디보다는 낫지만 전체적으로.. 너무 두서없고 장면위주... 대화도 없고 \t\t 로맨틱코미디보다는 낫지만 전체적으로.. 너무 말주변도 장면위주... 대화도 없고 \t\t Score: 0.9891\n",
      "로맨틱코미디보다는 낫지만 전체적으로.. 너무 두서없고 장면위주... 대화도 없고 \t\t 로맨틱코미디보다는 낫지만 전체적으로.. 너무 코지토님이 장면위주... 대화도 없고 \t\t Score: 0.9871\n",
      "로맨틱코미디보다는 낫지만 전체적으로.. 너무 두서없고 장면위주... 대화도 없고 \t\t 로맨틱코미디보다는 낫지만 전체적으로.. 너무 배울게 장면위주... 대화도 없고 \t\t Score: 0.9546\n",
      "로맨틱코미디보다는 낫지만 전체적으로.. 너무 두서없고 장면위주... 대화도 없고 \t\t 로맨틱코미디보다는 낫지만 전체적으로.. 너무 그거보다는 장면위주... 대화도 없고 \t\t Score: 0.9844\n",
      "로맨틱코미디보다는 낫지만 전체적으로.. 너무 두서없고 장면위주... 대화도 없고 \t\t 로맨틱코미디보다는 낫지만 전체적으로.. 너무 다시보면 장면위주... 대화도 없고 \t\t Score: 0.9730\n",
      "로맨틱코미디보다는 낫지만 전체적으로.. 너무 두서없고 장면위주... 대화도 없고 \t\t 로맨틱코미디보다는 낫지만 전체적으로.. 너무 생각할게 장면위주... 대화도 없고 \t\t Score: 0.9790\n"
     ]
    }
   ],
   "metadata": {}
  },
  {
   "cell_type": "code",
   "execution_count": 36,
   "source": [
    "sentences1 = ['전체적으로.. 너무 두서없고 장면위주... 대화도']\n",
    "\n",
    "sentences2 = ['전체적으로.. 너무 머랄까 장면위주... 대화도',\n",
    "'전체적으로.. 너무 장황하고 장면위주... 대화도',\n",
    "'전체적으로.. 너무 모르는것도 장면위주... 대화도',\n",
    "'전체적으로.. 너무 읽기엔 장면위주... 대화도',\n",
    "'전체적으로.. 너무 말주변도 장면위주... 대화도',\n",
    "'전체적으로.. 너무 코지토님이 장면위주... 대화도',\n",
    "'전체적으로.. 너무 배울게 장면위주... 대화도',\n",
    "'전체적으로.. 너무 그거보다는 장면위주... 대화도',\n",
    "'전체적으로.. 너무 다시보면 장면위주... 대화도',\n",
    "'전체적으로.. 너무 생각할게 장면위주... 대화도']\n",
    "\n",
    "embeddings1 = sent_model.encode(sentences1, convert_to_tensor=True)\n",
    "embeddings2 = sent_model.encode(sentences2, convert_to_tensor=True)\n",
    "\n",
    "#Compute cosine-similarits\n",
    "cosine_scores = util.pytorch_cos_sim(embeddings1, embeddings2)"
   ],
   "outputs": [],
   "metadata": {}
  },
  {
   "cell_type": "code",
   "execution_count": 37,
   "source": [
    "for i in range(len(sentences2)):\n",
    "    print(\"{} \\t\\t {} \\t\\t Score: {:.4f}\".format(sentences1[0], sentences2[i], cosine_scores[0][i]))"
   ],
   "outputs": [
    {
     "output_type": "stream",
     "name": "stdout",
     "text": [
      "전체적으로.. 너무 두서없고 장면위주... 대화도 \t\t 전체적으로.. 너무 머랄까 장면위주... 대화도 \t\t Score: 0.9503\n",
      "전체적으로.. 너무 두서없고 장면위주... 대화도 \t\t 전체적으로.. 너무 장황하고 장면위주... 대화도 \t\t Score: 0.8431\n",
      "전체적으로.. 너무 두서없고 장면위주... 대화도 \t\t 전체적으로.. 너무 모르는것도 장면위주... 대화도 \t\t Score: 0.9380\n",
      "전체적으로.. 너무 두서없고 장면위주... 대화도 \t\t 전체적으로.. 너무 읽기엔 장면위주... 대화도 \t\t Score: 0.7119\n",
      "전체적으로.. 너무 두서없고 장면위주... 대화도 \t\t 전체적으로.. 너무 말주변도 장면위주... 대화도 \t\t Score: 0.9167\n",
      "전체적으로.. 너무 두서없고 장면위주... 대화도 \t\t 전체적으로.. 너무 코지토님이 장면위주... 대화도 \t\t Score: 0.9033\n",
      "전체적으로.. 너무 두서없고 장면위주... 대화도 \t\t 전체적으로.. 너무 배울게 장면위주... 대화도 \t\t Score: 0.8657\n",
      "전체적으로.. 너무 두서없고 장면위주... 대화도 \t\t 전체적으로.. 너무 그거보다는 장면위주... 대화도 \t\t Score: 0.9208\n",
      "전체적으로.. 너무 두서없고 장면위주... 대화도 \t\t 전체적으로.. 너무 다시보면 장면위주... 대화도 \t\t Score: 0.8592\n",
      "전체적으로.. 너무 두서없고 장면위주... 대화도 \t\t 전체적으로.. 너무 생각할게 장면위주... 대화도 \t\t Score: 0.9025\n"
     ]
    }
   ],
   "metadata": {}
  },
  {
   "cell_type": "markdown",
   "source": [
    "Sentiment Model"
   ],
   "metadata": {}
  },
  {
   "cell_type": "code",
   "execution_count": 6,
   "source": [
    "from tqdm import tqdm\n",
    "import torch\n",
    "from torch.nn.functional import softmax\n",
    "import gluonnlp as nlp\n",
    "from kobert.utils import get_tokenizer\n",
    "from kobert.pytorch_kobert import get_pytorch_kobert_model\n",
    "from CustomDataset import BERTDataset\n",
    "from CustomModel import BERTClassifier\n",
    "import numpy as np"
   ],
   "outputs": [],
   "metadata": {}
  },
  {
   "cell_type": "code",
   "execution_count": 7,
   "source": [
    "if torch.cuda.is_available():\n",
    "    device = torch.device(\"cuda\")\n",
    "else:\n",
    "    device = torch.device(\"cpu\")"
   ],
   "outputs": [],
   "metadata": {}
  },
  {
   "cell_type": "code",
   "execution_count": 20,
   "source": [
    "inference_data = ['돈 값한다. 억지로 짜내는 신파가 없어서 담백하고 좋았음',\n",
    "                   '카체이싱 장면만으로도 볼 가치가 충분... 류감독님 연출 너무좋고 배우분들도 정말 딱 맞는 옷을 입은 느낌입니다',\n",
    "                   '교묘하게 북한을 친근하게 만들려는 좌파영화. 굳이 중요하지도 않은 이사건을 영화화한 의도가 뭐냐?',\n",
    "                   '자동차 씬은 그래도 볼 만했다만, 이것저것 냉정히 보면 5점 정도의 영화라고 생각한다. 하지만 알바들이 좀 많아보이므로 균형을 맞추기 위해 1점을 매긴다.',\n",
    "                   '볼거리는 차고 넘친다. 총탄이 빗발치는 내전의 한복판, 그곳을 벗어나려는 생존의 몸부림이 긴장감 넘치는 자동차 액션에 담겨 이국적 풍광 속에 펼쳐진다. ']"
   ],
   "outputs": [],
   "metadata": {}
  },
  {
   "cell_type": "code",
   "execution_count": 8,
   "source": [
    "### argument\n",
    "max_len = 64\n",
    "batch_size = 64\n",
    "###\n",
    "\n",
    "bertmodel, vocab = get_pytorch_kobert_model()\n",
    "tokenizer = get_tokenizer()\n",
    "tok = nlp.data.BERTSPTokenizer(tokenizer, vocab, lower=False)"
   ],
   "outputs": [
    {
     "output_type": "stream",
     "name": "stdout",
     "text": [
      "using cached model\n",
      "using cached model\n",
      "using cached model\n"
     ]
    }
   ],
   "metadata": {}
  },
  {
   "cell_type": "code",
   "execution_count": 9,
   "source": [
    "model = BERTClassifier(bertmodel,  dr_rate=0.5).to(device)\n",
    "checkpoint = torch.load('./model/pytorch_model.bin')['model_state_dict']\n",
    "model.load_state_dict(checkpoint)"
   ],
   "outputs": [
    {
     "output_type": "execute_result",
     "data": {
      "text/plain": [
       "<All keys matched successfully>"
      ]
     },
     "metadata": {},
     "execution_count": 9
    }
   ],
   "metadata": {}
  },
  {
   "cell_type": "code",
   "execution_count": 22,
   "source": [
    "data_infer = BERTDataset(dataset=inference_data, sent_idx=0, label_idx=None, bert_tokenizer=tok, max_len=max_len, pad=True, pair=False)\n",
    "infer_dataloader = torch.utils.data.DataLoader(data_infer, batch_size=batch_size, num_workers=1)"
   ],
   "outputs": [],
   "metadata": {}
  },
  {
   "cell_type": "markdown",
   "source": [
    "ID to Token"
   ],
   "metadata": {}
  },
  {
   "cell_type": "code",
   "execution_count": 49,
   "source": [
    "print(inference_data[0])\n",
    "print(data_infer[0][0])\n",
    "type(data_infer[0][0][1])\n",
    "for i in data_infer[0][0]:\n",
    "    if i > 4:\n",
    "        print(tok.vocab.idx_to_token[i])"
   ],
   "outputs": [
    {
     "output_type": "stream",
     "name": "stdout",
     "text": [
      "돈 값한다. 억지로 짜내는 신파가 없어서 담백하고 좋았음\n",
      "[   2 1730  517 5346 7831  517   54  517 6858 7318 6079 4396 5678 5760\n",
      " 3010 7682 5330 3278 6553 1607 6314 7788 4208 7089    3    1    1    1\n",
      "    1    1    1    1    1    1    1    1    1    1    1    1    1    1\n",
      "    1    1    1    1    1    1    1    1    1    1    1    1    1    1\n",
      "    1    1    1    1    1    1    1    1]\n",
      "▁돈\n",
      "▁\n",
      "값\n",
      "한다\n",
      "▁\n",
      ".\n",
      "▁\n",
      "억\n",
      "지\n",
      "로\n",
      "▁짜\n",
      "내\n",
      "는\n",
      "▁신\n",
      "파\n",
      "가\n",
      "▁없어\n",
      "서\n",
      "▁담\n",
      "백\n",
      "하고\n",
      "▁좋았\n",
      "음\n"
     ]
    }
   ],
   "metadata": {}
  },
  {
   "cell_type": "code",
   "execution_count": 11,
   "source": [
    "model.eval()\n",
    "for batch_id, (token_ids, valid_length, segment_ids) in enumerate(tqdm(infer_dataloader)):\n",
    "    token_ids = token_ids.long().to(device)\n",
    "    segment_ids = segment_ids.long().to(device)\n",
    "    valid_length= valid_length\n",
    "    out = model(token_ids, valid_length, segment_ids)"
   ],
   "outputs": [
    {
     "output_type": "stream",
     "name": "stderr",
     "text": [
      "100%|██████████| 1/1 [00:00<00:00,  3.35it/s]\n"
     ]
    }
   ],
   "metadata": {}
  },
  {
   "cell_type": "code",
   "execution_count": 12,
   "source": [
    "p = torch.nn.functional.softmax(out, dim=1)\n",
    "print(p)\n",
    "print(out)\n",
    "print(out[:,0])"
   ],
   "outputs": [
    {
     "output_type": "stream",
     "name": "stdout",
     "text": [
      "tensor([[0.0013, 0.9987],\n",
      "        [0.0012, 0.9988],\n",
      "        [0.9987, 0.0013],\n",
      "        [0.9986, 0.0014],\n",
      "        [0.0015, 0.9985]], device='cuda:0', grad_fn=<SoftmaxBackward>)\n",
      "tensor([[-3.7354,  2.8735],\n",
      "        [-3.7901,  2.9235],\n",
      "        [ 3.8126, -2.8332],\n",
      "        [ 3.7688, -2.8227],\n",
      "        [-3.6721,  2.8069]], device='cuda:0', grad_fn=<AddmmBackward>)\n",
      "tensor([-3.7354, -3.7901,  3.8126,  3.7688, -3.6721], device='cuda:0',\n",
      "       grad_fn=<SelectBackward>)\n"
     ]
    }
   ],
   "metadata": {}
  },
  {
   "cell_type": "code",
   "execution_count": 13,
   "source": [
    "preds = torch.argmax(out, axis=1).cpu().numpy()"
   ],
   "outputs": [],
   "metadata": {}
  },
  {
   "cell_type": "code",
   "execution_count": 13,
   "source": [
    "torch.argmax(out, axis=1).cpu().numpy()"
   ],
   "outputs": [
    {
     "output_type": "execute_result",
     "data": {
      "text/plain": [
       "array([1, 1, 0, 0, 1])"
      ]
     },
     "metadata": {},
     "execution_count": 13
    }
   ],
   "metadata": {}
  },
  {
   "cell_type": "code",
   "execution_count": null,
   "source": [
    "tagger = MeCab.Tagger()"
   ],
   "outputs": [],
   "metadata": {}
  },
  {
   "cell_type": "code",
   "execution_count": 7,
   "source": [
    "# def generatePopulation(text_obj, embedding_model, pop_size):\n",
    "#     pop = []\n",
    "#     candidates = text_obj.getReplaceCandidates()\n",
    "#     print(len(candidates))\n",
    "#     if len(candidates) < pop_size:\n",
    "#         random.shuffle(candidates)\n",
    "#         ns = [pop_size // len(candidates) + (1 if x < pop_size % len(candidates) else 0)  for x in range(len(candidates))]\n",
    "#         for cd, n in zip(candidates, ns):\n",
    "#             best_replace = getNReplacement(embedding_model, text_obj, cd, n=n)\n",
    "#             if len(best_replace) != 1:\n",
    "#                 for replace in best_replace:\n",
    "#                     pop.append(replace)\n",
    "#             else:\n",
    "#                 pop.extend(best_replace)\n",
    "#     else:\n",
    "#         rand_candidates = random.sample(candidates, pop_size)\n",
    "#         for cd in rand_candidates:\n",
    "#             best_replace = getNReplacement(embedding_model, text_obj, cd, n=1)\n",
    "#             pop.extend(best_replace)\n",
    "#     return pop\n",
    "\n",
    "def generatePopulation(text_obj, embedding_model, tagger, pop_size):\n",
    "    pop = []\n",
    "    candidates = text_obj.getReplaceCandidates()\n",
    "    if len(candidates) < pop_size:\n",
    "        for cd in candidates:\n",
    "            best_replaces = getNReplacement(embedding_model, tagger, text_obj, cd)\n",
    "            if best_replaces is not None:\n",
    "                pop.extend(best_replaces)\n",
    "        # pop = sorted(pop, key=lambda x: x[1])[:pop_size]\n",
    "        distances = [p[1] for p in pop]\n",
    "        norm_distances = [dist/sum(distances) for dist in distances]\n",
    "        pop_idx = np.random.choice(len(pop), size=pop_size, p=norm_distances)\n",
    "        pop = [pop[idx] for idx in pop_idx]\n",
    "    else:\n",
    "        extra = 0\n",
    "        rand_candidates = random.sample(candidates, pop_size)\n",
    "        for cd in rand_candidates:\n",
    "            best_replaces = getNReplacement(embedding_model, tagger, text_obj, cd)\n",
    "            if best_replaces is not None:\n",
    "                pop.extend(best_replaces[:extra+1])\n",
    "                extra = 0\n",
    "            else:\n",
    "                extra += 1\n",
    "    return pop\n",
    "\n",
    "\n",
    "# Model Inference\n",
    "def predict(texts, tok, model):\n",
    "    ### argument\n",
    "    max_len=64\n",
    "    batch_size=8\n",
    "    ###\n",
    "\n",
    "    preds, scores = [], []\n",
    "    data_infer = BERTDataset(dataset=texts, sent_idx=0, label_idx=None, bert_tokenizer=tok, max_len=max_len, pad=True, pair=False)\n",
    "    infer_dataloader = torch.utils.data.DataLoader(data_infer, batch_size=batch_size, num_workers=1)\n",
    "\n",
    "    model.eval()\n",
    "    for batch_id, (token_ids, valid_length, segment_ids) in enumerate(tqdm(infer_dataloader)):\n",
    "        token_ids = token_ids.long().to(device)\n",
    "        segment_ids = segment_ids.long().to(device)\n",
    "        valid_length= valid_length\n",
    "        with torch.no_grad():    \n",
    "            logits = model(token_ids, valid_length, segment_ids)\n",
    "        pred = torch.argmax(logits, axis=1).cpu().numpy()\n",
    "        score = softmax(logits, dim=1)\n",
    "        preds.extend(pred)\n",
    "        scores.extend(score)\n",
    "        del logits\n",
    "    torch.cuda.empty_cache()\n",
    "    return preds, scores\n",
    "\n",
    "def getNReplacement(embedding_model, tagger, text_obj, word_obj, k=100):\n",
    "    candidate_pos = ['VV', 'VA', 'NNG', 'NNP', 'MAG']\n",
    "    replace_texts = []\n",
    "    idx = word_obj.idx\n",
    "    word = word_obj.word\n",
    "    start_idx = word_obj.start_idx\n",
    "    end_idx = word_obj.end_idx\n",
    "    pos = [token[1] for token in word_obj.tokens]\n",
    "    nearest_neighbors = [neighbor for neighbor in embedding_model.get_nearest_neighbors(word, k=k) if not len(neighbor[1]) > len(word)*5]\n",
    "    nearest_words = [neighbor[1] for neighbor in nearest_neighbors]\n",
    "    nearest_distances = [neighbor[0] for neighbor in nearest_neighbors]\n",
    "\n",
    "    for near_word, dist in zip(nearest_words, nearest_distances):\n",
    "        replace_text = ''.join([text_obj.text[:start_idx], near_word, text_obj.text[end_idx+1:]])\n",
    "        replace_text_obj = Text(replace_text)\n",
    "        replace_pos = [token[1] for token in replace_text_obj.words[idx].tokens]\n",
    "        # if pos == replace_pos:\n",
    "        #     replace_texts.append((replace_text_obj, dist))\n",
    "        if pos[0] == 'MAG' and replace_pos[0] == 'MAG':\n",
    "            replace_texts.append((replace_text_obj, dist))\n",
    "        elif replace_pos[0] in candidate_pos and pos[-1] == replace_pos[-1]:\n",
    "            replace_texts.append((replace_text_obj, dist))\n",
    "    \n",
    "    if len(replace_texts) > 0:\n",
    "        return replace_texts\n",
    "    else:\n",
    "        return None\n",
    "\n",
    "def crossover(x1_obj, x2_obj):\n",
    "    x_len = len(x1_obj.words)\n",
    "    # x1 = x1_obj.text.split()\n",
    "    # x2 = x2_obj.text.split()\n",
    "    rand_pos = random.randint(0, len(x_len))\n",
    "    x_new = x1[:rand_pos] + x2[rand_pos:]\n",
    "    x_new = [w.word for w in x_new]\n",
    "    return Text(' '.join(x_new))\n",
    "\n",
    "def attack(x_orig, adv_target, **kwargs):\n",
    "    ### argument\n",
    "    pop_size = 20\n",
    "    embedding_model = kwargs['embedding_model']\n",
    "    tok = kwargs['tok']\n",
    "    model = kwargs['model']\n",
    "    tagger = kwargs['tagger']\n",
    "    iterations = 10\n",
    "    ###\n",
    "    try:\n",
    "        x = Text(x_orig)\n",
    "        pop = generatePopulation(x, embedding_model, tagger, pop_size)\n",
    "        for i in range(iterations):\n",
    "            print(i)\n",
    "            nearest_texts = [p[0] for p in pop]\n",
    "            nearest_distances = [p[1] for p in pop]\n",
    "            print([text.text for text in nearest_texts])\n",
    "            pop_preds, pop_scores = predict([text.text for text in nearest_texts], tok, model) # logits\n",
    "            top_rank_idx = torch.argmax(torch.stack(pop_scores, dim=0)[:, adv_target])\n",
    "            \n",
    "            # if top_rank is the adversarial then return\n",
    "            if pop_preds[top_rank_idx] == adv_target:\n",
    "                return pop[top_rank_idx] # return Text Object\n",
    "            # else crossover\n",
    "            else:\n",
    "                print('crossover')\n",
    "                elite = [pop[top_rank_idx]]\n",
    "                norm_distances = [dist/sum(nearest_distances) for dist in nearest_distances]\n",
    "                parent1 = np.random.choice(pop_size, size=pop_size-1, p=norm_distances)\n",
    "                parent2 = np.random.choice(pop_size, size=pop_size-1, p=norm_distances)\n",
    "                perturb_childs = []\n",
    "                childs = [crossover(pop[parent1[i]][0], pop[parent2[i]][0]) for i in range(pop_size-1)]\n",
    "                for ch in childs:\n",
    "                    ch_candidates = ch.getReplaceCandidates()\n",
    "                    random_word = random.sample(ch_candidates, 1)[0]\n",
    "                    best_replaces = getNReplacement(embedding_model, tagger, ch, random_word)\n",
    "                    if best_replaces is not None:\n",
    "                        perturb_childs.append(best_replaces[0])\n",
    "                    else:\n",
    "                        perturb_childs.append((ch, 0.0))\n",
    "                pop = elite + perturb_childs\n",
    "    except Exception as e:\n",
    "        traceback.print_exc()\n",
    "        print(pop)\n",
    "        print(len(pop))\n"
   ],
   "outputs": [],
   "metadata": {}
  },
  {
   "cell_type": "code",
   "execution_count": null,
   "source": [
    "# test='명작영화를 리메이크 할려고 했으니 이렇게 못만들지 차라리 망작을 리메이크해서 명작으로 만들던가... 이건 감독의 자기만족 영화같애'\n",
    "# test = '스토리, 재미, 캐릭터 등등 액션 영화의 모든 요소가 살아있는 작품. 괜히 있어보이려 애쓰지 않는데 너무나 멋지다.'\n",
    "# test = '처음봤을때는 졸리의 연기에 감탄했는데 그 영화를 또 보고 또 볼수록 위노나 라이더의 연기야 말로 진짜 대단하다는 걸 느끼게 됬다. 정말 그 주인공의 모든 감정들을 오버하지 않고 제대로 표현했다'\n",
    "test = texts[10]\n",
    "test_adv = attack(test, 0, embedding_model=embedding_model, tok=tok, model=model, tagger=tagger)"
   ],
   "outputs": [],
   "metadata": {}
  },
  {
   "cell_type": "code",
   "execution_count": 34,
   "source": [
    "test_adv[0].text"
   ],
   "outputs": [
    {
     "output_type": "error",
     "ename": "TypeError",
     "evalue": "'NoneType' object is not subscriptable",
     "traceback": [
      "\u001b[0;31m---------------------------------------------------------------------------\u001b[0m",
      "\u001b[0;31mTypeError\u001b[0m                                 Traceback (most recent call last)",
      "\u001b[0;32m/tmp/ipykernel_21471/142828675.py\u001b[0m in \u001b[0;36m<module>\u001b[0;34m\u001b[0m\n\u001b[0;32m----> 1\u001b[0;31m \u001b[0mtest_adv\u001b[0m\u001b[0;34m[\u001b[0m\u001b[0;36m0\u001b[0m\u001b[0;34m]\u001b[0m\u001b[0;34m.\u001b[0m\u001b[0mtext\u001b[0m\u001b[0;34m\u001b[0m\u001b[0;34m\u001b[0m\u001b[0m\n\u001b[0m",
      "\u001b[0;31mTypeError\u001b[0m: 'NoneType' object is not subscriptable"
     ]
    }
   ],
   "metadata": {}
  },
  {
   "cell_type": "markdown",
   "source": [
    "PSO Attack"
   ],
   "metadata": {}
  },
  {
   "cell_type": "code",
   "execution_count": 22,
   "source": [
    "tagger = MeCab.Tagger()"
   ],
   "outputs": [],
   "metadata": {}
  },
  {
   "cell_type": "code",
   "execution_count": 63,
   "source": [
    "def generatePopulation(text_obj, embedding_model, tagger, pop_size):\n",
    "    pop = []\n",
    "    candidates = text_obj.getReplaceCandidates()\n",
    "    if len(candidates) < pop_size:\n",
    "        for cd in candidates:\n",
    "            best_replaces = getNReplacement(embedding_model, tagger, text_obj, cd)\n",
    "            if best_replaces is not None:\n",
    "                pop.extend(best_replaces)\n",
    "        # pop = sorted(pop, key=lambda x: x[1])[:pop_size]\n",
    "        distances = [p[1] for p in pop]\n",
    "        norm_distances = [dist/sum(distances) for dist in distances]\n",
    "        pop_idx = np.random.choice(len(pop), size=pop_size, p=norm_distances)\n",
    "        pop = [pop[idx] for idx in pop_idx]\n",
    "    else:\n",
    "        extra = 0\n",
    "        rand_candidates = random.sample(candidates, pop_size)\n",
    "        for cd in rand_candidates:\n",
    "            best_replaces = getNReplacement(embedding_model, tagger, text_obj, cd)\n",
    "            if best_replaces is not None:\n",
    "                pop.extend(best_replaces[:extra+1])\n",
    "                extra = 0\n",
    "            else:\n",
    "                extra += 1\n",
    "    return pop\n",
    "\n",
    "\n",
    "# Model Inference\n",
    "def predict(texts, tok, model):\n",
    "    ### argument\n",
    "    max_len=64\n",
    "    batch_size=8\n",
    "    ###\n",
    "\n",
    "    preds, scores = [], []\n",
    "    data_infer = BERTDataset(dataset=texts, sent_idx=0, label_idx=None, bert_tokenizer=tok, max_len=max_len, pad=True, pair=False)\n",
    "    infer_dataloader = torch.utils.data.DataLoader(data_infer, batch_size=batch_size, num_workers=1)\n",
    "\n",
    "    model.eval()\n",
    "    for batch_id, (token_ids, valid_length, segment_ids) in enumerate(tqdm(infer_dataloader)):\n",
    "        token_ids = token_ids.long().to(device)\n",
    "        segment_ids = segment_ids.long().to(device)\n",
    "        valid_length= valid_length\n",
    "        with torch.no_grad():    \n",
    "            logits = model(token_ids, valid_length, segment_ids)\n",
    "        pred = torch.argmax(logits, axis=1).cpu().numpy()\n",
    "        score = softmax(logits, dim=1)\n",
    "        preds.extend(pred)\n",
    "        scores.extend(score)\n",
    "        del logits\n",
    "    torch.cuda.empty_cache()\n",
    "    return preds, scores\n",
    "\n",
    "def getNReplacement(embedding_model, tagger, text_obj, word_obj, k=100):\n",
    "    candidate_pos = ['VV', 'VA', 'NNG', 'NNP', 'MAG']\n",
    "    replace_texts = []\n",
    "    idx = word_obj.idx\n",
    "    word = word_obj.word\n",
    "    start_idx = word_obj.start_idx\n",
    "    end_idx = word_obj.end_idx\n",
    "    pos = [token[1] for token in word_obj.tokens]\n",
    "    nearest_neighbors = [neighbor for neighbor in embedding_model.get_nearest_neighbors(word, k=k) if not len(neighbor[1]) > len(word)*5]\n",
    "    nearest_words = [neighbor[1] for neighbor in nearest_neighbors]\n",
    "    nearest_distances = [neighbor[0] for neighbor in nearest_neighbors]\n",
    "\n",
    "    for near_word, dist in zip(nearest_words, nearest_distances):\n",
    "        replace_text = ''.join([text_obj.text[:start_idx], near_word, text_obj.text[end_idx+1:]])\n",
    "        replace_text_obj = Text(replace_text, tagger)\n",
    "        replace_pos = [token[1] for token in replace_text_obj.words[idx].tokens]\n",
    "        # if pos == replace_pos:\n",
    "        #     replace_texts.append((replace_text_obj, dist))\n",
    "        if pos[0] == 'MAG' and replace_pos[0] == 'MAG':\n",
    "            replace_texts.append((replace_text_obj, dist))\n",
    "        elif replace_pos[0] in candidate_pos and pos[-1] == replace_pos[-1]:\n",
    "            replace_texts.append((replace_text_obj, dist))\n",
    "    \n",
    "    if len(replace_texts) > 0:\n",
    "        return replace_texts\n",
    "    else:\n",
    "        return None\n",
    "\n",
    "def equal(a, b):\n",
    "    if a == b:\n",
    "        return -3\n",
    "    else:\n",
    "        return 3\n",
    "\n",
    "def sigmoid(n):\n",
    "    return 1 / (1 + np.exp(-n))\n",
    "\n",
    "def turn(x1, x2, prob, x_len):\n",
    "    x_new = []\n",
    "    for i in range(x_len):\n",
    "        if np.random.uniform() < prob[i]:\n",
    "            x_new.append(x1[i].word)\n",
    "        else:\n",
    "            x_new.append(x2[i].word)\n",
    "    return x_new\n",
    "\n",
    "def count_change_ratio(x_new, x, x_len):\n",
    "    cnt = 0\n",
    "    for idx in range(x_len):\n",
    "        if x_new[idx] != x[idx]:\n",
    "            cnt += 1\n",
    "    change_ratio = float(cnt) / float(x_len)\n",
    "    return change_ratio\n",
    "\n",
    "def PSOattack(x_orig, adv_target, **kwargs):\n",
    "    ### argument\n",
    "    pop_size = 20\n",
    "    embedding_model = kwargs['embedding_model']\n",
    "    tok = kwargs['tok']\n",
    "    model = kwargs['model']\n",
    "    tagger = kwargs['tagger']\n",
    "    iterations = 10\n",
    "    ###\n",
    "    \n",
    "    Omega_1 = 0.8\n",
    "    Omega_2 = 0.2\n",
    "    C1_origin = 0.8\n",
    "    C2_origin = 0.2\n",
    "\n",
    "    ###\n",
    "    x = Text(x_orig, tagger)\n",
    "    x_len = len(x.words)\n",
    "    pop = generatePopulation(x, embedding_model, tagger, pop_size)\n",
    "    nearest_texts = [p[0] for p in pop]\n",
    "    # nearest_distances = [p[1] for p in pop]\n",
    "    # print([text.text for text in nearest_texts])\n",
    "    pop_preds, pop_scores = predict([text.text for text in nearest_texts], tok, model) # logits\n",
    "    pop_adv_scores = torch.stack(pop_scores, dim=0)[:, adv_target]\n",
    "    part_elites = copy.deepcopy(nearest_texts)\n",
    "    part_elites_scores = copy.deepcopy(pop_adv_scores)\n",
    "    top_rank_idx = torch.argmax(pop_adv_scores)\n",
    "    elite = nearest_texts[top_rank_idx]\n",
    "    elite_score = torch.max(pop_adv_scores)\n",
    "    if pop_preds[top_rank_idx] == adv_target:\n",
    "        return nearest_texts[top_rank_idx]\n",
    "\n",
    "    V = [np.random.uniform(-3, 3) for _ in range(pop_size)]\n",
    "    V_P = [[V[t] for _ in range(x_len)] for t in range(pop_size)]\n",
    "\n",
    "    for i in range(iterations):\n",
    "        Omega = (Omega_1 - Omega_2) * (iterations - i) / iterations + Omega_2\n",
    "        C1 = C1_origin - i / iterations * (C1_origin - C2_origin)\n",
    "        C2 = C2_origin + i / iterations * (C1_origin - C2_origin)\n",
    "\n",
    "        for pid in range(pop_size):\n",
    "            for dim in range(x_len):\n",
    "                V_P[pid][dim] = Omega * V_P[pid][dim] + (1 - Omega) * (equal(nearest_texts[pid][dim].word, part_elites[pid][dim].word) + equal(nearest_texts[pid][dim].word, elite[dim].word))\n",
    "            turn_prob = [sigmoid(V_P[pid][d]) for d in range(x_len)]\n",
    "            P1 = C1\n",
    "            P2 = C2\n",
    "\n",
    "            if np.random.uniform() < P1:\n",
    "                nearest_texts[pid] = Text(' '.join(turn(part_elites[pid], nearest_texts[pid], turn_prob, x_len)), tagger)\n",
    "            if np.random.uniform() < P2:\n",
    "                nearest_texts[pid] = Text(' '.join(turn(elite, nearest_texts[pid], turn_prob, x_len)), tagger)\n",
    "\n",
    "        # nearest_texts = [p[0] for p in pop]\n",
    "        # nearest_distances = [p[1] for p in pop]\n",
    "        pop_preds, pop_scores = predict([text.text for text in nearest_texts], tok, model)\n",
    "        pop_adv_scores = torch.stack(pop_scores, dim=0)[:, adv_target]\n",
    "        top_rank_idx = torch.argmax(pop_adv_scores)\n",
    "        elite = nearest_texts[top_rank_idx]\n",
    "        if pop_preds[top_rank_idx] == adv_target:\n",
    "            return nearest_texts[top_rank_idx]\n",
    "\n",
    "        new_nearest_texts = []\n",
    "        for pid in range(pop_size):\n",
    "            x_new = nearest_texts[pid]\n",
    "            change_ratio = count_change_ratio(x_new, x, x_len)\n",
    "            p_change = 1 - 2*change_ratio\n",
    "            if np.random.uniform() < p_change:\n",
    "                best_replace = generatePopulation(x_new, embedding_model, tagger, pop_size=1)[0][0] # only Text Object\n",
    "                new_nearest_texts.append(best_replace)\n",
    "            else:\n",
    "                new_nearest_texts.append(x_new)\n",
    "        nearest_texts = new_nearest_texts\n",
    "        # nearest_texts = [p[0] for p in pop]\n",
    "        # nearest_distances = [p[1] for p in pop]\n",
    "        pop_preds, pop_scores = predict([text.text for text in nearest_texts], tok, model)\n",
    "        pop_adv_scores = torch.stack(pop_scores, dim=0)[:, adv_target]\n",
    "        top_rank_idx = torch.argmax(pop_adv_scores)\n",
    "        new_elite = new_nearest_texts[top_rank_idx]\n",
    "        for pid2 in range(pop_size):\n",
    "            if pop_adv_scores[pid2] > part_elites_scores[pid2]:\n",
    "                part_elites[pid2] = new_nearest_texts[pid2]\n",
    "                part_elites_scores[pid2] = pop_adv_scores[pid2]\n",
    "        if torch.max(pop_adv_scores) > elite_score:\n",
    "            elite = new_elite\n",
    "            elite_score = torch.max(pop_adv_scores)\n",
    "\n",
    "    return None"
   ],
   "outputs": [],
   "metadata": {}
  },
  {
   "cell_type": "code",
   "execution_count": 64,
   "source": [
    "test = '스토리, 재미, 캐릭터 등등 액션 영화의 모든 요소가 살아있는 작품. 괜히 있어보이려 애쓰지 않는데 너무나 멋지다.'\n",
    "test_adv = PSOattack(test, 0, embedding_model=embedding_model, tok=tok, model=model, tagger=tagger)"
   ],
   "outputs": [
    {
     "output_type": "stream",
     "name": "stderr",
     "text": [
      "100%|██████████| 3/3 [00:00<00:00,  7.91it/s]\n",
      "100%|██████████| 3/3 [00:00<00:00,  8.11it/s]\n",
      "100%|██████████| 3/3 [00:00<00:00,  8.15it/s]\n",
      "100%|██████████| 3/3 [00:00<00:00,  8.24it/s]\n",
      "100%|██████████| 3/3 [00:00<00:00,  8.70it/s]\n",
      "100%|██████████| 3/3 [00:00<00:00,  8.84it/s]\n",
      "100%|██████████| 3/3 [00:00<00:00,  8.82it/s]\n",
      "100%|██████████| 3/3 [00:00<00:00,  8.94it/s]\n",
      "100%|██████████| 3/3 [00:00<00:00,  8.83it/s]\n",
      "100%|██████████| 3/3 [00:00<00:00,  8.77it/s]\n",
      "100%|██████████| 3/3 [00:00<00:00,  9.02it/s]\n",
      "100%|██████████| 3/3 [00:00<00:00,  8.70it/s]\n",
      "100%|██████████| 3/3 [00:00<00:00,  8.59it/s]\n",
      "100%|██████████| 3/3 [00:00<00:00,  8.60it/s]\n",
      "100%|██████████| 3/3 [00:00<00:00,  9.01it/s]\n",
      "100%|██████████| 3/3 [00:00<00:00,  8.92it/s]\n",
      "100%|██████████| 3/3 [00:00<00:00,  8.90it/s]\n",
      "100%|██████████| 3/3 [00:00<00:00,  8.75it/s]\n",
      "100%|██████████| 3/3 [00:00<00:00,  8.52it/s]\n",
      "100%|██████████| 3/3 [00:00<00:00,  8.60it/s]\n",
      "100%|██████████| 3/3 [00:00<00:00,  8.76it/s]\n"
     ]
    }
   ],
   "metadata": {}
  },
  {
   "cell_type": "code",
   "execution_count": 66,
   "source": [
    "test_adv"
   ],
   "outputs": [
    {
     "output_type": "error",
     "ename": "TypeError",
     "evalue": "'NoneType' object is not subscriptable",
     "traceback": [
      "\u001b[0;31m---------------------------------------------------------------------------\u001b[0m",
      "\u001b[0;31mTypeError\u001b[0m                                 Traceback (most recent call last)",
      "\u001b[0;32m/tmp/ipykernel_26735/405131965.py\u001b[0m in \u001b[0;36m<module>\u001b[0;34m\u001b[0m\n\u001b[0;32m----> 1\u001b[0;31m \u001b[0mtest_adv\u001b[0m\u001b[0;34m[\u001b[0m\u001b[0;36m0\u001b[0m\u001b[0;34m]\u001b[0m\u001b[0;34m\u001b[0m\u001b[0;34m\u001b[0m\u001b[0m\n\u001b[0m",
      "\u001b[0;31mTypeError\u001b[0m: 'NoneType' object is not subscriptable"
     ]
    }
   ],
   "metadata": {}
  },
  {
   "cell_type": "markdown",
   "source": [
    "Greedy Attack"
   ],
   "metadata": {}
  },
  {
   "cell_type": "code",
   "execution_count": null,
   "source": [
    "def generatePopulation(text_obj, embedding_model, tagger, pop_size):\n",
    "    pop = []\n",
    "    candidates = text_obj.getReplaceCandidates()\n",
    "    if len(candidates) < pop_size:\n",
    "        for cd in candidates:\n",
    "            best_replaces = getNReplacement(embedding_model, tagger, text_obj, cd)\n",
    "            if best_replaces is not None:\n",
    "                pop.extend(best_replaces)\n",
    "        # pop = sorted(pop, key=lambda x: x[1])[:pop_size]\n",
    "        distances = [p[1] for p in pop]\n",
    "        norm_distances = [dist/sum(distances) for dist in distances]\n",
    "        pop_idx = np.random.choice(len(pop), size=pop_size, p=norm_distances)\n",
    "        pop = [pop[idx] for idx in pop_idx]\n",
    "    else:\n",
    "        extra = 0\n",
    "        rand_candidates = random.sample(candidates, pop_size)\n",
    "        for cd in rand_candidates:\n",
    "            best_replaces = getNReplacement(embedding_model, tagger, text_obj, cd)\n",
    "            if best_replaces is not None:\n",
    "                pop.extend(best_replaces[:extra+1])\n",
    "                extra = 0\n",
    "            else:\n",
    "                extra += 1\n",
    "    return pop\n",
    "\n",
    "\n",
    "# Model Inference\n",
    "def predict(texts, tok, model):\n",
    "    ### argument\n",
    "    max_len=64\n",
    "    batch_size=8\n",
    "    ###\n",
    "\n",
    "    preds, scores = [], []\n",
    "    data_infer = BERTDataset(dataset=texts, sent_idx=0, label_idx=None, bert_tokenizer=tok, max_len=max_len, pad=True, pair=False)\n",
    "    infer_dataloader = torch.utils.data.DataLoader(data_infer, batch_size=batch_size, num_workers=1)\n",
    "\n",
    "    model.eval()\n",
    "    for batch_id, (token_ids, valid_length, segment_ids) in enumerate(tqdm(infer_dataloader)):\n",
    "        token_ids = token_ids.long().to(device)\n",
    "        segment_ids = segment_ids.long().to(device)\n",
    "        valid_length= valid_length\n",
    "        with torch.no_grad():    \n",
    "            logits = model(token_ids, valid_length, segment_ids)\n",
    "        pred = torch.argmax(logits, axis=1).cpu().numpy()\n",
    "        score = softmax(logits, dim=1)\n",
    "        preds.extend(pred)\n",
    "        scores.extend(score)\n",
    "        del logits\n",
    "    torch.cuda.empty_cache()\n",
    "    return preds, scores\n",
    "\n",
    "def getNReplacement(embedding_model, tagger, text_obj, word_obj, k=100):\n",
    "    candidate_pos = ['VV', 'VA', 'NNG', 'NNP', 'MAG']\n",
    "    replace_texts = []\n",
    "    idx = word_obj.idx\n",
    "    word = word_obj.word\n",
    "    start_idx = word_obj.start_idx\n",
    "    end_idx = word_obj.end_idx\n",
    "    pos = [token[1] for token in word_obj.tokens]\n",
    "    nearest_neighbors = [neighbor for neighbor in embedding_model.get_nearest_neighbors(word, k=k) if not len(neighbor[1]) > len(word)*5]\n",
    "    nearest_words = [neighbor[1] for neighbor in nearest_neighbors]\n",
    "    nearest_distances = [neighbor[0] for neighbor in nearest_neighbors]\n",
    "\n",
    "    for near_word, dist in zip(nearest_words, nearest_distances):\n",
    "        replace_text = ''.join([text_obj.text[:start_idx], near_word, text_obj.text[end_idx+1:]])\n",
    "        replace_text_obj = Text(replace_text, tagger)\n",
    "        replace_pos = [token[1] for token in replace_text_obj.words[idx].tokens]\n",
    "        # if pos == replace_pos:\n",
    "        #     replace_texts.append((replace_text_obj, dist))\n",
    "        if pos[0] == 'MAG' and replace_pos[0] == 'MAG':\n",
    "            replace_texts.append((replace_text_obj, dist))\n",
    "        elif replace_pos[0] in candidate_pos and pos[-1] == replace_pos[-1]:\n",
    "            replace_texts.append((replace_text_obj, dist))\n",
    "    \n",
    "    if len(replace_texts) > 0:\n",
    "        return replace_texts\n",
    "    else:\n",
    "        return None\n",
    "\n",
    "def GreedyAttak(x_orig, adv_target, **kwargs):\n",
    "    ### argument\n",
    "    pop_size = 20\n",
    "    embedding_model = kwargs['embedding_model']\n",
    "    tok = kwargs['tok']\n",
    "    model = kwargs['model']\n",
    "    tagger = kwargs['tagger']\n",
    "    iterations = 10\n",
    "    ###\n",
    "\n",
    "    x = Text(x_orig, tagger)\n",
    "    x_len = len(x.words)\n",
    "\n",
    "    candidates = x.getReplaceCandidates()\n",
    "    candidates_replaces = dict()\n",
    "    for cd in candidates:\n",
    "        best_replaces = getNPlacement(embedding_model, tagger, x, cd)\n",
    "        if best_replaces is not None\n",
    "            candidates_replaces[cd.word] = best_replaces\n",
    "\n",
    "    for i in range(iterations):\n",
    "        replace_text = x.words\n",
    "        random_candidates = random.sample(candidates, random.randint(1, len(candidates)))\n",
    "        for r_cd in random_candidates:\n",
    "            distances = [rpl[1] for rpl in candidates_replaces[r_cd.word]]\n",
    "            norm_distances = [d/sum(distances) for d in distances]\n",
    "            random_replaces = np.random.choice(candidates_replaces[r_cd.word], size=1, p=norm_distances)\n",
    "            replace_text[r_cd.idx] = r_cd\n",
    "        final_replace = ' '.join([txt.word for word in replace_text])\n",
    "        preds, scores = predict([final_replace], tok, model) # logits\n",
    "        adv_scores = torch.stack(scores, dim=0)[:, adv_target]\n",
    "        top_rank_idx = torch.argmax(adv_scores)\n",
    "        if preds[top_rank_idx] == adv_target:\n",
    "            return Text(final_replace, tagger)"
   ],
   "outputs": [],
   "metadata": {}
  }
 ],
 "metadata": {
  "orig_nbformat": 4,
  "language_info": {
   "name": "python",
   "version": "3.7.10",
   "mimetype": "text/x-python",
   "codemirror_mode": {
    "name": "ipython",
    "version": 3
   },
   "pygments_lexer": "ipython3",
   "nbconvert_exporter": "python",
   "file_extension": ".py"
  },
  "kernelspec": {
   "name": "python3",
   "display_name": "Python 3.7.10 64-bit ('sbse': conda)"
  },
  "interpreter": {
   "hash": "21f9bb8429c2ab361b1d9d2ec03ac7f28e3bdc6e965d8415bdce4abed407f189"
  }
 },
 "nbformat": 4,
 "nbformat_minor": 2
}